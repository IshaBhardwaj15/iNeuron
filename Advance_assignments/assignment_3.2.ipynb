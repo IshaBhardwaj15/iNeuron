{
 "cells": [
  {
   "cell_type": "markdown",
   "id": "737c5e3c",
   "metadata": {},
   "source": [
    "Q1. What is the relationship between classes and modules?"
   ]
  },
  {
   "cell_type": "markdown",
   "id": "08c9dd19",
   "metadata": {},
   "source": [
    "A Python class is like an outline for creating a new object. An object is anything that you wish to manipulate or change while working through the code. Every time a class object is instantiated, which is when we declare a variable, a new object is initiated from scratch. Whereas in Python, Modules are simply files with the . py extension containing Python code that can be imported inside another Python Program. In simple terms, we can consider a module to be the same as a code library or a file that contains a set of functions/Classes that we want to include in our application."
   ]
  },
  {
   "cell_type": "markdown",
   "id": "1ebe5026",
   "metadata": {},
   "source": [
    "Q2. How do you make instances and classes?"
   ]
  },
  {
   "cell_type": "markdown",
   "id": "761cf332",
   "metadata": {},
   "source": [
    "For creating a class instance, we call a class by its name and pass the arguments which its __ init __ method accepts.\n",
    "Example: Isha = Student('Female,123456), Here Isha is an instance of class Student with attriubutes 'Female' and 123456. For creating a class, we use the Class keyword. Class keyword is followed by classname and semicolon. Example: Here Student is a class created with class keyword with arguments gender and roll number.\n",
    "class Employee: def __ init __ (self,gender,RNumber): self.gender = gender self.RNumber = RNumber"
   ]
  },
  {
   "cell_type": "markdown",
   "id": "f3c5ebed",
   "metadata": {},
   "source": [
    "Q3. Where and how should be class attributes created?"
   ]
  },
  {
   "cell_type": "markdown",
   "id": "eba4b0f1",
   "metadata": {},
   "source": [
    "Class attributes or Class level Attributes belong to the class itself. These attributes will be shared by all the instances of the class. Hence these attributes are usually created/defined in the top of class definiation outside all methods. Example: In the below code we are defining a class attribute called Kinds_of_fruits which will be shared by all the instances of the class Fruits\n",
    "class Fruits:Kinds_of_fruits=9; This is a class attribute\n",
    "def __init__(self,color,price): self.color=color self.price=price All these are instance attributes"
   ]
  },
  {
   "cell_type": "markdown",
   "id": "c452f4a7",
   "metadata": {},
   "source": [
    "Q4. Where and how are instance attributes created"
   ]
  },
  {
   "cell_type": "markdown",
   "id": "51772454",
   "metadata": {},
   "source": [
    "Instances attributes are passed to the class when an object of the class is created. Unlike class attributes, instance attributes are not shared by all objects of the classs, instead each object maintains its own copy of instance attributes at object level. Incase of class attributes all instances of class refer to a single copy. Usually instance attributes are defined within the __ init __ method of class. Example: In the below code we are creating a class Fruits with instance varaibles color, price which will be provided when an instance of class Fruits is created.\n",
    "class Fruits: def __ init __ (self,color,price): self.color = color self.price = price \n",
    "apple=Fruits('Red',140)\n",
    "mango=Fruits('Yellow',80)\n",
    "apple, mango are both the instances of class Fruits with different instance variables."
   ]
  },
  {
   "cell_type": "markdown",
   "id": "32003357",
   "metadata": {},
   "source": [
    "Q5. What does the term \"self\" in a Python class mean?"
   ]
  },
  {
   "cell_type": "markdown",
   "id": "6bdb6f37",
   "metadata": {},
   "source": [
    "self represents the instance of the class (it represents the object). By using the “self” keyword we can access the attributes and methods of the class with in the class in python. It binds the attributes with the given arguments."
   ]
  },
  {
   "cell_type": "code",
   "execution_count": 2,
   "id": "fb04feec",
   "metadata": {},
   "outputs": [
    {
     "name": "stdout",
     "output_type": "stream",
     "text": [
      "{'color': 'Red', 'price': 140}\n",
      "{'color': 'Yellow', 'price': 80}\n"
     ]
    }
   ],
   "source": [
    "class Fruits:\n",
    "    def __init__(self,color,price):\n",
    "        self.color = color \n",
    "        self.price = price\n",
    "apple=Fruits('Red',140)\n",
    "mango=Fruits('Yellow',80)\n",
    "print(apple.__dict__)\n",
    "print(mango.__dict__)"
   ]
  },
  {
   "cell_type": "markdown",
   "id": "af691fe8",
   "metadata": {},
   "source": [
    "Q6. How does a Python class handle operator overloading?"
   ]
  },
  {
   "cell_type": "markdown",
   "id": "ef65ee00",
   "metadata": {},
   "source": [
    "Python Classes handle operator overloading by using special methods called Magic methods. These special methods usually begin and end with __ (double underscore)\n",
    "Example: Magic methods for basic arithmetic operators are:+ -> __ add __()- -> __ sub __()* -> __ mul __()/ -> __ div __()"
   ]
  },
  {
   "cell_type": "code",
   "execution_count": 3,
   "id": "3e7749e8",
   "metadata": {},
   "outputs": [
    {
     "name": "stdout",
     "output_type": "stream",
     "text": [
      "The total number of pages in 2 books is 300\n"
     ]
    }
   ],
   "source": [
    "class Book:\n",
    "    def __init__(self,pages):\n",
    "        self.pages = pages\n",
    "    def __add__(self,other):\n",
    "        return self.pages + other.pages\n",
    "b1 = Book(100)\n",
    "b2 = Book(200)\n",
    "print(f'The total number of pages in 2 books is {b1+b2}')"
   ]
  },
  {
   "cell_type": "markdown",
   "id": "9c27e849",
   "metadata": {},
   "source": [
    "Q7. When do you consider allowing operator overloading of your classes?"
   ]
  },
  {
   "cell_type": "markdown",
   "id": "d8cdcd7b",
   "metadata": {},
   "source": [
    "When we want to have different meaning for the same operator accroding to the context we use operator overloading."
   ]
  },
  {
   "cell_type": "markdown",
   "id": "5483bf61",
   "metadata": {},
   "source": [
    "Q8. What is the most popular form of operator overloading?"
   ]
  },
  {
   "cell_type": "markdown",
   "id": "8106396c",
   "metadata": {},
   "source": [
    "The most popular form of operator overloading in python is by special methods called Magic methods. Which usually beign and end with double underscore ____"
   ]
  },
  {
   "cell_type": "markdown",
   "id": "c2ee169f",
   "metadata": {},
   "source": [
    "Q9. What are the two most important concepts to grasp in order to comprehend Python OOP code?"
   ]
  },
  {
   "cell_type": "markdown",
   "id": "685e6d66",
   "metadata": {},
   "source": [
    "Classes and objects are the two concepts to comprehend python OOP code as more formally objects are entities that represent instances of general abstract concept called class. Along with classes and objects the important concepts to grasp are:\n",
    "1. Inheritence\n",
    "2. Abstraction\n",
    "3. Polymorphism\n",
    "4. Encapsulation"
   ]
  }
 ],
 "metadata": {
  "kernelspec": {
   "display_name": "Python 3 (ipykernel)",
   "language": "python",
   "name": "python3"
  },
  "language_info": {
   "codemirror_mode": {
    "name": "ipython",
    "version": 3
   },
   "file_extension": ".py",
   "mimetype": "text/x-python",
   "name": "python",
   "nbconvert_exporter": "python",
   "pygments_lexer": "ipython3",
   "version": "3.9.7"
  }
 },
 "nbformat": 4,
 "nbformat_minor": 5
}
