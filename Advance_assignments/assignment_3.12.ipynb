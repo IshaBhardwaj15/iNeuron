{
 "cells": [
  {
   "cell_type": "markdown",
   "id": "f4d6d295",
   "metadata": {},
   "source": [
    "Q1. Does assigning a value to a string's indexed character violate Python's string immutability?"
   ]
  },
  {
   "cell_type": "markdown",
   "id": "a9dc8a8d",
   "metadata": {},
   "source": [
    "In python, the string data types are immutable. Which means a string value cannot be updated."
   ]
  },
  {
   "cell_type": "code",
   "execution_count": 1,
   "id": "0c2e5f98",
   "metadata": {},
   "outputs": [
    {
     "name": "stdout",
     "output_type": "stream",
     "text": [
      "<class 'str'>\n"
     ]
    },
    {
     "ename": "TypeError",
     "evalue": "'str' object does not support item assignment",
     "output_type": "error",
     "traceback": [
      "\u001b[1;31m---------------------------------------------------------------------------\u001b[0m",
      "\u001b[1;31mTypeError\u001b[0m                                 Traceback (most recent call last)",
      "\u001b[1;32m~\\AppData\\Local\\Temp/ipykernel_21524/1737583924.py\u001b[0m in \u001b[0;36m<module>\u001b[1;34m\u001b[0m\n\u001b[0;32m      1\u001b[0m \u001b[0mt\u001b[0m\u001b[1;33m=\u001b[0m\u001b[1;34m\"IshaBhardwaj\"\u001b[0m\u001b[1;33m\u001b[0m\u001b[1;33m\u001b[0m\u001b[0m\n\u001b[0;32m      2\u001b[0m \u001b[0mprint\u001b[0m\u001b[1;33m(\u001b[0m\u001b[0mtype\u001b[0m\u001b[1;33m(\u001b[0m\u001b[0mt\u001b[0m\u001b[1;33m)\u001b[0m\u001b[1;33m)\u001b[0m\u001b[1;33m\u001b[0m\u001b[1;33m\u001b[0m\u001b[0m\n\u001b[1;32m----> 3\u001b[1;33m \u001b[0mt\u001b[0m\u001b[1;33m[\u001b[0m\u001b[1;36m0\u001b[0m\u001b[1;33m]\u001b[0m\u001b[1;33m=\u001b[0m\u001b[1;34m\"M\"\u001b[0m\u001b[1;33m\u001b[0m\u001b[1;33m\u001b[0m\u001b[0m\n\u001b[0m",
      "\u001b[1;31mTypeError\u001b[0m: 'str' object does not support item assignment"
     ]
    }
   ],
   "source": [
    "t=\"IshaBhardwaj\"\n",
    "print(type(t))\n",
    "t[0]=\"M\""
   ]
  },
  {
   "cell_type": "markdown",
   "id": "b693da90",
   "metadata": {},
   "source": [
    "Q2. Does using the += operator to concatenate strings violate Python's string immutability? Why or why not?"
   ]
  },
  {
   "cell_type": "markdown",
   "id": "2e128aee",
   "metadata": {},
   "source": [
    "+= operator is used to concatenate strings, it does not violate Python’s string immutability property because doing so creates a new association with data and variable."
   ]
  },
  {
   "cell_type": "code",
   "execution_count": 2,
   "id": "02d7dfb3",
   "metadata": {},
   "outputs": [
    {
     "name": "stdout",
     "output_type": "stream",
     "text": [
      "47302768\n",
      "97191088\n"
     ]
    }
   ],
   "source": [
    "s1='a'\n",
    "print(id(s1))\n",
    "s1+='b'\n",
    "print(id(s1))"
   ]
  },
  {
   "cell_type": "markdown",
   "id": "0d761d99",
   "metadata": {},
   "source": [
    "Q3. In Python, how many different ways are there to index a character?"
   ]
  },
  {
   "cell_type": "markdown",
   "id": "fd949dc0",
   "metadata": {},
   "source": [
    "Indexing means referring to an element of an iterable by its position within the iterable. Each of a string’s characters corresponds to an index number and each character can be accessed using its index number. We can access characters in a String in Two ways :\n",
    "\n",
    "Accessing Characters by Positive Index Number: In this type of Indexing, we pass a Positive index(which we want to access) in square brackets. The index number starts from index number 0 (which denotes the first character of a string).\n",
    "\n",
    "Accessing Characters by Negative Index Number:In this type of Indexing, we pass the Negative index(which we want to access) in square brackets. Here the index number starts from index number -1 (which denotes the last character of a string)."
   ]
  },
  {
   "cell_type": "code",
   "execution_count": 3,
   "id": "e63c0832",
   "metadata": {},
   "outputs": [
    {
     "name": "stdout",
     "output_type": "stream",
     "text": [
      "M\n",
      "a\n",
      "a\n"
     ]
    }
   ],
   "source": [
    "#Accessing Characters by Positive Index Number:\n",
    "str = \"May your day be as good as you want it to be\" \n",
    "print(str[0])\n",
    "print(str[16])\n",
    "print(str[10])"
   ]
  },
  {
   "cell_type": "code",
   "execution_count": 4,
   "id": "e9af3dfe",
   "metadata": {},
   "outputs": [
    {
     "name": "stdout",
     "output_type": "stream",
     "text": [
      "e\n",
      "o\n",
      "t\n"
     ]
    }
   ],
   "source": [
    "#Accessing Characters by Negative Index Number:\n",
    "str = \"May your day be as good as you want it to be\" \n",
    "print(str[-1])\n",
    "print(str[-16])\n",
    "print(str[-10])"
   ]
  },
  {
   "cell_type": "markdown",
   "id": "f3f07b4b",
   "metadata": {},
   "source": [
    "Q4. What is the relationship between indexing and slicing?"
   ]
  },
  {
   "cell_type": "markdown",
   "id": "df6cb262",
   "metadata": {},
   "source": [
    "Slicing in Python is a feature that enables accessing parts of the sequence. In slicing a string, we create a substring, which is essentially a string that exists within another string. We use slicing when we require a part of the string and not the complete string"
   ]
  },
  {
   "cell_type": "code",
   "execution_count": 5,
   "id": "de40deb8",
   "metadata": {},
   "outputs": [
    {
     "name": "stdout",
     "output_type": "stream",
     "text": [
      "May\n",
      "a \n",
      "e tt n\n",
      "eb ot ti tnaw uoy sa doog sa eb yad ruoy yaM\n"
     ]
    }
   ],
   "source": [
    "#Accessing Characters by Negative Index Number:\n",
    "str = \"May your day be as good as you want it to be\"\n",
    "print(str[: 3])\n",
    "print(str[1 : 5 : 2])\n",
    "print(str[-1 : -12 : -2])\n",
    "print(str[: : -1])"
   ]
  },
  {
   "cell_type": "markdown",
   "id": "df02a066",
   "metadata": {},
   "source": [
    "Q5. What is an indexed character's exact data type? What is the data form of a slicing-generated substring?"
   ]
  },
  {
   "cell_type": "markdown",
   "id": "7de01e8e",
   "metadata": {},
   "source": [
    "indexed character's exact datatype is String and so does for silicing-generated substring"
   ]
  },
  {
   "cell_type": "markdown",
   "id": "51a1623f",
   "metadata": {},
   "source": [
    "Q6. What is the relationship between string and character \"types\" in Python?"
   ]
  },
  {
   "cell_type": "markdown",
   "id": "91efb409",
   "metadata": {},
   "source": [
    "both are string data types."
   ]
  },
  {
   "cell_type": "markdown",
   "id": "065bdfa3",
   "metadata": {},
   "source": [
    "Q7. Identify at least two operators and one method that allow you to combine one or more smaller strings to create a larger string."
   ]
  },
  {
   "cell_type": "markdown",
   "id": "ca86d752",
   "metadata": {},
   "source": [
    "+, += and * allow to combine one or more smaller strings to create a larger string. .join() method joins element of iterable type like list and tuple to get a combined string."
   ]
  },
  {
   "cell_type": "markdown",
   "id": "86e6548c",
   "metadata": {},
   "source": [
    "Q8. What is the benefit of first checking the target string with in or not in before using the index method to find a substring?"
   ]
  },
  {
   "cell_type": "markdown",
   "id": "d63f0041",
   "metadata": {},
   "source": [
    "Checking the target string with in or not Operators before using the index method to find a substring just helps confirming availability of substring and thus avoid raising of ValueError"
   ]
  },
  {
   "cell_type": "markdown",
   "id": "20a4212b",
   "metadata": {},
   "source": [
    "Q9. Which operators and built-in string methods produce simple Boolean (true/false) results?"
   ]
  },
  {
   "cell_type": "markdown",
   "id": "ad270d0e",
   "metadata": {},
   "source": [
    "1. in\n",
    "2. not\n",
    "3. .isalpha()\n",
    "4. .isalnum()\n",
    "5. .isdecimal()\n",
    "6. .isdigit()\n",
    "7. .islower()\n",
    "8. .isnumeric()\n",
    "9. .isprintable()\n",
    "10. .isspace()\n",
    "11. .istitle()"
   ]
  }
 ],
 "metadata": {
  "kernelspec": {
   "display_name": "Python 3 (ipykernel)",
   "language": "python",
   "name": "python3"
  },
  "language_info": {
   "codemirror_mode": {
    "name": "ipython",
    "version": 3
   },
   "file_extension": ".py",
   "mimetype": "text/x-python",
   "name": "python",
   "nbconvert_exporter": "python",
   "pygments_lexer": "ipython3",
   "version": "3.9.7"
  }
 },
 "nbformat": 4,
 "nbformat_minor": 5
}
