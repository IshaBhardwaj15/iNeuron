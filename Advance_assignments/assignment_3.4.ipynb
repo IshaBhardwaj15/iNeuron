{
 "cells": [
  {
   "cell_type": "markdown",
   "id": "c9b335c3",
   "metadata": {},
   "source": [
    "Q1. Which two operator overloading methods can you use in your classes to support iteration?"
   ]
  },
  {
   "cell_type": "markdown",
   "id": "3954a3eb",
   "metadata": {},
   "source": [
    "__ iter__ and __ next__ are the operator overloading methods in python that support iteration and are collectively called iterator protocol.\n",
    "__ iter__ returns the iterator object and is called at the start of loop in our respective class.\n",
    "__ next__ is called at each loop increment, it returns the incremented value. Also Stopiteration is raised when there is no value to return."
   ]
  },
  {
   "cell_type": "code",
   "execution_count": 1,
   "id": "fe8101df",
   "metadata": {},
   "outputs": [
    {
     "name": "stdout",
     "output_type": "stream",
     "text": [
      "5 6 7 8 9 10 11 12 13 14 15 "
     ]
    }
   ],
   "source": [
    "class Car:\n",
    "    def __init__(self,price1,price2):\n",
    "        self.current=price1\n",
    "        self.price2=price2\n",
    "    def __iter__(self):\n",
    "        return self\n",
    "    def __next__(self):\n",
    "        if self.current>self.price2:\n",
    "            raise StopIteration\n",
    "        else:\n",
    "            self.current+= 1\n",
    "            return self.current - 1\n",
    "for i in Car(5,15):\n",
    "    print(i, end=\" \")"
   ]
  },
  {
   "cell_type": "markdown",
   "id": "690719e0",
   "metadata": {},
   "source": [
    "Q2. In what contexts do the two operator overloading methods manage printing?"
   ]
  },
  {
   "cell_type": "markdown",
   "id": "da8a86f3",
   "metadata": {},
   "source": [
    "__ str__ and __ repr__ are two operator overloading methods that manage printing.\n",
    "The difference between both these operators is the goal of __ repr__ is to be unambiguous and __ str__ is to be readable.\n",
    "Whenever we are printing any object reference internally __ str__ method will be called by default.\n",
    "The main purpose of __ str__ is for readability. It prints the informal string representation of an object, one that is useful for printing the object. It may not be possible to convert result string to original object.\n",
    "__ repr__ is used to print official string representation of an object, so it includes all information and development."
   ]
  },
  {
   "cell_type": "markdown",
   "id": "ecfa62f4",
   "metadata": {},
   "source": [
    "Q3. In a class, how do you intercept slice operations?"
   ]
  },
  {
   "cell_type": "markdown",
   "id": "8eaf680f",
   "metadata": {},
   "source": [
    "In a class use of slice() in __ getitem__ method is used for intercept slice operation. This slice method is provided with start integer number, stop integer number and step integer number.\n",
    "Example: __ getitem__(slice(start,stop,step))"
   ]
  },
  {
   "cell_type": "markdown",
   "id": "6fce875b",
   "metadata": {},
   "source": [
    "Q4. In a class, how do you capture in-place addition?"
   ]
  },
  {
   "cell_type": "markdown",
   "id": "c407fc65",
   "metadata": {},
   "source": [
    "a+b is normal addition. Whereas a+=b is inplace addition operation. In this in-place addition a itself will store the value of addition. In a class __ iadd__ method is used for this in-place operation."
   ]
  },
  {
   "cell_type": "markdown",
   "id": "1aad4fdf",
   "metadata": {},
   "source": [
    "Q5. When is it appropriate to use operator overloading?"
   ]
  },
  {
   "cell_type": "markdown",
   "id": "9bd38023",
   "metadata": {},
   "source": [
    "Operator overloading is used when we want to use an operator other than its normal operation to have different meaning according to the context required in user defined function."
   ]
  }
 ],
 "metadata": {
  "kernelspec": {
   "display_name": "Python 3 (ipykernel)",
   "language": "python",
   "name": "python3"
  },
  "language_info": {
   "codemirror_mode": {
    "name": "ipython",
    "version": 3
   },
   "file_extension": ".py",
   "mimetype": "text/x-python",
   "name": "python",
   "nbconvert_exporter": "python",
   "pygments_lexer": "ipython3",
   "version": "3.9.7"
  }
 },
 "nbformat": 4,
 "nbformat_minor": 5
}
