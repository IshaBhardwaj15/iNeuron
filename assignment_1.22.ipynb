{
 "cells": [
  {
   "cell_type": "code",
   "execution_count": 1,
   "id": "ec8fec7f",
   "metadata": {},
   "outputs": [],
   "source": [
    "#Q1. What is the result of the code, and explain?\n",
    "#>>> X = 'iNeuron'\n",
    "#>>> def func():\n",
    "#print(X)\n",
    "#>>> func()\n",
    "#A1. The Result of this code is iNeuron because the function intially looks for the variable X in its local scope.\n",
    "#But since there is no local variable X, it returns the value of global variable x ie iNeuron"
   ]
  },
  {
   "cell_type": "code",
   "execution_count": 2,
   "id": "622aab6e",
   "metadata": {},
   "outputs": [
    {
     "name": "stdout",
     "output_type": "stream",
     "text": [
      "iNeuron\n"
     ]
    }
   ],
   "source": [
    "X = 'iNeuron'\n",
    "def func():\n",
    "    print(X)\n",
    "func()"
   ]
  },
  {
   "cell_type": "code",
   "execution_count": 3,
   "id": "cb65f57c",
   "metadata": {},
   "outputs": [],
   "source": [
    "#Q2. What is the result of the code, and explain?\n",
    "#>>> X = 'iNeuron'\n",
    "#>>> def func():\n",
    "#X = 'NI!'\n",
    "#>>> func()\n",
    "#>>> print(X)\n",
    "#A2. The Result of this code is NI! because the function initially looks for the variable X in its local scope, if X is not \n",
    "#available then it checks for variable X in the global scope. Since here the X is present in the local scope, it prints the \n",
    "#value NI!"
   ]
  },
  {
   "cell_type": "code",
   "execution_count": 4,
   "id": "087d105a",
   "metadata": {},
   "outputs": [
    {
     "name": "stdout",
     "output_type": "stream",
     "text": [
      "NI!\n"
     ]
    }
   ],
   "source": [
    "X = 'iNeuron'\n",
    "def func():\n",
    "    X = 'NI!'\n",
    "    print(X)\n",
    "func()"
   ]
  },
  {
   "cell_type": "code",
   "execution_count": 5,
   "id": "d909d01e",
   "metadata": {},
   "outputs": [],
   "source": [
    "#Q3. What does this code print, and why?\n",
    "#>>> X = 'iNeuron'\n",
    "#>>> def func():\n",
    "#X = 'NI'\n",
    "#print(X)\n",
    "#>>> func()\n",
    "#>>> print(X)\n",
    "#A3. The output of the code is NI and iNeuron. X=NI is in the local scope of the function func() hence the function prints the \n",
    "#x value as NI. X='iNeuron' is in the global scope. Hence print(X) prints output as iNeuron"
   ]
  },
  {
   "cell_type": "code",
   "execution_count": 6,
   "id": "fdc2a896",
   "metadata": {},
   "outputs": [
    {
     "name": "stdout",
     "output_type": "stream",
     "text": [
      "NI\n",
      "iNeuron\n"
     ]
    }
   ],
   "source": [
    "X = 'iNeuron'\n",
    "def func():\n",
    "    X = 'NI'\n",
    "    print(X)\n",
    "func()\n",
    "print(X)"
   ]
  },
  {
   "cell_type": "code",
   "execution_count": 7,
   "id": "07d9bd26",
   "metadata": {},
   "outputs": [],
   "source": [
    "#Q4. What output does this code produce? Why?\n",
    "#>>> X = 'iNeuron'\n",
    "#>>> def func():\n",
    "#global X\n",
    "#X = 'NI'\n",
    "#>>> func()\n",
    "#>>> print(X)\n",
    "#A4. The output of the code is NI. The global keyword allows a variable to be accessible in the current scope. Since we are \n",
    "#using global keyword inside the function func it directly access the variable in X in global scope and changes its value to\n",
    "#NI. Hence the output of the code is NI"
   ]
  },
  {
   "cell_type": "code",
   "execution_count": 8,
   "id": "1e08ae38",
   "metadata": {},
   "outputs": [
    {
     "name": "stdout",
     "output_type": "stream",
     "text": [
      "NI\n"
     ]
    }
   ],
   "source": [
    "X = 'iNeuron'\n",
    "def func():\n",
    "    global X\n",
    "    X = 'NI'\n",
    "func()\n",
    "print(X)"
   ]
  },
  {
   "cell_type": "code",
   "execution_count": 9,
   "id": "66f37939",
   "metadata": {},
   "outputs": [],
   "source": [
    "#Q5. What about this code—what’s the output, and why?\n",
    "#>>> X = 'iNeuron'\n",
    "#>>> def func():\n",
    "#X = 'NI'\n",
    "#def nested():\n",
    "#print(X)\n",
    "#nested()\n",
    "#>>> func()\n",
    "#>>> X\n",
    "#A5. The output of the code is NI. The reason for this output is if a function wants to access a variable, if its not available \n",
    "#in its localscope, it looks for the variable in its global scope. Similarly here also function nested looks for variable X in \n",
    "#its global scope. Hence the output of the code is NI"
   ]
  },
  {
   "cell_type": "code",
   "execution_count": 10,
   "id": "57715b11",
   "metadata": {},
   "outputs": [
    {
     "name": "stdout",
     "output_type": "stream",
     "text": [
      "NI\n"
     ]
    },
    {
     "data": {
      "text/plain": [
       "'iNeuron'"
      ]
     },
     "execution_count": 10,
     "metadata": {},
     "output_type": "execute_result"
    }
   ],
   "source": [
    "X = 'iNeuron'\n",
    "def func():\n",
    "    X = 'NI'\n",
    "    def nested():\n",
    "        print(X)\n",
    "    nested()\n",
    "func()\n",
    "X"
   ]
  },
  {
   "cell_type": "code",
   "execution_count": 11,
   "id": "f56690dc",
   "metadata": {},
   "outputs": [],
   "source": [
    "#Q6. How about this code: what is its output in Python 3, and explain?\n",
    "#>>> def func():\n",
    "#X = 'NI'\n",
    "#def nested():\n",
    "#nonlocal X\n",
    "#X = 'Spam'\n",
    "#nested()\n",
    "#print(X)\n",
    "#>>> func()\n",
    "#A6. The output of the code is Spam. nonlocal keyword in python is used to declare a variable as not local. Hence the statement \n",
    "#X = \"Spam\" is modified in the global scope. Hence the output of print(X) statement is Spam"
   ]
  },
  {
   "cell_type": "code",
   "execution_count": 12,
   "id": "ad4a3050",
   "metadata": {},
   "outputs": [
    {
     "name": "stdout",
     "output_type": "stream",
     "text": [
      "Spam\n"
     ]
    }
   ],
   "source": [
    "def func():\n",
    "    X = 'NI'\n",
    "    def nested():\n",
    "        nonlocal X\n",
    "        X = 'Spam'\n",
    "    nested()\n",
    "    print(X)\n",
    "func()"
   ]
  }
 ],
 "metadata": {
  "kernelspec": {
   "display_name": "Python 3 (ipykernel)",
   "language": "python",
   "name": "python3"
  },
  "language_info": {
   "codemirror_mode": {
    "name": "ipython",
    "version": 3
   },
   "file_extension": ".py",
   "mimetype": "text/x-python",
   "name": "python",
   "nbconvert_exporter": "python",
   "pygments_lexer": "ipython3",
   "version": "3.9.7"
  }
 },
 "nbformat": 4,
 "nbformat_minor": 5
}
