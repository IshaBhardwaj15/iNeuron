{
 "cells": [
  {
   "cell_type": "code",
   "execution_count": 1,
   "id": "2232add5",
   "metadata": {},
   "outputs": [
    {
     "ename": "AssertionError",
     "evalue": "Spam shouldnt be a -ve number",
     "output_type": "error",
     "traceback": [
      "\u001b[1;31m---------------------------------------------------------------------------\u001b[0m",
      "\u001b[1;31mAssertionError\u001b[0m                            Traceback (most recent call last)",
      "\u001b[1;32m~\\AppData\\Local\\Temp/ipykernel_9912/9622195.py\u001b[0m in \u001b[0;36m<module>\u001b[1;34m\u001b[0m\n\u001b[0;32m      2\u001b[0m \u001b[1;31m#A1. code\u001b[0m\u001b[1;33m\u001b[0m\u001b[1;33m\u001b[0m\u001b[0m\n\u001b[0;32m      3\u001b[0m \u001b[0mspam\u001b[0m \u001b[1;33m=\u001b[0m \u001b[1;33m-\u001b[0m\u001b[1;36m22\u001b[0m\u001b[1;33m\u001b[0m\u001b[1;33m\u001b[0m\u001b[0m\n\u001b[1;32m----> 4\u001b[1;33m \u001b[1;32massert\u001b[0m \u001b[0mspam\u001b[0m \u001b[1;33m>=\u001b[0m\u001b[1;36m0\u001b[0m\u001b[1;33m,\u001b[0m \u001b[1;34m'Spam shouldnt be a -ve number'\u001b[0m\u001b[1;33m\u001b[0m\u001b[1;33m\u001b[0m\u001b[0m\n\u001b[0m",
      "\u001b[1;31mAssertionError\u001b[0m: Spam shouldnt be a -ve number"
     ]
    }
   ],
   "source": [
    "#Q1. Create an assert statement that throws an AssertionError if the variable spam is a negative integer.\n",
    "#A1. code\n",
    "spam = -22\n",
    "assert spam >=0, 'Spam shouldnt be a -ve number'"
   ]
  },
  {
   "cell_type": "code",
   "execution_count": 2,
   "id": "891c8dd2",
   "metadata": {},
   "outputs": [],
   "source": [
    "#Q2. Write an assert statement that triggers an AssertionError if the variables eggs and bacon contain strings that are the \n",
    "#same as each other, even if their cases are different (that is, 'hello' and 'hello' are considered the same, \n",
    "#and 'goodbye' and 'GOODbye' are also considered the same).\n",
    "#A2. code\n",
    "def abc(egg,bacon):\n",
    "    egg = egg.upper()\n",
    "    bacon = bacon.upper()\n",
    "    assert not(egg == bacon), 'Eggs and Bacon shouldnt contain same string'"
   ]
  },
  {
   "cell_type": "code",
   "execution_count": 3,
   "id": "ee97419d",
   "metadata": {},
   "outputs": [
    {
     "ename": "AssertionError",
     "evalue": "Eggs and Bacon shouldnt contain same string",
     "output_type": "error",
     "traceback": [
      "\u001b[1;31m---------------------------------------------------------------------------\u001b[0m",
      "\u001b[1;31mAssertionError\u001b[0m                            Traceback (most recent call last)",
      "\u001b[1;32m~\\AppData\\Local\\Temp/ipykernel_9912/1243904867.py\u001b[0m in \u001b[0;36m<module>\u001b[1;34m\u001b[0m\n\u001b[1;32m----> 1\u001b[1;33m \u001b[0mabc\u001b[0m\u001b[1;33m(\u001b[0m\u001b[1;34m'hello'\u001b[0m\u001b[1;33m,\u001b[0m\u001b[1;34m'hello'\u001b[0m\u001b[1;33m)\u001b[0m\u001b[1;33m\u001b[0m\u001b[1;33m\u001b[0m\u001b[0m\n\u001b[0m",
      "\u001b[1;32m~\\AppData\\Local\\Temp/ipykernel_9912/3084965479.py\u001b[0m in \u001b[0;36mabc\u001b[1;34m(egg, bacon)\u001b[0m\n\u001b[0;32m      6\u001b[0m     \u001b[0megg\u001b[0m \u001b[1;33m=\u001b[0m \u001b[0megg\u001b[0m\u001b[1;33m.\u001b[0m\u001b[0mupper\u001b[0m\u001b[1;33m(\u001b[0m\u001b[1;33m)\u001b[0m\u001b[1;33m\u001b[0m\u001b[1;33m\u001b[0m\u001b[0m\n\u001b[0;32m      7\u001b[0m     \u001b[0mbacon\u001b[0m \u001b[1;33m=\u001b[0m \u001b[0mbacon\u001b[0m\u001b[1;33m.\u001b[0m\u001b[0mupper\u001b[0m\u001b[1;33m(\u001b[0m\u001b[1;33m)\u001b[0m\u001b[1;33m\u001b[0m\u001b[1;33m\u001b[0m\u001b[0m\n\u001b[1;32m----> 8\u001b[1;33m     \u001b[1;32massert\u001b[0m \u001b[1;32mnot\u001b[0m\u001b[1;33m(\u001b[0m\u001b[0megg\u001b[0m \u001b[1;33m==\u001b[0m \u001b[0mbacon\u001b[0m\u001b[1;33m)\u001b[0m\u001b[1;33m,\u001b[0m \u001b[1;34m'Eggs and Bacon shouldnt contain same string'\u001b[0m\u001b[1;33m\u001b[0m\u001b[1;33m\u001b[0m\u001b[0m\n\u001b[0m",
      "\u001b[1;31mAssertionError\u001b[0m: Eggs and Bacon shouldnt contain same string"
     ]
    }
   ],
   "source": [
    "abc('hello','hello')"
   ]
  },
  {
   "cell_type": "code",
   "execution_count": 4,
   "id": "9dbb5c1e",
   "metadata": {},
   "outputs": [
    {
     "ename": "AssertionError",
     "evalue": "Eggs and Bacon shouldnt contain same string",
     "output_type": "error",
     "traceback": [
      "\u001b[1;31m---------------------------------------------------------------------------\u001b[0m",
      "\u001b[1;31mAssertionError\u001b[0m                            Traceback (most recent call last)",
      "\u001b[1;32m~\\AppData\\Local\\Temp/ipykernel_9912/3658394500.py\u001b[0m in \u001b[0;36m<module>\u001b[1;34m\u001b[0m\n\u001b[1;32m----> 1\u001b[1;33m \u001b[0mabc\u001b[0m\u001b[1;33m(\u001b[0m\u001b[1;34m'goodbye'\u001b[0m\u001b[1;33m,\u001b[0m\u001b[1;34m'GOODbye'\u001b[0m\u001b[1;33m)\u001b[0m\u001b[1;33m\u001b[0m\u001b[1;33m\u001b[0m\u001b[0m\n\u001b[0m",
      "\u001b[1;32m~\\AppData\\Local\\Temp/ipykernel_9912/3084965479.py\u001b[0m in \u001b[0;36mabc\u001b[1;34m(egg, bacon)\u001b[0m\n\u001b[0;32m      6\u001b[0m     \u001b[0megg\u001b[0m \u001b[1;33m=\u001b[0m \u001b[0megg\u001b[0m\u001b[1;33m.\u001b[0m\u001b[0mupper\u001b[0m\u001b[1;33m(\u001b[0m\u001b[1;33m)\u001b[0m\u001b[1;33m\u001b[0m\u001b[1;33m\u001b[0m\u001b[0m\n\u001b[0;32m      7\u001b[0m     \u001b[0mbacon\u001b[0m \u001b[1;33m=\u001b[0m \u001b[0mbacon\u001b[0m\u001b[1;33m.\u001b[0m\u001b[0mupper\u001b[0m\u001b[1;33m(\u001b[0m\u001b[1;33m)\u001b[0m\u001b[1;33m\u001b[0m\u001b[1;33m\u001b[0m\u001b[0m\n\u001b[1;32m----> 8\u001b[1;33m     \u001b[1;32massert\u001b[0m \u001b[1;32mnot\u001b[0m\u001b[1;33m(\u001b[0m\u001b[0megg\u001b[0m \u001b[1;33m==\u001b[0m \u001b[0mbacon\u001b[0m\u001b[1;33m)\u001b[0m\u001b[1;33m,\u001b[0m \u001b[1;34m'Eggs and Bacon shouldnt contain same string'\u001b[0m\u001b[1;33m\u001b[0m\u001b[1;33m\u001b[0m\u001b[0m\n\u001b[0m",
      "\u001b[1;31mAssertionError\u001b[0m: Eggs and Bacon shouldnt contain same string"
     ]
    }
   ],
   "source": [
    "abc('goodbye','GOODbye')"
   ]
  },
  {
   "cell_type": "code",
   "execution_count": 5,
   "id": "64e2737e",
   "metadata": {},
   "outputs": [],
   "source": [
    "abc('apple','sauce')"
   ]
  },
  {
   "cell_type": "code",
   "execution_count": 8,
   "id": "8e273b96",
   "metadata": {},
   "outputs": [
    {
     "ename": "AssertionError",
     "evalue": "Always show Assertion Error",
     "output_type": "error",
     "traceback": [
      "\u001b[1;31m---------------------------------------------------------------------------\u001b[0m",
      "\u001b[1;31mAssertionError\u001b[0m                            Traceback (most recent call last)",
      "\u001b[1;32m~\\AppData\\Local\\Temp/ipykernel_9912/3429914912.py\u001b[0m in \u001b[0;36m<module>\u001b[1;34m\u001b[0m\n\u001b[0;32m      3\u001b[0m \u001b[1;32mdef\u001b[0m \u001b[0mxyz\u001b[0m\u001b[1;33m(\u001b[0m\u001b[0ma\u001b[0m\u001b[1;33m)\u001b[0m\u001b[1;33m:\u001b[0m\u001b[1;33m\u001b[0m\u001b[1;33m\u001b[0m\u001b[0m\n\u001b[0;32m      4\u001b[0m     \u001b[1;32massert\u001b[0m \u001b[1;32mFalse\u001b[0m\u001b[1;33m,\u001b[0m \u001b[1;34m'Always show Assertion Error'\u001b[0m\u001b[1;33m\u001b[0m\u001b[1;33m\u001b[0m\u001b[0m\n\u001b[1;32m----> 5\u001b[1;33m \u001b[0mxyz\u001b[0m\u001b[1;33m(\u001b[0m\u001b[1;34m'prq'\u001b[0m\u001b[1;33m)\u001b[0m\u001b[1;33m\u001b[0m\u001b[1;33m\u001b[0m\u001b[0m\n\u001b[0m",
      "\u001b[1;32m~\\AppData\\Local\\Temp/ipykernel_9912/3429914912.py\u001b[0m in \u001b[0;36mxyz\u001b[1;34m(a)\u001b[0m\n\u001b[0;32m      2\u001b[0m \u001b[1;31m#A3. code\u001b[0m\u001b[1;33m\u001b[0m\u001b[1;33m\u001b[0m\u001b[0m\n\u001b[0;32m      3\u001b[0m \u001b[1;32mdef\u001b[0m \u001b[0mxyz\u001b[0m\u001b[1;33m(\u001b[0m\u001b[0ma\u001b[0m\u001b[1;33m)\u001b[0m\u001b[1;33m:\u001b[0m\u001b[1;33m\u001b[0m\u001b[1;33m\u001b[0m\u001b[0m\n\u001b[1;32m----> 4\u001b[1;33m     \u001b[1;32massert\u001b[0m \u001b[1;32mFalse\u001b[0m\u001b[1;33m,\u001b[0m \u001b[1;34m'Always show Assertion Error'\u001b[0m\u001b[1;33m\u001b[0m\u001b[1;33m\u001b[0m\u001b[0m\n\u001b[0m\u001b[0;32m      5\u001b[0m \u001b[0mxyz\u001b[0m\u001b[1;33m(\u001b[0m\u001b[1;34m'prq'\u001b[0m\u001b[1;33m)\u001b[0m\u001b[1;33m\u001b[0m\u001b[1;33m\u001b[0m\u001b[0m\n",
      "\u001b[1;31mAssertionError\u001b[0m: Always show Assertion Error"
     ]
    }
   ],
   "source": [
    "#Q3. Create an assert statement that throws an AssertionError every time.\n",
    "#A3. code\n",
    "def xyz(a):\n",
    "    assert False, 'Always show Assertion Error'\n",
    "xyz('prq')"
   ]
  },
  {
   "cell_type": "code",
   "execution_count": 9,
   "id": "a117a581",
   "metadata": {},
   "outputs": [],
   "source": [
    "#Q4. What are the two lines that must be present in your software in order to call logging.debug()?\n",
    "#A4. code\n",
    "import logging\n",
    "logging.basicConfig(filename = 'application_log.txt',level=logging.DEBUG, format=' %(asctime)s - %(levelname)s - %(message)s')"
   ]
  },
  {
   "cell_type": "code",
   "execution_count": 10,
   "id": "59e235dd",
   "metadata": {},
   "outputs": [],
   "source": [
    "#Q5. What are the two lines that your program must have in order to have logging.debug() send a logging message to a file \n",
    "#named programLog.txt?\n",
    "#A5. code\n",
    "import logging\n",
    "logging.basicConfig(filename = 'application_log.txt',level=logging.DEBUG, format=' %(asctime)s - %(levelname)s - %(message)s')\n",
    "logging.debug(\"Data Inserted Successfully\")\n",
    "logging.debug('Connection Closed Successfully')"
   ]
  },
  {
   "cell_type": "code",
   "execution_count": 11,
   "id": "c3e90e6b",
   "metadata": {},
   "outputs": [
    {
     "name": "stdout",
     "output_type": "stream",
     "text": [
      " 2022-05-04 11:44:18,253 - DEBUG - Data Inserted Successfully\n",
      "\n",
      " 2022-05-04 11:44:18,255 - DEBUG - Connection Closed Successfully\n",
      "\n"
     ]
    }
   ],
   "source": [
    "file = open(\"./application_log.txt\",\"r\")\n",
    "for record in file.readlines():\n",
    "    print(record)"
   ]
  },
  {
   "cell_type": "code",
   "execution_count": 12,
   "id": "e2b940ab",
   "metadata": {},
   "outputs": [],
   "source": [
    "#Q6. What are the five levels of logging?\n",
    "#A6. CRITICAL(50), ERROR(40), WARNING(30), INFO(20), DEBUG(10), NOTSET(0)"
   ]
  },
  {
   "cell_type": "code",
   "execution_count": 13,
   "id": "b2c5bf17",
   "metadata": {},
   "outputs": [],
   "source": [
    "#Q7. What line of code would you add to your software to disable all logging messages?\n",
    "#A7. code\n",
    "logging.disable = True"
   ]
  },
  {
   "cell_type": "code",
   "execution_count": 14,
   "id": "e0ffc142",
   "metadata": {},
   "outputs": [],
   "source": [
    "#Q8. Why is using logging messages better than using print() to display the same message?\n",
    "#A8. Post development of code, we can disable logging messages without removing the logging function, \n",
    "#whereas we need to manually remove print() statements, which is tedious activity. \n",
    "#Also, print() is used when we want to display any particular message or help whereas logging is used to record all events \n",
    "#like error, info, debug messages, timestamps."
   ]
  },
  {
   "cell_type": "code",
   "execution_count": 15,
   "id": "5f7b802a",
   "metadata": {},
   "outputs": [],
   "source": [
    "#Q9. What are the differences between the Step Over, Step In, and Step Out buttons in the debugger?\n",
    "#A9. Following are the differences:\n",
    "#Step In button will cause the debugger to execute the next line of code and then pause again.\n",
    "#Step Over button will execute the next line of code, similar to the Step In button. However, if the next line of code is \n",
    "#a function call, the Step Over button will “step over” the code in the function. The function’s code will be executed at \n",
    "#full speed, and the debugger will pause as soon as the function call returns.\n",
    "#Step out - Step Out button will cause the debugger to execute lines of code at full speed until it returns from the current\n",
    "#function."
   ]
  },
  {
   "cell_type": "code",
   "execution_count": 16,
   "id": "f2b8a43f",
   "metadata": {},
   "outputs": [],
   "source": [
    "#Q10. After you click Continue, when will the debugger stop ?\n",
    "#A10. This will cause the program to continue running normally, without pausing for debugging untill it terminates or \n",
    "#reaches a breakpoint."
   ]
  },
  {
   "cell_type": "code",
   "execution_count": 17,
   "id": "f2cfe6b8",
   "metadata": {},
   "outputs": [],
   "source": [
    "#Q11. What is the concept of a breakpoint?\n",
    "#A11. Breakpoint is a setting on a line of code that causes the debugger to pause when the program execution reaches it."
   ]
  }
 ],
 "metadata": {
  "kernelspec": {
   "display_name": "Python 3 (ipykernel)",
   "language": "python",
   "name": "python3"
  },
  "language_info": {
   "codemirror_mode": {
    "name": "ipython",
    "version": 3
   },
   "file_extension": ".py",
   "mimetype": "text/x-python",
   "name": "python",
   "nbconvert_exporter": "python",
   "pygments_lexer": "ipython3",
   "version": "3.9.7"
  }
 },
 "nbformat": 4,
 "nbformat_minor": 5
}
