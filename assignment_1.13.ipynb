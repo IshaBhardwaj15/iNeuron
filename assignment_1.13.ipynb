{
 "cells": [
  {
   "cell_type": "code",
   "execution_count": 1,
   "id": "cad65793",
   "metadata": {},
   "outputs": [],
   "source": [
    "#Q1. What advantages do Excel spreadsheets have over CSV spreadsheets?\n",
    "#A1. The Advantages of Excel over CSV are:\n",
    "\n",
    "#1. Excel (XLS and XLSX) file formats are better for storing and analysing complex data.\n",
    "#2. An Excel not only stores data but can also do operations on the data using macros.\n",
    "#3. CSV files are plain-text files, it doesn't contain formatting, formulas, macros, etc. It is also known as flat files."
   ]
  },
  {
   "cell_type": "code",
   "execution_count": 2,
   "id": "4a0dd652",
   "metadata": {},
   "outputs": [],
   "source": [
    "#Q2.What do you pass to csv.reader() and csv.writer() to create reader and writer objects?\n",
    "#A2. Code:\n",
    "#import csv\n",
    "#with open('text.csv','r') as file:\n",
    "#    csv_file = csv.reader(file,delimiter=',')\n",
    "#    for ele in csv_file:\n",
    "#        print(ele)\n",
    "#import csv\n",
    "#with open('text.csv', 'w') as csvfile:\n",
    "#    writer = csv.writer(csvfile, delimiter=',')\n",
    "#    writer.writerow(['Spam'] * 5 + ['Baked Beans'])"
   ]
  },
  {
   "cell_type": "code",
   "execution_count": 3,
   "id": "e6a06186",
   "metadata": {},
   "outputs": [],
   "source": [
    "#Q3. What modes do File objects for reader and writer objects need to be opened in?\n",
    "#A3. For csv.reader(iterable_file_object), the file objects needs to be opened in read mode mode='r' \n",
    "#Whereas for csv.writer(iterable_file_object) the file objects needs to be opened in write mode mode='w'"
   ]
  },
  {
   "cell_type": "code",
   "execution_count": 4,
   "id": "a3bcf253",
   "metadata": {},
   "outputs": [],
   "source": [
    "#Q4. What method takes a list argument and writes it to a CSV file?\n",
    "#A4. csv.writer class provides two methods for writing to CSV. They are writerow() and writerows().\n",
    "#writerow() method writes a single row at a time and the writerows() method is used to write multiple rows at the same time.\n",
    "\n",
    "# code:\n",
    "#import csv      \n",
    "#fields = ['Name', 'Branch', 'Year', 'CGPA'] #column names \n",
    "#rows = [ \n",
    "#            ['Nikhil', 'COE', '2', '9.0'],  # data rows of csv file \n",
    "#           ['Sanchit', 'COE', '2', '9.1'], \n",
    "#            ['Ravi', 'IT', '2', '9.3']\n",
    "#       ] \n",
    "#with open(\"university_records.csv\", 'w') as csvfile: \n",
    "#    csvwriter = csv.writer(csvfile) # creating a csv writer object \n",
    "#    csvwriter.writerow(fields) # writing the fields \n",
    "#    csvwriter.writerows(rows) # writing the data rows"
   ]
  },
  {
   "cell_type": "code",
   "execution_count": 5,
   "id": "e86892b8",
   "metadata": {},
   "outputs": [],
   "source": [
    "#Q5. What do the keyword arguments delimiter and line terminator do?\n",
    "#A5.  Lets take the example of a csv file:\n",
    "#First Name, Last Name, Age\n",
    "#Mansi, Dasani, 24\n",
    "#Vishnu, Vardhan, 21\n",
    "#Here ',' is Delimiter. We can use any Character as per our needs if required. \n",
    "#Similarly Line Terminator comes at end of line by default, it is the newline and can be changed accourding to requirement."
   ]
  },
  {
   "cell_type": "code",
   "execution_count": 6,
   "id": "ba8287b2",
   "metadata": {},
   "outputs": [],
   "source": [
    "#Q6. What function takes a string of JSON data and returns a Python data structure?\n",
    "#A6. loads() method takes a string of JSON data and returns a Python data structure\n",
    "\n",
    "# Example of json.loads() method\n",
    "#import json\n",
    "#my_details_json ='''{\n",
    "#    \"Name\": \"bhardwaj_isha\",\n",
    "#    \"Qualification\": \"MSc. in Statistics\",\n",
    "#    \"Stream\": \"Statistics\"\n",
    "#}'''\n",
    "#print(my_details_json)\n",
    "#print(f'Type of my_details_json is {type(my_details_json)}')\n",
    "#my_details = json.loads(my_details_json)\n",
    "#print(my_details)\n",
    "#print(f'Type of my_details is {type(my_details)}')"
   ]
  },
  {
   "cell_type": "code",
   "execution_count": 7,
   "id": "ce9c0afb",
   "metadata": {},
   "outputs": [],
   "source": [
    "#Q7. What function takes a Python data structure and returns a string of JSON data?\n",
    "#A7. dumps() method takes a python data structure and returns a string of JSON data\n",
    "\n",
    "# Example of json.dumps() method\n",
    "#import json\n",
    "#my_details = {\n",
    "#    'Name':'bhardwaj_isha',\n",
    "#    'Stream':'Statistics',\n",
    "#    'Qualification':'MSc. in Statistics'\n",
    "#}\n",
    "#print(my_details)\n",
    "#print(f'Type of my_details is {type(my_details)}')\n",
    "#my_details_json = json.dumps(my_details, indent=4, sort_keys=True)\n",
    "#print(my_details_json)\n",
    "#print(f'Type of my_details_json is {type(my_details_json)}')"
   ]
  }
 ],
 "metadata": {
  "kernelspec": {
   "display_name": "Python 3 (ipykernel)",
   "language": "python",
   "name": "python3"
  },
  "language_info": {
   "codemirror_mode": {
    "name": "ipython",
    "version": 3
   },
   "file_extension": ".py",
   "mimetype": "text/x-python",
   "name": "python",
   "nbconvert_exporter": "python",
   "pygments_lexer": "ipython3",
   "version": "3.9.7"
  }
 },
 "nbformat": 4,
 "nbformat_minor": 5
}
