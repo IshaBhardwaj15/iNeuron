{
 "cells": [
  {
   "cell_type": "code",
   "execution_count": 1,
   "id": "6c9a44b5",
   "metadata": {},
   "outputs": [],
   "source": [
    "#Q1. To what does a relative path refer?\n",
    "#A1. The relative path is the path to some file with respect to your current working directory (PWD).\n",
    "#For example: if Absolute path to a file called student.txt is: C:/users/admin/docs/student.txt If the PWD is \n",
    "#C:/users/admin/, then the relative path to student.txt would be: docs/student.txt\n",
    "#Note: PWD + relative path = absolute path"
   ]
  },
  {
   "cell_type": "code",
   "execution_count": 2,
   "id": "76e2fd9e",
   "metadata": {},
   "outputs": [],
   "source": [
    "#Q2. What does an absolute path start with your operating system?\n",
    "#A2. In windows operating system the absolute path starts with the drive name the ultimate file is located in example C: or D:"
   ]
  },
  {
   "cell_type": "code",
   "execution_count": 5,
   "id": "00dbb6da",
   "metadata": {},
   "outputs": [
    {
     "name": "stdout",
     "output_type": "stream",
     "text": [
      "C:\\Users\\ps4z\\Documents\\BI report\\Banglore\n",
      "C:\\Users\\ps4z\\Documents\\BI report\\Banglore\n"
     ]
    }
   ],
   "source": [
    "#Q3. What do the functions os.getcwd() and os.chdir() do?\n",
    "#A3. os.getcwd() method tells us the location of current working directory (CWD). \n",
    "#Whereas os.chdir() method is used to change the current working directory to specified path. \n",
    "#These functions are similar to linux commands pwd and cd\n",
    "import os\n",
    "print(os.getcwd()) # Prints the current Working Directory\n",
    "path = r'C:\\Users\\ps4z\\Documents\\BI report\\Banglore'\n",
    "os.chdir(path)\n",
    "print(os.getcwd())"
   ]
  },
  {
   "cell_type": "code",
   "execution_count": 6,
   "id": "6b17f5fb",
   "metadata": {},
   "outputs": [],
   "source": [
    "#Q4. What are the . and .. folders?\n",
    "#A4.  . Represents the Current Directory Whereas .. Represents the Parent Directory of the Current Directory"
   ]
  },
  {
   "cell_type": "code",
   "execution_count": 7,
   "id": "6264eeac",
   "metadata": {},
   "outputs": [],
   "source": [
    "#Q5. In C:\\bacon\\eggs\\spam.txt, which part is the dir name, and which part is the base name?\n",
    "#A5.The dir name is C:\\bacon\\eggs. The Base name is spam.txt"
   ]
  },
  {
   "cell_type": "code",
   "execution_count": 8,
   "id": "1dd5107c",
   "metadata": {},
   "outputs": [],
   "source": [
    "#Q6. What are the three “mode” arguments that can be passed to the open() function?\n",
    "#A6. A file can be accessed in python using open() function. Open function takes two arguments filename and mode of operation \n",
    "#(optional). If mode is not provided the default mode of opening is read mode\n",
    "#So, the syntax being: open(filename, mode)\n",
    "#‘r’ – Read Mode: This is the default mode for open(). \n",
    "#The file is opened and a pointer is positioned at the beginning of the file’s content.\n",
    "#‘w’ – Write Mode: Using this mode will overwrite any existing content in a file.\n",
    "#If the given file does not exist, a new one will be created.\n",
    "#‘r+’ – Read/Write Mode: Use this mode if we need to simultaneously read and write to a file.\n",
    "#‘a’ – Append Mode: With this mode the user can append the data without overwriting any already existing data in the file.\n",
    "#‘a+’ – Append and Read Mode: In this mode you can read and append the data without overwriting the original file.\n",
    "#‘x’ – Exclusive Creating Mode: This mode is for the sole purpose of creating new files. \n",
    "#Use this mode if we know the file to be written doesn’t exist beforehand."
   ]
  },
  {
   "cell_type": "code",
   "execution_count": 9,
   "id": "5fe16854",
   "metadata": {},
   "outputs": [],
   "source": [
    "#Q7. What happens if an existing file is opened in write mode?\n",
    "#A7. Using this mode will overwrite any existing content in a file. If the given file does not exist, a new one will be created."
   ]
  },
  {
   "cell_type": "code",
   "execution_count": 10,
   "id": "6a5e6e6e",
   "metadata": {},
   "outputs": [],
   "source": [
    "#Q8. How do you tell the difference between read() and readlines()?\n",
    "#A8. The main difference is that read() will read the whole file at once and then print out the first characters that take up as\n",
    "#many bytes as specified in the parenthesis;\n",
    "#Whereas the readline() that will read and print out only the first characters that take up as many bytes as specified in the\n",
    "#parenthesis. We may want to use readline() when we are reading files that are too big for the RAM.\n",
    "#The read() would treat each character in the file separately, meaning that the iteration would happen for every character.\n",
    "#The readline() function, on the other hand, only reads a single line of the file. This means that if the first line of the \n",
    "#file were three lines long, the readline() function would only parse (or iterate/operate) on the first line of the file."
   ]
  },
  {
   "cell_type": "code",
   "execution_count": 11,
   "id": "790206dc",
   "metadata": {},
   "outputs": [],
   "source": [
    "#Q9. What data structure does a shelf value resemble?\n",
    "#A9. It resembles dictionary value, it has keys() and values() just like dictionary."
   ]
  }
 ],
 "metadata": {
  "kernelspec": {
   "display_name": "Python 3 (ipykernel)",
   "language": "python",
   "name": "python3"
  },
  "language_info": {
   "codemirror_mode": {
    "name": "ipython",
    "version": 3
   },
   "file_extension": ".py",
   "mimetype": "text/x-python",
   "name": "python",
   "nbconvert_exporter": "python",
   "pygments_lexer": "ipython3",
   "version": "3.9.7"
  }
 },
 "nbformat": 4,
 "nbformat_minor": 5
}
