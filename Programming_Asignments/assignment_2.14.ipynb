{
 "cells": [
  {
   "cell_type": "code",
   "execution_count": 1,
   "id": "e18a41a6",
   "metadata": {},
   "outputs": [
    {
     "name": "stdout",
     "output_type": "stream",
     "text": [
      "0 7 14 21 28 35 42 49 56 63 70 77 84 91 98 105 "
     ]
    }
   ],
   "source": [
    "#Question 1: Define a class with a generator which can iterate the numbers, which are divisible by 7, between a given range 0 \n",
    "#and n.\n",
    "#Answer 1: code:\n",
    "class divGenerator:\n",
    "    def __init__(self,n):\n",
    "        self.n=n\n",
    "    def getNumbers(self):\n",
    "        for i in range(0,self.n+1):\n",
    "            if i%7 == 0:\n",
    "                yield i\n",
    "result=divGenerator(105)\n",
    "for i in result.getNumbers():\n",
    "    print(i,end=' ')"
   ]
  },
  {
   "cell_type": "code",
   "execution_count": 2,
   "id": "f6cff797",
   "metadata": {},
   "outputs": [
    {
     "name": "stdout",
     "output_type": "stream",
     "text": [
      "Enter the Input String: Hare Krishna Hare Krishna Krishna Krishna Hare Hare Hare Rama Hare Rama Rama Rama Hare Hare\n",
      "Hare:8 Krishna:4 Rama:4 "
     ]
    }
   ],
   "source": [
    "#Question 2: Write a program to compute the frequency of the words from the input. \n",
    "#The output should output after sorting the key alphanumerically. \n",
    "#Suppose the following input is supplied to the program:\n",
    "#New to Python or choosing between Python 2 and Python 3? Read Python 2 or Python 3.\n",
    "##Then, the output should be:\n",
    "#2:2\n",
    "#3.:1\n",
    "#3?:1\n",
    "#New:1\n",
    "#Python:5\n",
    "#Read:1\n",
    "#and:1\n",
    "#between:1\n",
    "#choosing:1\n",
    "#or:2\n",
    "#to:1\n",
    "#Answer: code:\n",
    "def Frequency():\n",
    "    s=input(\"Enter the Input String: \")\n",
    "    frequency={}\n",
    "    for i in s.split(\" \"):\n",
    "        if(frequency.get(i)==None):\n",
    "            frequency[i]=1\n",
    "        else:\n",
    "            frequency[i]+=1 \n",
    "    for i in sorted(frequency):\n",
    "        print(f'{i}:{frequency[i]}',end=\" \")\n",
    "Frequency()"
   ]
  },
  {
   "cell_type": "code",
   "execution_count": 3,
   "id": "da58d318",
   "metadata": {},
   "outputs": [
    {
     "name": "stdout",
     "output_type": "stream",
     "text": [
      "Male\n",
      "Female\n"
     ]
    }
   ],
   "source": [
    "#Question 3: Define a class Person and its two child classes: Male and Female. All classes have a method \"getGender\" which can \n",
    "#print \"Male\" for Male class and \"Female\" for Female class.\n",
    "#Answer 3: code:\n",
    "class Person():\n",
    "    def getGender():\n",
    "        pass\n",
    "class Male(Person):\n",
    "    def getGender():\n",
    "        print(\"Male\")\n",
    "class Female(Person):\n",
    "    def getGender():\n",
    "        print(\"Female\")\n",
    "Male.getGender()\n",
    "Female.getGender()"
   ]
  },
  {
   "cell_type": "code",
   "execution_count": 4,
   "id": "b3064bb5",
   "metadata": {},
   "outputs": [
    {
     "name": "stdout",
     "output_type": "stream",
     "text": [
      "I Play Hockey\n",
      "I Play Football\n",
      "I Love Hockey\n",
      "I Love Football\n",
      "You Play Hockey\n",
      "You Play Football\n",
      "You Love Hockey\n",
      "You Love Football\n"
     ]
    }
   ],
   "source": [
    "#Question 4: Please write a program to generate all sentences where subject is in [\"I\", \"You\"] and verb is in [\"Play\", \"Love\"] \n",
    "#and the object is in [\"Hockey\",\"Football\"].\n",
    "#Answer 4: code:\n",
    "def Sentences():\n",
    "    subjects=['I','You']\n",
    "    verbs=['Play','Love']\n",
    "    objects=['Hockey','Football']\n",
    "    for i in subjects:\n",
    "        for j in verbs:\n",
    "            for k in objects:\n",
    "                print(f'{i} {j} {k}')\n",
    "Sentences()"
   ]
  },
  {
   "cell_type": "code",
   "execution_count": 5,
   "id": "c4b1ecce",
   "metadata": {},
   "outputs": [
    {
     "name": "stdout",
     "output_type": "stream",
     "text": [
      "hel2o world!hel2o world!hel2o world!hel2o world!\n",
      "hello world!hello world!hello world!hello world!\n",
      "ineuron ful2 stack datascience\n",
      "ineuron full stack datascience\n"
     ]
    }
   ],
   "source": [
    "#Question 5: Please write a program to compress and decompress the string \"hello world!hello world!hello world!hello world!\".\n",
    "#Answer 5: code:\n",
    "def compress(s):\n",
    "    result=s[0]\n",
    "    count=1\n",
    "    for i in range(len(s)-1):\n",
    "        if s[i]==s[i+1]:\n",
    "            count+=1\n",
    "        else:\n",
    "            if count>1:\n",
    "                result+=str(count)\n",
    "            result+=s[i+1]\n",
    "            count=1\n",
    "    if count>1:\n",
    "        result+=str(count)            \n",
    "    print(result)\n",
    "\n",
    "def decompress(s):\n",
    "    result=''\n",
    "    for i in range(len(s)):\n",
    "        if s[i].isdigit():\n",
    "            result+=result[-1]*(int(s[i])-1)\n",
    "        else:\n",
    "            result+=s[i]\n",
    "    print(result)\n",
    "    \n",
    "compress(\"hello world!hello world!hello world!hello world!\")\n",
    "decompress(\"hel2o world!hel2o world!hel2o world!hel2o world!\")\n",
    "\n",
    "compress('ineuron full stack datascience')\n",
    "decompress('ineuron ful2 stack datascience')"
   ]
  },
  {
   "cell_type": "code",
   "execution_count": 6,
   "id": "61dcc64a",
   "metadata": {},
   "outputs": [
    {
     "name": "stdout",
     "output_type": "stream",
     "text": [
      "7\n",
      "Input Element not in the list\n"
     ]
    }
   ],
   "source": [
    "#Question 6: Please write a binary search function which searches an item in a sorted list. The function should return the \n",
    "#index of element to be searched in the list.\n",
    "#Answer 6: code:\n",
    "s=[1,2,3,4,5,6,7,8,9,10]\n",
    "def binarySearch(l,n):\n",
    "    low=0\n",
    "    high=len(l)-1\n",
    "    while low<=high:\n",
    "        mid=high+low//2\n",
    "        if l[mid]<n:\n",
    "            low=mid+1\n",
    "        elif l[mid]>n:\n",
    "            high=mid-1\n",
    "        else:\n",
    "            return mid\n",
    "    else:\n",
    "        return 'Input Element not in the list'\n",
    "print(binarySearch(s,8))\n",
    "print(binarySearch(s,100))"
   ]
  }
 ],
 "metadata": {
  "kernelspec": {
   "display_name": "Python 3 (ipykernel)",
   "language": "python",
   "name": "python3"
  },
  "language_info": {
   "codemirror_mode": {
    "name": "ipython",
    "version": 3
   },
   "file_extension": ".py",
   "mimetype": "text/x-python",
   "name": "python",
   "nbconvert_exporter": "python",
   "pygments_lexer": "ipython3",
   "version": "3.9.7"
  }
 },
 "nbformat": 4,
 "nbformat_minor": 5
}
