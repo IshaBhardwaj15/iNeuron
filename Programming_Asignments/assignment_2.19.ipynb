{
 "cells": [
  {
   "cell_type": "markdown",
   "id": "ab2a7f5d",
   "metadata": {},
   "source": [
    "Question1\n",
    "Create a function that takes a string and returns a string in which each character is repeated once.\n",
    "Examples\n",
    "\n",
    "double_char(\"String\") ➞ \"SSttrriinngg\"\n",
    "\n",
    "double_char(\"Hello World!\") ➞ \"HHeelllloo  WWoorrlldd!!\"\n",
    "\n",
    "double_char(\"1234!_ \") ➞ \"11223344!!__  \""
   ]
  },
  {
   "cell_type": "code",
   "execution_count": 1,
   "id": "aefedb2a",
   "metadata": {},
   "outputs": [
    {
     "name": "stdout",
     "output_type": "stream",
     "text": [
      "Enter String:String\n",
      "double_char(\"String\")➞\"SSttrriinngg\"\n",
      "Enter String:Hello World\n",
      "double_char(\"Hello World\")➞\"HHeelllloo  WWoorrlldd\"\n",
      "Enter String:1234!_\n",
      "double_char(\"1234!_\")➞\"11223344!!__\"\n"
     ]
    }
   ],
   "source": [
    "def func1(s):\n",
    "    result=''\n",
    "    for i in s:\n",
    "        result+=i*2\n",
    "    return result\n",
    "for i in range(3):\n",
    "    s=input(\"Enter String:\")\n",
    "    print(f'double_char(\"{s}\")➞\"{func1(s)}\"')"
   ]
  },
  {
   "cell_type": "markdown",
   "id": "959c33ce",
   "metadata": {},
   "source": [
    "Question2\n",
    "Create a function that reverses a boolean value and returns the string \"boolean expected\" if another variable type is given.\n",
    "Examples\n",
    "\n",
    "reverse(True) ➞ False\n",
    "\n",
    "reverse(False) ➞ True\n",
    "\n",
    "reverse(0) ➞ \"boolean expected\"\n",
    "\n",
    "reverse(None) ➞ \"boolean expected\""
   ]
  },
  {
   "cell_type": "code",
   "execution_count": 2,
   "id": "3b78cbd7",
   "metadata": {},
   "outputs": [
    {
     "name": "stdout",
     "output_type": "stream",
     "text": [
      "Enter value:True\n",
      "reverse(True)➞False\n",
      "Enter value:False\n",
      "reverse(False)➞True\n",
      "Enter value:0\n",
      "reverse(0)➞Boolean Expected\n",
      "Enter value:None\n",
      "reverse(None)➞Boolean Expected\n"
     ]
    }
   ],
   "source": [
    "def func2(bool1):\n",
    "    if type(bool1)==bool:\n",
    "        return not bool1\n",
    "    else:\n",
    "        return \"Boolean Expected\"\n",
    "for i in range(4):\n",
    "    bool1=eval(input(\"Enter value:\"))\n",
    "    print(f'reverse({bool1})➞{func2(bool1)}')"
   ]
  },
  {
   "cell_type": "markdown",
   "id": "764bea0f",
   "metadata": {},
   "source": [
    "Question3\n",
    "Create a function that returns the thickness (in meters) of a piece of paper after folding it n number of times. The paper starts off with a thickness of 0.5mm.\n",
    "Examples\n",
    "\n",
    "num_layers(1) ➞ \"0.001m\"\n",
    "Paper folded once is 1mm (equal to 0.001m)\n",
    "\n",
    "num_layers(4) ➞ \"0.008m\"\n",
    "Paper folded 4 times is 8mm (equal to 0.008m)\n",
    "\n",
    "num_layers(21) ➞ \"1048.576m\"\n",
    "Paper folded 21 times is 1048576mm (equal to 1048.576m)"
   ]
  },
  {
   "cell_type": "code",
   "execution_count": 3,
   "id": "151a9263",
   "metadata": {},
   "outputs": [
    {
     "name": "stdout",
     "output_type": "stream",
     "text": [
      "Enter the number of layers:1\n",
      "num_layers(1)➞\"0.001m\"\n",
      "Enter the number of layers:4\n",
      "num_layers(4)➞\"0.008m\"\n",
      "Enter the number of layers:21\n",
      "num_layers(21)➞\"1048.576m\"\n"
     ]
    }
   ],
   "source": [
    "def func3(num):\n",
    "    n=0.5\n",
    "    for i in range(num):\n",
    "        n=n*2\n",
    "    return n/1000\n",
    "for j in range(3):\n",
    "    num=int(input(\"Enter the number of layers:\"))\n",
    "    print(f'num_layers({num})➞\"{func3(num)}m\"')"
   ]
  },
  {
   "cell_type": "markdown",
   "id": "c528eaa1",
   "metadata": {},
   "source": [
    "Question4\n",
    "Create a function that takes a single string as argument and returns an ordered list containing the indices of all capital letters in the string.\n",
    "Examples\n",
    "\n",
    "index_of_caps(\"eDaBiT\") ➞ [1, 3, 5]\n",
    "\n",
    "index_of_caps(\"eQuINoX\") ➞ [1, 3, 4, 6]\n",
    "\n",
    "index_of_caps(\"determine\") ➞ []\n",
    "\n",
    "index_of_caps(\"STRIKE\") ➞ [0, 1, 2, 3, 4, 5]\n",
    "\n",
    "index_of_caps(\"sUn\") ➞ [1]"
   ]
  },
  {
   "cell_type": "code",
   "execution_count": 4,
   "id": "392fbd53",
   "metadata": {},
   "outputs": [
    {
     "name": "stdout",
     "output_type": "stream",
     "text": [
      "Enter the String:eDaBiT\n",
      "index_of_caps(\"eDaBiT\")➞[1, 3, 5]\n",
      "Enter the String:eQuINoX\n",
      "index_of_caps(\"eQuINoX\")➞[1, 3, 4, 6]\n",
      "Enter the String:determine\n",
      "index_of_caps(\"determine\")➞[]\n",
      "Enter the String:STRIKE\n",
      "index_of_caps(\"STRIKE\")➞[0, 1, 2, 3, 4, 5]\n",
      "Enter the String:sUn\n",
      "index_of_caps(\"sUn\")➞[1]\n"
     ]
    }
   ],
   "source": [
    "def func4(s):\n",
    "    l=[]\n",
    "    for i in s:\n",
    "        if i.isupper():\n",
    "            l.append(s.index(i))\n",
    "    return l\n",
    "for j in range(5):\n",
    "    s=input(\"Enter the String:\")\n",
    "    print(f'index_of_caps(\"{s}\")➞{func4(s)}')"
   ]
  },
  {
   "cell_type": "markdown",
   "id": "f1b972de",
   "metadata": {},
   "source": [
    "Question5\n",
    "Using list comprehensions, create a function that finds all even numbers from 1 to the given number.\n",
    "Examples\n",
    "\n",
    "find_even_nums(8) ➞ [2, 4, 6, 8]\n",
    "\n",
    "find_even_nums(4) ➞ [2, 4]\n",
    "\n",
    "find_even_nums(2) ➞ [2]"
   ]
  },
  {
   "cell_type": "code",
   "execution_count": 5,
   "id": "2ce898bd",
   "metadata": {},
   "outputs": [
    {
     "name": "stdout",
     "output_type": "stream",
     "text": [
      "Enter value of n:8\n",
      "find_even_num(8)➞[2, 4, 6, 8]\n",
      "Enter value of n:4\n",
      "find_even_num(4)➞[2, 4]\n",
      "Enter value of n:2\n",
      "find_even_num(2)➞[2]\n"
     ]
    }
   ],
   "source": [
    "def func5(n):\n",
    "    l=[i for i in range(1,n+1) if i%2==0]\n",
    "    return l\n",
    "for j in range(3):\n",
    "    n=int(input(\"Enter value of n:\"))\n",
    "    print(f'find_even_num({n})➞{func5(n)}')"
   ]
  }
 ],
 "metadata": {
  "kernelspec": {
   "display_name": "Python 3 (ipykernel)",
   "language": "python",
   "name": "python3"
  },
  "language_info": {
   "codemirror_mode": {
    "name": "ipython",
    "version": 3
   },
   "file_extension": ".py",
   "mimetype": "text/x-python",
   "name": "python",
   "nbconvert_exporter": "python",
   "pygments_lexer": "ipython3",
   "version": "3.9.7"
  }
 },
 "nbformat": 4,
 "nbformat_minor": 5
}
