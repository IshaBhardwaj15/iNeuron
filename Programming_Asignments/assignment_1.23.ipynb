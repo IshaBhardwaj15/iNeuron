{
 "cells": [
  {
   "cell_type": "code",
   "execution_count": 1,
   "id": "10765fc9",
   "metadata": {},
   "outputs": [],
   "source": [
    "#Q1. What is the result of the code, and why?\n",
    "#>>> def func(a, b=6, c=8):\n",
    "#print(a, b, c)\n",
    "#>>> func(1, 2)\n",
    "#A1. The result of the above code is 1 2 8 because the function uses the default value of c, 8 which is provided at the time \n",
    "#of declaration."
   ]
  },
  {
   "cell_type": "code",
   "execution_count": 2,
   "id": "761e271a",
   "metadata": {},
   "outputs": [
    {
     "name": "stdout",
     "output_type": "stream",
     "text": [
      "1 2 8\n"
     ]
    }
   ],
   "source": [
    "def func(a,b=6,c=8):\n",
    "    print(a,b,c)\n",
    "func(1,2)"
   ]
  },
  {
   "cell_type": "code",
   "execution_count": 3,
   "id": "4fca75df",
   "metadata": {},
   "outputs": [],
   "source": [
    "#Q2. What is the result of this code, and why?\n",
    "#>>> def func(a, b, c=5):\n",
    "#print(a, b, c)\n",
    "#>>> func(1, c=3, b=2)\n",
    "#A2. The result of the above code is 1 2 3 because the function will use default values only when a value for a argument is not \n",
    "#provided and if argument name is mentioned while doing a function call, the order of arguments is also ignored by the python \n",
    "#interpreter."
   ]
  },
  {
   "cell_type": "code",
   "execution_count": 4,
   "id": "5a8067d3",
   "metadata": {},
   "outputs": [
    {
     "name": "stdout",
     "output_type": "stream",
     "text": [
      "1 2 3\n"
     ]
    }
   ],
   "source": [
    "def func(a, b, c=5):\n",
    "    print(a, b, c)\n",
    "func(1, c=3, b=2)"
   ]
  },
  {
   "cell_type": "code",
   "execution_count": 5,
   "id": "3ed95ea3",
   "metadata": {},
   "outputs": [],
   "source": [
    "#Q3. How about this code: what is its result, and why?\n",
    "#>>> def func(a, *pargs):\n",
    "#print(a, pargs)\n",
    "#>>> func(1, 2, 3)\n",
    "#A3. The result of the code is 1 (2,3) as *pargs stands for variable length arguments. This format is used when we are not \n",
    "#sure about the number of arguments to be passed to a function. All the values under this argument will be stored in a tuple."
   ]
  },
  {
   "cell_type": "code",
   "execution_count": 6,
   "id": "d40fa8d3",
   "metadata": {},
   "outputs": [
    {
     "name": "stdout",
     "output_type": "stream",
     "text": [
      "1 (2, 3)\n"
     ]
    }
   ],
   "source": [
    "def func(a, *pargs):\n",
    "    print(a, pargs)\n",
    "func(1, 2, 3)"
   ]
  },
  {
   "cell_type": "code",
   "execution_count": 7,
   "id": "aff95e41",
   "metadata": {},
   "outputs": [],
   "source": [
    "#Q4. What does this code print, and why?\n",
    "#>>> def func(a, **kargs):\n",
    "#print(a, kargs)\n",
    "#>>> func(a=1, c=3, b=2)\n",
    "#A4. The result of the above code is 1 {'c': 3, 'b': 2} as **args stands for variable length keyword arguments. This format is \n",
    "#used when we want pass key value pairs as input to a function. All these key value pairs will be stored in a dictionary."
   ]
  },
  {
   "cell_type": "code",
   "execution_count": 8,
   "id": "d41535cb",
   "metadata": {},
   "outputs": [
    {
     "name": "stdout",
     "output_type": "stream",
     "text": [
      "1 {'c': 3, 'b': 2}\n"
     ]
    }
   ],
   "source": [
    "def func(a, **kargs):\n",
    "    print(a, kargs)\n",
    "func(a=1, c=3, b=2)"
   ]
  },
  {
   "cell_type": "code",
   "execution_count": 9,
   "id": "3eedef38",
   "metadata": {},
   "outputs": [],
   "source": [
    "#Q5. What gets printed by this, and explain?\n",
    "#>>> def func(a, b, c=8, d=5): print(a, b, c, d)\n",
    "#>>> func(1, *(5, 6))\n",
    "#A5. The output of the above is 1 5 6 5. The reason for this function not throwing an error is because, this function expects \n",
    "#4 arguments. The value for a is provided explicitly, whereas, for arguments b and c, the function will expand the *(5,6) and\n",
    "#consider the value of b as 5 and value of c as 6. Since the default value of d is provided in function declaration d value \n",
    "#will be 5. However it is recommended to use the feature of positional arguments at the end."
   ]
  },
  {
   "cell_type": "code",
   "execution_count": 10,
   "id": "7fd22499",
   "metadata": {},
   "outputs": [
    {
     "name": "stdout",
     "output_type": "stream",
     "text": [
      "1 5 6 5\n"
     ]
    }
   ],
   "source": [
    "def func(a, b, c=8, d=5): print(a, b, c, d)\n",
    "func(1, *(5, 6))"
   ]
  },
  {
   "cell_type": "code",
   "execution_count": 11,
   "id": "7b79114a",
   "metadata": {},
   "outputs": [],
   "source": [
    "#Q6. what is the result of this, and explain?\n",
    "#>>> def func(a, b, c): a = 2; b[0] = 'x'; c['a'] = 'y'\n",
    "#>>> l=1; m=[1]; n={'a':0}\n",
    "#>>> func(l, m, n)\n",
    "#>>> l, m, n\n",
    "#A6. The output of above code is 1, ['x'], {'a': 'y'}.\n",
    "#Eventhough Python gives importance to indentation. Its provides a facility to declare an entire function in one single line. \n",
    "#where statements in a function body are sepereated by ; When l,m,n are provided as inputs to the function. Its modifies the \n",
    "#values of l,m,n and sets the value of l=2 ,m=['x'] and n={'a':'y'}."
   ]
  },
  {
   "cell_type": "code",
   "execution_count": 12,
   "id": "8b59bb29",
   "metadata": {},
   "outputs": [
    {
     "data": {
      "text/plain": [
       "(1, ['x'], {'a': 'y'})"
      ]
     },
     "execution_count": 12,
     "metadata": {},
     "output_type": "execute_result"
    }
   ],
   "source": [
    "def func(a, b, c): a = 2; b[0] = 'x'; c['a'] = 'y'\n",
    "l=1; m=[1]; n={'a':0}\n",
    "func(l, m, n)\n",
    "l, m, n"
   ]
  }
 ],
 "metadata": {
  "kernelspec": {
   "display_name": "Python 3 (ipykernel)",
   "language": "python",
   "name": "python3"
  },
  "language_info": {
   "codemirror_mode": {
    "name": "ipython",
    "version": 3
   },
   "file_extension": ".py",
   "mimetype": "text/x-python",
   "name": "python",
   "nbconvert_exporter": "python",
   "pygments_lexer": "ipython3",
   "version": "3.9.7"
  }
 },
 "nbformat": 4,
 "nbformat_minor": 5
}
