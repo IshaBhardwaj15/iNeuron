{
 "cells": [
  {
   "cell_type": "markdown",
   "id": "2b323f7a",
   "metadata": {},
   "source": [
    "Question1 Create a function that takes three parameters where:\n",
    "\n",
    "•\tx is the start of the range (inclusive).\n",
    "\n",
    "•\ty is the end of the range (inclusive).\n",
    "\n",
    "•\tn is the divisor to be checked against.\n",
    "\n",
    "Return an ordered list with numbers in the range that are divisible by the third parameter n. Return an empty list if there are no numbers that are divisible by n.\n",
    "\n",
    "Examples\n",
    "\n",
    "list_operation(1, 10, 3) ➞ [3, 6, 9]\n",
    "\n",
    "list_operation(7, 9, 2) ➞ [8]\n",
    "\n",
    "list_operation(15, 20, 7) ➞ []"
   ]
  },
  {
   "cell_type": "code",
   "execution_count": 1,
   "id": "6e84b926",
   "metadata": {},
   "outputs": [
    {
     "name": "stdout",
     "output_type": "stream",
     "text": [
      "x=1\n",
      "y=10\n",
      "n=3\n",
      "list_operation(1,10,3)➞[3, 6, 9]\n",
      "x=7\n",
      "y=9\n",
      "n=2\n",
      "list_operation(7,9,2)➞[8]\n",
      "x=15\n",
      "y=20\n",
      "n=7\n",
      "list_operation(15,20,7)➞[]\n"
     ]
    }
   ],
   "source": [
    "def func1(x,y,n):\n",
    "    l=[]\n",
    "    for j in range(x,y+1):\n",
    "        if j%n==0:\n",
    "            l.append(j)\n",
    "    return l\n",
    "for i in range(0,3):\n",
    "    x=int(input(\"x=\"))\n",
    "    y=int(input(\"y=\"))\n",
    "    n=int(input(\"n=\"))\n",
    "    print(f'list_operation({x},{y},{n})➞{func1(x,y,n)}')"
   ]
  },
  {
   "cell_type": "markdown",
   "id": "941be0bc",
   "metadata": {},
   "source": [
    "Question2 Create a function that takes in two lists and returns True if the second list follows the first list by one element, and False otherwise. In other words, determine if the second list is the first list shifted to the right by 1.\n",
    "\n",
    "Examples\n",
    "\n",
    "simon_says([1, 2], [5, 1]) ➞ True\n",
    "\n",
    "simon_says([1, 2], [5, 5]) ➞ False\n",
    "\n",
    "simon_says([1, 2, 3, 4, 5], [0, 1, 2, 3, 4]) ➞ True\n",
    "\n",
    "simon_says([1, 2, 3, 4, 5], [5, 5, 1, 2, 3]) ➞ False\n",
    "\n",
    "Notes\n",
    "\n",
    "•\tBoth input lists will be of the same length, and will have a minimum length of 2.\n",
    "\n",
    "•\tThe values of the 0-indexed element in the second list and the n-1th indexed element in the first list do not matter."
   ]
  },
  {
   "cell_type": "code",
   "execution_count": 2,
   "id": "e11db7fb",
   "metadata": {},
   "outputs": [
    {
     "name": "stdout",
     "output_type": "stream",
     "text": [
      "simon_says([1, 2],[5, 1])➞True\n",
      "simon_says([1, 2],[5, 5])➞False\n",
      "simon_says([1, 2, 3, 4, 5],[0, 1, 2, 3, 4])➞True\n",
      "simon_says([1, 2, 3, 4, 5],[5, 5, 1, 2, 3])➞False\n"
     ]
    }
   ],
   "source": [
    "def func2(l1,l2):\n",
    "    if len(l1)==len(l2) and len(l1)>=2 and len(l2)>=2:\n",
    "        if(l1[:-1]==l2[1:]):\n",
    "            print(f'simon_says({l1},{l2})➞{True}')\n",
    "        else:\n",
    "            print(f'simon_says({l1},{l2})➞{False}')\n",
    "func2([1,2],[5,1])\n",
    "func2([1,2],[5,5])\n",
    "func2([1,2,3,4,5],[0,1,2,3,4])\n",
    "func2([1,2,3,4,5],[5,5,1,2,3])"
   ]
  },
  {
   "cell_type": "markdown",
   "id": "506514dd",
   "metadata": {},
   "source": [
    "Question3 A group of friends have decided to start a secret society. The name will be the first letter of each of their names, sorted in alphabetical order.\n",
    "\n",
    "Create a function that takes in a list of names and returns the name of the secret society.\n",
    "\n",
    "Examples\n",
    "\n",
    "society_name([\"Adam\", \"Sarah\", \"Malcolm\"]) ➞ \"AMS\"\n",
    "\n",
    "society_name([\"Harry\", \"Newt\", \"Luna\", \"Cho\"]) ➞ \"CHLN\"\n",
    "\n",
    "society_name([\"Phoebe\", \"Chandler\", \"Rachel\", \"Ross\", \"Monica\", \"Joey\"])"
   ]
  },
  {
   "cell_type": "code",
   "execution_count": 3,
   "id": "a7dbb4cd",
   "metadata": {},
   "outputs": [
    {
     "name": "stdout",
     "output_type": "stream",
     "text": [
      "society_name(['Adam', 'Sarah', 'Malcolm'])➞\"AMS\"\n",
      "society_name(['Harry', 'Newt', 'Luna', 'Cho'])➞\"CHLN\"\n",
      "society_name(['Phoebe', 'Chandler', 'Rachel', 'Ross', 'Monica', 'Joey'])➞\"CJMPRR\"\n"
     ]
    }
   ],
   "source": [
    "def func3(l1):\n",
    "    l2=[]\n",
    "    for i in l1:\n",
    "        l2.append(i[0])\n",
    "    result=''.join(sorted(l2))\n",
    "    print(f'society_name({l1})➞\"{result}\"')\n",
    "func3([\"Adam\",\"Sarah\",\"Malcolm\"])\n",
    "func3([\"Harry\",\"Newt\",\"Luna\",\"Cho\"])\n",
    "func3([\"Phoebe\", \"Chandler\", \"Rachel\", \"Ross\", \"Monica\", \"Joey\"])          "
   ]
  },
  {
   "cell_type": "markdown",
   "id": "fa5cce68",
   "metadata": {},
   "source": [
    "Question4 An isogram is a word that has no duplicate letters. Create a function that takes a string and returns either True or False depending on whether or not it's an \"isogram\".\n",
    "\n",
    "Examples\n",
    "\n",
    "is_isogram(\"Algorism\") ➞ True\n",
    "\n",
    "is_isogram(\"PasSword\") ➞ False\n",
    "\n",
    "#Not case sensitive.\n",
    "\n",
    "is_isogram(\"Consecutive\") ➞ False\n",
    "\n",
    "Notes\n",
    "\n",
    "•\tIgnore letter case (should not be case sensitive).\n",
    "\n",
    "•\tAll test cases contain valid one word strings.\n"
   ]
  },
  {
   "cell_type": "code",
   "execution_count": 4,
   "id": "82e21f4c",
   "metadata": {},
   "outputs": [
    {
     "name": "stdout",
     "output_type": "stream",
     "text": [
      "s=Algorithm\n",
      "is_isogram(\"Algorithm\")➞True\n",
      "s=PasSword\n",
      "is_isogram(\"PasSword\")➞False\n",
      "s=Consecutive\n",
      "is_isogram(\"Consecutive\")➞False\n"
     ]
    }
   ],
   "source": [
    "def func4(s):\n",
    "    lower=s.lower()\n",
    "    if len(lower)==len(set(lower)):\n",
    "        print(f'is_isogram(\"{s}\")➞{True}')\n",
    "    else:\n",
    "        print(f'is_isogram(\"{s}\")➞{False}')\n",
    "for i in range(0,3):\n",
    "    s=input(\"s=\")\n",
    "    func4(s)"
   ]
  },
  {
   "cell_type": "markdown",
   "id": "e0bf86ef",
   "metadata": {},
   "source": [
    "Question5 Create a function that takes a string and returns True or False, depending on whether the characters are in order or not.\n",
    "\n",
    "Examples\n",
    "\n",
    "is_in_order(\"abc\") ➞ True\n",
    "\n",
    "is_in_order(\"edabit\") ➞ False\n",
    "\n",
    "is_in_order(\"123\") ➞ True\n",
    "\n",
    "is_in_order(\"xyzz\") ➞ True\n",
    "\n",
    "Notes\n",
    "\n",
    "You don't have to handle empty strings."
   ]
  },
  {
   "cell_type": "code",
   "execution_count": 5,
   "id": "9cb0c7c3",
   "metadata": {},
   "outputs": [
    {
     "name": "stdout",
     "output_type": "stream",
     "text": [
      "s1=abc\n",
      "is_in_order(\"abc\")➞True\n",
      "s1=edabit\n",
      "is_in_order(\"edabit\")➞False\n",
      "s1=123\n",
      "is_in_order(\"123\")➞True\n",
      "s1=xyzz\n",
      "is_in_order(\"xyzz\")➞True\n"
     ]
    }
   ],
   "source": [
    "def func5(s1):\n",
    "    s2=''.join(sorted(s1))\n",
    "    if s1==s2:\n",
    "        print(f'is_in_order(\"{s1}\")➞{True}')\n",
    "    else:\n",
    "        print(f'is_in_order(\"{s1}\")➞{False}')\n",
    "for i in range(0,4):\n",
    "    s1=input(\"s1=\")\n",
    "    func5(s1)"
   ]
  }
 ],
 "metadata": {
  "kernelspec": {
   "display_name": "Python 3 (ipykernel)",
   "language": "python",
   "name": "python3"
  },
  "language_info": {
   "codemirror_mode": {
    "name": "ipython",
    "version": 3
   },
   "file_extension": ".py",
   "mimetype": "text/x-python",
   "name": "python",
   "nbconvert_exporter": "python",
   "pygments_lexer": "ipython3",
   "version": "3.9.7"
  }
 },
 "nbformat": 4,
 "nbformat_minor": 5
}
