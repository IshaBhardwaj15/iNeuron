{
 "cells": [
  {
   "cell_type": "code",
   "execution_count": 1,
   "id": "d39842e6",
   "metadata": {},
   "outputs": [
    {
     "data": {
      "text/plain": [
       "['Krishna', 'Hare']"
      ]
     },
     "execution_count": 1,
     "metadata": {},
     "output_type": "execute_result"
    }
   ],
   "source": [
    "#Q1. Write a Python program to Extract Unique values dictionary values?\n",
    "#A1. code\n",
    "d={1:\"Hare\",2:\"Krishna\",3:\"Hare\",4:\"Krishna\",5:\"Krishna\",6:\"Krishna\",7:\"Hare\",8:\"Hare\"}\n",
    "d\n",
    "l=list({i for i in d.values()})\n",
    "l"
   ]
  },
  {
   "cell_type": "code",
   "execution_count": 2,
   "id": "7a1a869c",
   "metadata": {},
   "outputs": [
    {
     "name": "stdout",
     "output_type": "stream",
     "text": [
      "Sum : 607\n"
     ]
    }
   ],
   "source": [
    "#Q2. Write a Python program to find the sum of all items in a dictionary?\n",
    "#A2. code\n",
    "def Sum(Dict):\n",
    "    l=[]\n",
    "    for i in Dict:\n",
    "        l.append(Dict[i])\n",
    "    result=sum(l)\n",
    "    return result\n",
    "dict={'a': 107, 'b': 200, 'c': 300}\n",
    "print(\"Sum :\", Sum(dict))"
   ]
  },
  {
   "cell_type": "code",
   "execution_count": 3,
   "id": "d5105432",
   "metadata": {},
   "outputs": [
    {
     "name": "stdout",
     "output_type": "stream",
     "text": [
      "Merged Dictionary: {'d': 6, 'c': 4, 'a': 10, 'b': 8}\n"
     ]
    }
   ],
   "source": [
    "#Q3. Write a Python program to Merging two Dictionaries?\n",
    "#A3. code\n",
    "# Python code to merge dict using update() method\n",
    "def Merge(d1,d2):\n",
    "    return(d2.update(d1))\n",
    "d1={'a':10,'b':8}\n",
    "d2={'d':6,'c':4}\n",
    "Merge(d1,d2)\n",
    "print(\"Merged Dictionary:\",d2)"
   ]
  },
  {
   "cell_type": "code",
   "execution_count": 4,
   "id": "7574052b",
   "metadata": {},
   "outputs": [
    {
     "name": "stdout",
     "output_type": "stream",
     "text": [
      "{'A': 10, 'B': 20, 'C': 30, 'D': 40}\n"
     ]
    }
   ],
   "source": [
    "#Q4. Write a Python program to convert key-values list to flat dictionary?\n",
    "#A4. code\n",
    "l=[('A',10),('B',20),('C',30),('D',40)]\n",
    "dicti={}\n",
    "for i in l:\n",
    "    dicti[i[0]]=i[1]\n",
    "print(dicti)"
   ]
  },
  {
   "cell_type": "code",
   "execution_count": 5,
   "id": "b328a902",
   "metadata": {},
   "outputs": [
    {
     "name": "stdout",
     "output_type": "stream",
     "text": [
      "Dictionary: OrderedDict([('Bankey', '2'), ('Bihari', '3'), ('Laal', '4')])\n",
      "Updated Dictionary: OrderedDict([('Shree', '1'), ('Bankey', '2'), ('Bihari', '3'), ('Laal', '4')])\n"
     ]
    }
   ],
   "source": [
    "#Q5. Write a Python program to insertion at the beginning in OrderedDict?\n",
    "#A5. code\n",
    "from collections import OrderedDict\n",
    "ordered=OrderedDict([('Bankey','2'),('Bihari','3'),('Laal','4'),])\n",
    "print(\"Dictionary:\",ordered)\n",
    "ordered.update({'Shree':'1'})\n",
    "ordered.move_to_end('Shree',last = False)\n",
    "print(\"Updated Dictionary:\",ordered)"
   ]
  },
  {
   "cell_type": "code",
   "execution_count": 6,
   "id": "f5dc846a",
   "metadata": {},
   "outputs": [
    {
     "name": "stdout",
     "output_type": "stream",
     "text": [
      "true\n"
     ]
    }
   ],
   "source": [
    "#Q6. Write a Python program to check order of character in string using OrderedDict()?\n",
    "#A6. code\n",
    "from collections import OrderedDict\n",
    "def Order(a,b):\n",
    "    dict=OrderedDict.fromkeys(a)\n",
    "    c=0\n",
    "    for i,j in dict.items():\n",
    "        if (i==b[c]):\n",
    "            c=c+1\n",
    "        if (c==(len(b))):\n",
    "            return 'true'\n",
    "if __name__ == \"__main__\":\n",
    "    a='engineers rock'\n",
    "    b='er'\n",
    "    print(Order(a,b))"
   ]
  },
  {
   "cell_type": "code",
   "execution_count": 7,
   "id": "87a8d08d",
   "metadata": {},
   "outputs": [
    {
     "name": "stdout",
     "output_type": "stream",
     "text": [
      "key_value {2: 'Aan', 1: 'Shayama', 5: 'Mein', 4: 'Vrindavan', 3: 'Baso'}\n",
      "1\n",
      "2\n",
      "3\n",
      "4\n",
      "5\n"
     ]
    }
   ],
   "source": [
    "#Q7. Write a Python program to sort Python Dictionaries by Key or Value?\n",
    "#A7. code\n",
    "def dictionairy():\n",
    "    d={}\n",
    "    d[2]=\"Aan\"\n",
    "    d[1]=\"Shayama\"\n",
    "    d[5]=\"Mein\"\n",
    "    d[4]=\"Vrindavan\"\n",
    "    d[3]=\"Baso\"\n",
    "    print(\"key_value\",d)\n",
    "    for i in sorted(d.keys()):\n",
    "        print(i)\n",
    "def main():\n",
    "    dictionairy()\n",
    "if __name__ == \"__main__\":\n",
    "\tmain()"
   ]
  }
 ],
 "metadata": {
  "kernelspec": {
   "display_name": "Python 3 (ipykernel)",
   "language": "python",
   "name": "python3"
  },
  "language_info": {
   "codemirror_mode": {
    "name": "ipython",
    "version": 3
   },
   "file_extension": ".py",
   "mimetype": "text/x-python",
   "name": "python",
   "nbconvert_exporter": "python",
   "pygments_lexer": "ipython3",
   "version": "3.9.7"
  }
 },
 "nbformat": 4,
 "nbformat_minor": 5
}
