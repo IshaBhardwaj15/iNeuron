{
 "cells": [
  {
   "cell_type": "markdown",
   "id": "0cd5e540",
   "metadata": {},
   "source": [
    "Question1. Create a function that takes three arguments a, b, c and returns the sum of the numbers that are evenly divided by c from the range a, b inclusive.\n",
    "Examples\n",
    "evenly_divisible(1, 10, 20) ➞ 0\n",
    "No number between 1 and 10 can be evenly divided by 20.\n",
    "evenly_divisible(1, 10, 2) ➞ 30\n",
    "2 + 4 + 6 + 8 + 10 = 30\n",
    "evenly_divisible(1, 10, 3) ➞ 18\n",
    "3 + 6 + 9 = 18"
   ]
  },
  {
   "cell_type": "code",
   "execution_count": 1,
   "id": "dedf0361",
   "metadata": {},
   "outputs": [
    {
     "name": "stdout",
     "output_type": "stream",
     "text": [
      "(1, 10, 20)➞0\n",
      "(1, 10, 2)➞30\n",
      "(1, 10, 3)➞18\n"
     ]
    }
   ],
   "source": [
    "def func1(a,b,c):\n",
    "    L=[]\n",
    "    for n in range(a,b+1):\n",
    "        if n%c==0:\n",
    "            L.append(n)\n",
    "    print(f'{a,b,c}➞{sum(L)}')\n",
    "func1(1,10,20)\n",
    "func1(1,10,2)\n",
    "func1(1,10,3)"
   ]
  },
  {
   "cell_type": "markdown",
   "id": "6dce4ee4",
   "metadata": {},
   "source": [
    "Question2. Create a function that returns True if a given inequality expression is correct and False otherwise.\n",
    "Examples\n",
    "correct_signs(\"3 < 7 < 11\") ➞ True\n",
    "correct_signs(\"13 > 44 > 33 > 1\") ➞ False\n",
    "correct_signs(\"1 < 2 < 6 < 9 > 3\") ➞ True"
   ]
  },
  {
   "cell_type": "code",
   "execution_count": 2,
   "id": "c99a496d",
   "metadata": {},
   "outputs": [
    {
     "name": "stdout",
     "output_type": "stream",
     "text": [
      "Enter the inequality:3 < 7 < 11\n",
      "3 < 7 < 11➞True\n",
      "Enter the inequality:13 > 44 > 33 > 1\n",
      "13 > 44 > 33 > 1➞False\n",
      "Enter the inequality:1 < 2 < 6 < 9 > 3\n",
      "1 < 2 < 6 < 9 > 3➞True\n"
     ]
    }
   ],
   "source": [
    "def func2():\n",
    "    s=input('Enter the inequality:')\n",
    "    result=eval(s)\n",
    "    print(f'{s}➞{result}')\n",
    "for i in range(3):\n",
    "    func2()"
   ]
  },
  {
   "cell_type": "markdown",
   "id": "60744cf2",
   "metadata": {},
   "source": [
    "Question3. Create a function that replaces all the vowels in a string with a specified character.\n",
    "Examples\n",
    "replace_vowels(\"the aardvark\", \"#\") ➞ \"th# ##rdv#rk\"\n",
    "replace_vowels(\"minnie mouse\", \"?\") ➞ \"m?nn?? m??s?\"\n",
    "replace_vowels(\"shakespeare\", \"*\") ➞ \"sh*k*sp**r*\""
   ]
  },
  {
   "cell_type": "code",
   "execution_count": 4,
   "id": "0c0c103f",
   "metadata": {},
   "outputs": [
    {
     "name": "stdout",
     "output_type": "stream",
     "text": [
      "Enter the string:the aardvark\n",
      "Enter replacement string:#\n",
      "the aardvark#➞th# ##rdv#rk\n",
      "Enter the string:minnie mouse\n",
      "Enter replacement string:?\n",
      "minnie mouse?➞m?nn?? m??s?\n",
      "Enter the string:shakespeare\n",
      "Enter replacement string:*\n",
      "shakespeare*➞sh*k*sp**r*\n"
     ]
    }
   ],
   "source": [
    "def func3():\n",
    "    s=input('Enter the string:')\n",
    "    s1=s\n",
    "    v=['a','e','i','o','u','A','E','I','O','U']\n",
    "    r=input(\"Enter replacement string:\")\n",
    "    for i in s:\n",
    "        if i in v:\n",
    "            s=s.replace(i,r)\n",
    "    print(f'{s1}{r}➞{s}')\n",
    "for k in range(3):\n",
    "    func3()"
   ]
  },
  {
   "cell_type": "markdown",
   "id": "296b2aa3",
   "metadata": {},
   "source": [
    "Question4. Write a function that calculates the factorial of a number recursively.\n",
    "Examples\n",
    "factorial(5) ➞ 120\n",
    "factorial(3) ➞ 6\n",
    "factorial(1) ➞ 1\n",
    "factorial(0) ➞ 1"
   ]
  },
  {
   "cell_type": "code",
   "execution_count": 10,
   "id": "400c0e75",
   "metadata": {},
   "outputs": [
    {
     "name": "stdout",
     "output_type": "stream",
     "text": [
      "Enter number:5\n",
      "factorial(5)➞120\n",
      "Enter number:3\n",
      "factorial(3)➞6\n",
      "Enter number:1\n",
      "factorial(1)➞1\n"
     ]
    }
   ],
   "source": [
    "def func4():\n",
    "    n=int(input(\"Enter number:\"))\n",
    "    if n==0:\n",
    "        result=1\n",
    "    else:\n",
    "        result=n*factorial(n-1)\n",
    "    print(f'factorial({n})➞{result}')\n",
    "for i in range(3):\n",
    "    func4()"
   ]
  },
  {
   "cell_type": "markdown",
   "id": "343c4a2c",
   "metadata": {},
   "source": [
    "Question 5\n",
    "Hamming distance is the number of characters that differ between two strings.\n",
    "To illustrate:\n",
    "String1: \"abcbba\"\n",
    "String2: \"abcbda\"\n",
    "Hamming Distance: 1 - \"b\" vs. \"d\" is the only difference.\n",
    "Create a function that computes the hamming distance between two strings.\n",
    "Examples\n",
    "hamming_distance(\"abcde\", \"bcdef\") ➞ 5\n",
    "hamming_distance(\"abcde\", \"abcde\") ➞ 0\n",
    "hamming_distance(\"strong\", \"strung\") ➞ 1"
   ]
  },
  {
   "cell_type": "code",
   "execution_count": 12,
   "id": "0579bc20",
   "metadata": {},
   "outputs": [
    {
     "name": "stdout",
     "output_type": "stream",
     "text": [
      "Enter the String1:abcde\n",
      "Enter the String2:bcdef\n",
      "Hamning Distance b/w abcde and bcdef➞5\n",
      "Enter the String1:abcde\n",
      "Enter the String2:abcde\n",
      "Hamning Distance b/w abcde and abcde➞0\n",
      "Enter the String1:strong\n",
      "Enter the String2:strung\n",
      "Hamning Distance b/w strong and strung➞1\n"
     ]
    }
   ],
   "source": [
    "def HammeringDistance():\n",
    "    s1=input('Enter the String1:')\n",
    "    s2=input('Enter the String2:')\n",
    "    if len(s1)==len(s2):\n",
    "        count = 0\n",
    "        for i in range(len(s1)):\n",
    "            if s1[i]!=s2[i]:\n",
    "                count=count+1\n",
    "        print(f'Hamning Distance b/w {s1} and {s2}➞{count}')\n",
    "    else:\n",
    "        print('Both Strings Must be of Same Length')\n",
    "for j in range(3):\n",
    "    HammeringDistance()"
   ]
  }
 ],
 "metadata": {
  "kernelspec": {
   "display_name": "Python 3 (ipykernel)",
   "language": "python",
   "name": "python3"
  },
  "language_info": {
   "codemirror_mode": {
    "name": "ipython",
    "version": 3
   },
   "file_extension": ".py",
   "mimetype": "text/x-python",
   "name": "python",
   "nbconvert_exporter": "python",
   "pygments_lexer": "ipython3",
   "version": "3.9.7"
  }
 },
 "nbformat": 4,
 "nbformat_minor": 5
}
