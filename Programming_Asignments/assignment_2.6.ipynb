{
 "cells": [
  {
   "cell_type": "code",
   "execution_count": 1,
   "id": "41c7b932",
   "metadata": {},
   "outputs": [
    {
     "name": "stdout",
     "output_type": "stream",
     "text": [
      "Number of terms of series=7\n",
      "0,1,1,2,3,5,8,"
     ]
    }
   ],
   "source": [
    "#Q1. Write a Python Program to Display Fibonacci Sequence Using Recursion?\n",
    "#A1. code\n",
    "def fibonacci(n):\n",
    "    if n<=1:\n",
    "        return n\n",
    "    else:\n",
    "        return(fibonacci(n-1)+fibonacci(n-2))\n",
    "n=int(input('Number of terms of series='))\n",
    "for i in range(n):\n",
    "    print(fibonacci(i),end=',')"
   ]
  },
  {
   "cell_type": "code",
   "execution_count": 2,
   "id": "ec00a09e",
   "metadata": {},
   "outputs": [
    {
     "name": "stdout",
     "output_type": "stream",
     "text": [
      "Factorial of number=8\n",
      "Factorial of 8 is 40320\n"
     ]
    }
   ],
   "source": [
    "#Q2. Write a Python Program to Find Factorial of Number Using Recursion?\n",
    "#A2. code\n",
    "def factorial(n):\n",
    "    if n==0:\n",
    "        return 1\n",
    "    else:\n",
    "        return n*factorial(n-1)\n",
    "n=int(input('Factorial of number='))\n",
    "result=factorial(n)\n",
    "print(f'Factorial of {n} is {result}')"
   ]
  },
  {
   "cell_type": "code",
   "execution_count": 3,
   "id": "d115d651",
   "metadata": {},
   "outputs": [
    {
     "name": "stdout",
     "output_type": "stream",
     "text": [
      "For given Weight in Kgs=65\n",
      "For given height in Meters=1.625\n",
      "BMI= 24.615384615384617 Normal Weight\n"
     ]
    }
   ],
   "source": [
    "# Q3. Write a Python Program to calculate your Body Mass Index?\n",
    "#A3. code\n",
    "def BMI():\n",
    "    w=float(input('For given Weight in Kgs='))\n",
    "    h=float(input('For given height in Meters='))\n",
    "    b=w/(h**2)\n",
    "    if (b<18.5):\n",
    "        s=print('BMI=',b,'Underweight')\n",
    "    elif (b>18.5 and b<24.9):\n",
    "        s=print('BMI=',b,'Normal Weight')\n",
    "    elif (b>24.9 and b<30.0):\n",
    "        s=print('BMI=',b,'Overweight')\n",
    "    elif (b>30.0):\n",
    "        s=print('BMI=',b,'Obese')\n",
    "BMI()"
   ]
  },
  {
   "cell_type": "code",
   "execution_count": 4,
   "id": "e769aed8",
   "metadata": {},
   "outputs": [
    {
     "name": "stdout",
     "output_type": "stream",
     "text": [
      "Enter a Number=32\n",
      "3.4657359027997265\n"
     ]
    }
   ],
   "source": [
    "#Q4. Write a Python Program to calculate the natural logarithm of any number?\n",
    "#A4. code\n",
    "import math\n",
    "def NatLog():\n",
    "    n = eval(input(\"Enter a Number=\"))\n",
    "    print(math.log(n))\n",
    "NatLog()"
   ]
  },
  {
   "cell_type": "code",
   "execution_count": 5,
   "id": "39239cca",
   "metadata": {},
   "outputs": [
    {
     "name": "stdout",
     "output_type": "stream",
     "text": [
      "Enter a Natural Number=3\n",
      "The Cube Sum of First 3 Natural Numbers is 36.0\n"
     ]
    }
   ],
   "source": [
    "#Q5. Write a Python Program for cube sum of first n natural numbers?\n",
    "#A5. code\n",
    "def cubeOfNaturalNumbers():\n",
    "    n = int(input(\"Enter a Natural Number=\"))\n",
    "    result = pow(((n * (n+1))/2),2)\n",
    "    print(f'The Cube Sum of First {n} Natural Numbers is {result}')\n",
    "cubeOfNaturalNumbers()"
   ]
  }
 ],
 "metadata": {
  "kernelspec": {
   "display_name": "Python 3 (ipykernel)",
   "language": "python",
   "name": "python3"
  },
  "language_info": {
   "codemirror_mode": {
    "name": "ipython",
    "version": 3
   },
   "file_extension": ".py",
   "mimetype": "text/x-python",
   "name": "python",
   "nbconvert_exporter": "python",
   "pygments_lexer": "ipython3",
   "version": "3.9.7"
  }
 },
 "nbformat": 4,
 "nbformat_minor": 5
}
