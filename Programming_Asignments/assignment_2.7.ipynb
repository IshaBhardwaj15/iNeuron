{
 "cells": [
  {
   "cell_type": "code",
   "execution_count": 2,
   "id": "7bc51deb",
   "metadata": {},
   "outputs": [
    {
     "name": "stdout",
     "output_type": "stream",
     "text": [
      "Perform summation of elements of the the given Array=1,2,3,4,5,6\n",
      "Sum of (1, 2, 3, 4, 5, 6) is 21\n"
     ]
    }
   ],
   "source": [
    "#Q1. Write a Python Program to find sum of array?\n",
    "#A1. code\n",
    "def ArraySum():\n",
    "    array=eval(input('Perform summation of elements of the the given Array='))\n",
    "    print(f'Sum of {array} is {sum(array)}')\n",
    "ArraySum()"
   ]
  },
  {
   "cell_type": "code",
   "execution_count": 3,
   "id": "f4eb38c6",
   "metadata": {},
   "outputs": [
    {
     "name": "stdout",
     "output_type": "stream",
     "text": [
      "Which element in the given array is the largest=1,2,3,4,5,6\n",
      "Largest element of (1, 2, 3, 4, 5, 6) is 6\n"
     ]
    }
   ],
   "source": [
    "#Q2. Write a Python Program to find largest element in an array?\n",
    "#A2. code\n",
    "def ArrayMax():\n",
    "    array1=eval(input('Which element in the given array is the largest='))\n",
    "    print(f'Largest element of {array1} is {max(array1)}')\n",
    "ArrayMax()"
   ]
  },
  {
   "cell_type": "code",
   "execution_count": 4,
   "id": "0547ae9a",
   "metadata": {},
   "outputs": [
    {
     "name": "stdout",
     "output_type": "stream",
     "text": [
      "Enter Array to be roated=123456\n",
      "['1', '2', '3', '4', '5', '6']\n",
      "Rotated array is\n",
      "['3', '4', '5', '6', '1', '2']\n"
     ]
    }
   ],
   "source": [
    "#Q3. Write a Python Program for array rotation?\n",
    "#A3. code\n",
    "def rotateArray(array2,d,n):\n",
    "    array2[:]=array2[d:n]+array2[0:d]\n",
    "    return array2\n",
    "array2=list(input('Enter Array to be roated='))\n",
    "print(array2)\n",
    "print(\"Rotated array is\")\n",
    "print(rotateArray(array2,2,len(array2)))"
   ]
  },
  {
   "cell_type": "code",
   "execution_count": 5,
   "id": "3ab6337e",
   "metadata": {},
   "outputs": [
    {
     "name": "stdout",
     "output_type": "stream",
     "text": [
      "First part of array [1, 2, 3]\n",
      "End part of array [4, 5, 6]\n",
      "Sum= 21\n"
     ]
    }
   ],
   "source": [
    "#Q4. Write a Python Program to Split the array and add the first part to the end?\n",
    "#A4. code\n",
    "import numpy as np\n",
    "array3=np.array([1,2,3,4,5,6])\n",
    "newArray=np.array_split(array3,2)\n",
    "a=list(newArray[0])\n",
    "b=list(newArray[1])\n",
    "print('First part of array',a)\n",
    "print('End part of array',b)\n",
    "tot1=0\n",
    "tot2=0\n",
    "for i in range(0,len(a)):\n",
    "    tot1=tot1+a[i]\n",
    "for j in range(0,len(b)):\n",
    "    tot2=tot2+b[j]\n",
    "s=tot1+tot2\n",
    "print('Sum=',s)"
   ]
  },
  {
   "cell_type": "code",
   "execution_count": 6,
   "id": "bdcfa04f",
   "metadata": {},
   "outputs": [
    {
     "name": "stdout",
     "output_type": "stream",
     "text": [
      "Enter the Array: 1,2,3,4,5,6\n",
      "Array (1, 2, 3, 4, 5, 6) is Monotonic\n"
     ]
    }
   ],
   "source": [
    "#Q5. Write a Python Program to check if given array is Monotonic?\n",
    "#A5. code\n",
    "def Monotonic():\n",
    "    array4 = eval(input(\"Enter the Array: \"))\n",
    "    if(all(array4[i]<=array4[i+1] for i in range(len(array4)-1)) or all(array4[i]>=array4[i+1] for i in range(len(array4)-1))):\n",
    "        print(f'Array {array4} is Monotonic')\n",
    "    else:\n",
    "        print(f'Array {array4} is Not Monotonic')\n",
    "Monotonic()"
   ]
  }
 ],
 "metadata": {
  "kernelspec": {
   "display_name": "Python 3 (ipykernel)",
   "language": "python",
   "name": "python3"
  },
  "language_info": {
   "codemirror_mode": {
    "name": "ipython",
    "version": 3
   },
   "file_extension": ".py",
   "mimetype": "text/x-python",
   "name": "python",
   "nbconvert_exporter": "python",
   "pygments_lexer": "ipython3",
   "version": "3.9.7"
  }
 },
 "nbformat": 4,
 "nbformat_minor": 5
}
