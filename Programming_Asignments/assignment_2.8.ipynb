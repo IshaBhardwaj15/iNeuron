{
 "cells": [
  {
   "cell_type": "code",
   "execution_count": 1,
   "id": "5194c94a",
   "metadata": {},
   "outputs": [
    {
     "name": "stdout",
     "output_type": "stream",
     "text": [
      "[10, 10, 10]\n",
      "[10, 10, 10]\n",
      "[10, 10, 10]\n"
     ]
    }
   ],
   "source": [
    "#Q1. Write a Python Program to Add Two Matrices?\n",
    "#A1. code\n",
    "X = [[1,2,3],\n",
    "    [4,5,6],\n",
    "    [7,8,9]]\n",
    "Y = [[9,8,7],\n",
    "    [6,5,4],\n",
    "    [3,2,1]]\n",
    "def MatrixAddition(X,Y):\n",
    "    result = [[0,0,0],\n",
    "             [0,0,0],\n",
    "             [0,0,0]]\n",
    "    for i in range(len(X)):\n",
    "           for j in range(len(X[0])):\n",
    "                   result[i][j] = X[i][j] + Y[i][j]\n",
    "    for r in result:\n",
    "           print(r)\n",
    "MatrixAddition(X,Y)"
   ]
  },
  {
   "cell_type": "code",
   "execution_count": 2,
   "id": "434d9fce",
   "metadata": {},
   "outputs": [
    {
     "name": "stdout",
     "output_type": "stream",
     "text": [
      "[30, 24, 18]\n",
      "[84, 69, 54]\n",
      "[138, 114, 90]\n"
     ]
    }
   ],
   "source": [
    "#Q2. Write a Python Program to Multiply Two Matrices?\n",
    "#A2. code\n",
    "X = [[1,2,3],\n",
    "    [4,5,6],\n",
    "    [7,8,9]]\n",
    "Y = [[9,8,7],\n",
    "    [6,5,4],\n",
    "    [3,2,1]]\n",
    "def MatrixMultiplication(X,Y):\n",
    "    result = [[0,0,0],\n",
    "             [0,0,0],\n",
    "             [0,0,0]]\n",
    "    for i in range(len(X)):\n",
    "           for j in range(len(Y[0])):\n",
    "                    for k in range(len(Y)):\n",
    "                           result[i][j] =result[i][j] + X[i][k] * Y[k][j]\n",
    "    for r in result:\n",
    "           print(r)\n",
    "MatrixMultiplication(X,Y)"
   ]
  },
  {
   "cell_type": "code",
   "execution_count": 3,
   "id": "31b70672",
   "metadata": {},
   "outputs": [
    {
     "name": "stdout",
     "output_type": "stream",
     "text": [
      "[1, 4, 7]\n",
      "[2, 5, 8]\n",
      "[3, 6, 9]\n"
     ]
    }
   ],
   "source": [
    "#Q3. Write a Python Program to Transpose a Matrix?\n",
    "#A3. code\n",
    "X = [[1,2,3],\n",
    "    [4,5,6],\n",
    "    [7,8,9]]\n",
    "def MatrixTranspose(X):\n",
    "    result=[[0,0,0],\n",
    "           [0,0,0],\n",
    "           [0,0,0]]\n",
    "    for i in range(len(X)):\n",
    "        for j in range(len(X[0])):\n",
    "            result[j][i]=X[i][j]\n",
    "    for r in result:\n",
    "        print(r)\n",
    "MatrixTranspose(X)"
   ]
  },
  {
   "cell_type": "code",
   "execution_count": 4,
   "id": "25793598",
   "metadata": {},
   "outputs": [
    {
     "name": "stdout",
     "output_type": "stream",
     "text": [
      "Enter a string: Hi, y name is Isha Bhardwaj\n",
      "Sorted Words are:\n",
      "bhardwaj\n",
      "hi,\n",
      "is\n",
      "isha\n",
      "name\n",
      "y\n"
     ]
    }
   ],
   "source": [
    "#Q4. Write a Python Program to Sort Words in Alphabetic Order?\n",
    "#A4. code\n",
    "String=input(\"Enter a string: \")\n",
    "words=[word.lower()\n",
    "for word in String.split()]\n",
    "words.sort()\n",
    "print(\"Sorted Words are:\")\n",
    "for word in words:\n",
    "    print(word)"
   ]
  },
  {
   "cell_type": "code",
   "execution_count": 5,
   "id": "d2cdc1e5",
   "metadata": {},
   "outputs": [
    {
     "name": "stdout",
     "output_type": "stream",
     "text": [
      "Enter a String: Hi! I'm Isha. What's your name?\n",
      "Hi Im Isha Whats your name\n"
     ]
    }
   ],
   "source": [
    "#Q5. Write a Python Program to Remove Punctuation From a String?\n",
    "#A5. code\n",
    "def RemovePunctuatuions():\n",
    "    Punctuations='''!()-[]{};:'\"\\,<>./?@#$%^&*_~'''\n",
    "    String=input('Enter a String: ')\n",
    "    result=''\n",
    "    for i in String:\n",
    "        if i not in Punctuations:\n",
    "            result=result+i\n",
    "    print(result)\n",
    "RemovePunctuatuions()"
   ]
  }
 ],
 "metadata": {
  "kernelspec": {
   "display_name": "Python 3 (ipykernel)",
   "language": "python",
   "name": "python3"
  },
  "language_info": {
   "codemirror_mode": {
    "name": "ipython",
    "version": 3
   },
   "file_extension": ".py",
   "mimetype": "text/x-python",
   "name": "python",
   "nbconvert_exporter": "python",
   "pygments_lexer": "ipython3",
   "version": "3.9.7"
  }
 },
 "nbformat": 4,
 "nbformat_minor": 5
}
