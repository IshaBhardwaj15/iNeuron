{
 "cells": [
  {
   "cell_type": "markdown",
   "id": "029276d9",
   "metadata": {},
   "source": [
    "Question1. Write a function that stutters a word as if someone is struggling to read it. The first two letters are repeated twice with an ellipsis ... and space after each, and then the word is pronounced with a question mark ?.\n",
    "Examples\n",
    "stutter(\"incredible\") ➞ \"in... in... incredible?\"\n",
    "stutter(\"enthusiastic\") ➞ \"en... en... enthusiastic?\"\n",
    "stutter(\"outstanding\") ➞ \"ou... ou... outstanding?\"\n",
    "Hint :- Assume all input is in lower case and at least two characters long."
   ]
  },
  {
   "cell_type": "code",
   "execution_count": 1,
   "id": "61858cd1",
   "metadata": {},
   "outputs": [
    {
     "name": "stdout",
     "output_type": "stream",
     "text": [
      "Enter the Word:incredible\n",
      "incredible➞in... in... incredible?\n",
      "Enter the Word:enthusiastic\n",
      "enthusiastic➞en... en... enthusiastic?\n",
      "Enter the Word:outstanding\n",
      "outstanding➞ou... ou... outstanding?\n"
     ]
    }
   ],
   "source": [
    "def Stutter():\n",
    "    s=input('Enter the Word:')\n",
    "    result=s.replace(s[0:2],((s[0:2]+'... ')*2)+s[0:2])+'?'\n",
    "    print(f'{s}➞{result}')\n",
    "for i in range(3):\n",
    "    Stutter()"
   ]
  },
  {
   "cell_type": "markdown",
   "id": "01c9e2eb",
   "metadata": {},
   "source": [
    "Question 2.Create a function that takes an angle in radians and returns the corresponding angle in degrees rounded to one decimal place.\n",
    "Examples\n",
    "radians_to_degrees(1) ➞ 57.3\n",
    "radians_to_degrees(20) ➞ 1145.9\n",
    "radians_to_degrees(50) ➞ 2864.8"
   ]
  },
  {
   "cell_type": "code",
   "execution_count": 2,
   "id": "7f0f0515",
   "metadata": {},
   "outputs": [
    {
     "name": "stdout",
     "output_type": "stream",
     "text": [
      "Enter the angle in Radian:1\n",
      "1 radian➞57.3 degrees\n",
      "Enter the angle in Radian:20\n",
      "20 radian➞1145.9 degrees\n",
      "Enter the angle in Radian:50\n",
      "50 radian➞2864.8 degrees\n"
     ]
    }
   ],
   "source": [
    "import math\n",
    "def RadianToDegreeConversion():\n",
    "    n=int(input('Enter the angle in Radian:'))\n",
    "    result=(180/math.pi)*n\n",
    "    print(f'{n} radian➞{result:.1f} degrees')\n",
    "for i in range(3):\n",
    "    RadianToDegreeConversion()"
   ]
  },
  {
   "cell_type": "markdown",
   "id": "1e10047a",
   "metadata": {},
   "source": [
    "Question 3. In this challenge, establish if a given integer num is a Curzon number. If 1 plus 2 elevated to num is exactly divisible by 1 plus 2 multiplied by num, then num is a Curzon number.\n",
    "Given a non-negative integer num, implement a function that returns True if num is a Curzon number, or False otherwise.\n",
    "Examples\n",
    "is_curzon(5) ➞ True\n",
    "2 ** 5 + 1 = 33\n",
    "2 * 5 + 1 = 11\n",
    "33 is a multiple of 11\n",
    "is_curzon(10) ➞ False\n",
    "2 ** 10 + 1 = 1025\n",
    "2 * 10 + 1 = 21\n",
    "1025 is not a multiple of 21\n",
    "is_curzon(14) ➞ True\n",
    "2 ** 14 + 1 = 16385\n",
    "2 * 14 + 1 = 29\n",
    "16385 is a multiple of 29"
   ]
  },
  {
   "cell_type": "code",
   "execution_count": 3,
   "id": "762c204d",
   "metadata": {},
   "outputs": [
    {
     "name": "stdout",
     "output_type": "stream",
     "text": [
      "Enter a number:5\n",
      "Curzon(5)➞True\n",
      "Enter a number:10\n",
      "Curzon(10)➞False\n",
      "Enter a number:14\n",
      "Curzon(14)➞True\n"
     ]
    }
   ],
   "source": [
    "def Curzon():\n",
    "    n=int(input(\"Enter a number:\"))\n",
    "    if (2**n+1)%(2*n+1)==0:\n",
    "        print(f'Curzon({n})➞True')\n",
    "    else:\n",
    "        print(f'Curzon({n})➞False')\n",
    "for i in range(3):\n",
    "    Curzon()"
   ]
  },
  {
   "cell_type": "markdown",
   "id": "4fc69af6",
   "metadata": {},
   "source": [
    "Question 4.Given the side length x find the area of a hexagon.\n",
    "Examples\n",
    "area_of_hexagon(1) ➞ 2.6\n",
    "area_of_hexagon(2) ➞ 10.4\n",
    "area_of_hexagon(3) ➞ 23.4"
   ]
  },
  {
   "cell_type": "code",
   "execution_count": 4,
   "id": "f15236cc",
   "metadata": {},
   "outputs": [
    {
     "name": "stdout",
     "output_type": "stream",
     "text": [
      "Enter the length of side of Hexazon:1\n",
      "area_of_Hexagon(1)➞2.60\n",
      "Enter the length of side of Hexazon:2\n",
      "area_of_Hexagon(2)➞10.39\n",
      "Enter the length of side of Hexazon:3\n",
      "area_of_Hexagon(3)➞23.38\n"
     ]
    }
   ],
   "source": [
    "import math\n",
    "def HexagonArea():\n",
    "    s=int(input(\"Enter the length of side of Hexazon:\"))\n",
    "    area=((3*(math.sqrt(3)))*(s**2))/2\n",
    "    print(f'area_of_Hexagon({s})➞{area:.2f}')\n",
    "for i in range(3):\n",
    "    HexagonArea()"
   ]
  },
  {
   "cell_type": "markdown",
   "id": "2d192a96",
   "metadata": {},
   "source": [
    "Question 5. Create a function that returns a base-2 (binary) representation of a base-10 (decimal) string number. To convert is simple: ((2) means base-2 and (10) means base-10) 010101001(2) = 1 + 8 + 32 + 128.\n",
    "Going from right to left, the value of the most right bit is 1, now from that every bit to the left will be x2 the value, value of an 8 bit binary numbers are (256, 128, 64, 32, 16, 8, 4, 2, 1).\n",
    "Examples\n",
    "binary(1) ➞ \"1\"\n",
    "1*1 = 1\n",
    "binary(5) ➞ \"101\"\n",
    "1*1 + 1*4 = 5\n",
    "binary(10) ➞ \"1010\"\n",
    "1*2 + 1*8 = 10"
   ]
  },
  {
   "cell_type": "code",
   "execution_count": 5,
   "id": "0e02bb89",
   "metadata": {},
   "outputs": [
    {
     "name": "stdout",
     "output_type": "stream",
     "text": [
      "Enter a base 2 number:1\n",
      "binary(1)➞\"1\"\n",
      "Enter a base 2 number:5\n",
      "binary(5)➞\"101\"\n",
      "Enter a base 2 number:10\n",
      "binary(10)➞\"1010\"\n"
     ]
    }
   ],
   "source": [
    "def decimalConversion():\n",
    "    n=int(input(\"Enter a base 2 number:\"))\n",
    "    result=bin(n).replace('0b','')\n",
    "    print(f'binary({n})➞\"{result}\"')\n",
    "for i in range(3):\n",
    "    decimalConversion()"
   ]
  }
 ],
 "metadata": {
  "kernelspec": {
   "display_name": "Python 3 (ipykernel)",
   "language": "python",
   "name": "python3"
  },
  "language_info": {
   "codemirror_mode": {
    "name": "ipython",
    "version": 3
   },
   "file_extension": ".py",
   "mimetype": "text/x-python",
   "name": "python",
   "nbconvert_exporter": "python",
   "pygments_lexer": "ipython3",
   "version": "3.9.7"
  }
 },
 "nbformat": 4,
 "nbformat_minor": 5
}
