{
 "cells": [
  {
   "cell_type": "code",
   "execution_count": 38,
   "id": "9b550d28",
   "metadata": {},
   "outputs": [],
   "source": [
    "#Q1. What are the two values of the Boolean data type? How do you write them?\n",
    "#A1. The two values of Boolean data type are True and false and they are written as \"True\" and \"False\""
   ]
  },
  {
   "cell_type": "code",
   "execution_count": 39,
   "id": "02eb2c1f",
   "metadata": {},
   "outputs": [],
   "source": [
    "#Q2. What are the three different types of Boolean operators\n",
    "#A2. The three different types of Boolean operators are: \n",
    "# 1. AND\n",
    "# 2. OR\n",
    "# 3. NOT"
   ]
  },
  {
   "cell_type": "code",
   "execution_count": 40,
   "id": "eb4d0f20",
   "metadata": {},
   "outputs": [],
   "source": [
    "#Q3. Make a list of each Boolean operator's truth tables \n",
    "#(i.e. every possible combination of Boolean values for the operator and what it evaluate ).\n",
    "#A3. Table is described as follows:\n",
    "#A\t    B\t    A AND B\tA OR B\tNOT A\n",
    "#False\tFalse\tFalse\tFalse\tTrue\n",
    "#False\tTrue\tFalse\tTrue\tTrue\n",
    "#True\tFalse\tFalse\tTrue\tFalse\n",
    "#True\tTrue\tTrue\tTrue\tFalse"
   ]
  },
  {
   "cell_type": "code",
   "execution_count": 41,
   "id": "e574e097",
   "metadata": {},
   "outputs": [],
   "source": [
    "#Q4. What are the values of the following expressions?"
   ]
  },
  {
   "cell_type": "code",
   "execution_count": 42,
   "id": "a85a6a52",
   "metadata": {},
   "outputs": [
    {
     "data": {
      "text/plain": [
       "False"
      ]
     },
     "execution_count": 42,
     "metadata": {},
     "output_type": "execute_result"
    }
   ],
   "source": [
    "(5 > 4) and (3 == 5)"
   ]
  },
  {
   "cell_type": "code",
   "execution_count": 43,
   "id": "d74ceb16",
   "metadata": {},
   "outputs": [
    {
     "data": {
      "text/plain": [
       "False"
      ]
     },
     "execution_count": 43,
     "metadata": {},
     "output_type": "execute_result"
    }
   ],
   "source": [
    "not (5 > 4)"
   ]
  },
  {
   "cell_type": "code",
   "execution_count": 44,
   "id": "af21452e",
   "metadata": {},
   "outputs": [
    {
     "data": {
      "text/plain": [
       "True"
      ]
     },
     "execution_count": 44,
     "metadata": {},
     "output_type": "execute_result"
    }
   ],
   "source": [
    "(5 > 4) or (3 == 5)"
   ]
  },
  {
   "cell_type": "code",
   "execution_count": 45,
   "id": "1814369d",
   "metadata": {},
   "outputs": [
    {
     "data": {
      "text/plain": [
       "False"
      ]
     },
     "execution_count": 45,
     "metadata": {},
     "output_type": "execute_result"
    }
   ],
   "source": [
    "not ((5 > 4) or (3 == 5))"
   ]
  },
  {
   "cell_type": "code",
   "execution_count": 46,
   "id": "aff466db",
   "metadata": {},
   "outputs": [
    {
     "data": {
      "text/plain": [
       "False"
      ]
     },
     "execution_count": 46,
     "metadata": {},
     "output_type": "execute_result"
    }
   ],
   "source": [
    "(True and True) and (True == False)"
   ]
  },
  {
   "cell_type": "code",
   "execution_count": 47,
   "id": "9851b5d5",
   "metadata": {},
   "outputs": [
    {
     "data": {
      "text/plain": [
       "True"
      ]
     },
     "execution_count": 47,
     "metadata": {},
     "output_type": "execute_result"
    }
   ],
   "source": [
    "(not False) or (not True)"
   ]
  },
  {
   "cell_type": "code",
   "execution_count": 48,
   "id": "2da3dadd",
   "metadata": {},
   "outputs": [],
   "source": [
    "#Q5. What are the six comparison operators?\n",
    "#A5. Six comparison operators are as given below\n",
    "#1. less than(<).\n",
    "#2. Greater than(>).\n",
    "#3. Less than or equal(<=).\n",
    "#4. Greater than or equal(>=).\n",
    "#5. Equals(==). \n",
    "#6. Not equal(!=)."
   ]
  },
  {
   "cell_type": "code",
   "execution_count": 49,
   "id": "6b08ddf1",
   "metadata": {},
   "outputs": [],
   "source": [
    "#Q6. How do you tell the difference between the equal to and assignment operators?\n",
    "#Describe a condition and when you would use one.\n",
    "#A6. The “=” is an assignment operator is used to assign the value on the right to the variable on the left.\n",
    "#The '==' operator checks whether the two given operands are equal or not.\n",
    "#If so, it returns true. Otherwise it returns false(boolean values)"
   ]
  },
  {
   "cell_type": "code",
   "execution_count": 50,
   "id": "0d1022e7",
   "metadata": {},
   "outputs": [
    {
     "ename": "IndentationError",
     "evalue": "expected an indented block (Temp/ipykernel_7544/500338332.py, line 4)",
     "output_type": "error",
     "traceback": [
      "\u001b[1;36m  File \u001b[1;32m\"C:\\Users\\ps4z\\AppData\\Local\\Temp/ipykernel_7544/500338332.py\"\u001b[1;36m, line \u001b[1;32m4\u001b[0m\n\u001b[1;33m    print('eggs')\u001b[0m\n\u001b[1;37m    ^\u001b[0m\n\u001b[1;31mIndentationError\u001b[0m\u001b[1;31m:\u001b[0m expected an indented block\n"
     ]
    }
   ],
   "source": [
    "#Q7. Identify the three blocks in this code:\n",
    "spam = 0\n",
    "if spam == 10:\n",
    "print('eggs')\n",
    "if spam > 5:\n",
    "print('bacon')\n",
    "else:\n",
    "print('ham')\n",
    "print('spam')\n",
    "print('spam')"
   ]
  },
  {
   "cell_type": "code",
   "execution_count": 51,
   "id": "228f8e27",
   "metadata": {},
   "outputs": [],
   "source": [
    "#A7.\n",
    "#BLOCK 1 spam = 0 if spam == 10: print('eggs')\n",
    "#BLOCK 2 if spam > 5: print('bacon')\n",
    "#BLOCK 3 else: print('ham') print('spam') print('spam')"
   ]
  },
  {
   "cell_type": "code",
   "execution_count": 58,
   "id": "77ae1856",
   "metadata": {},
   "outputs": [
    {
     "name": "stdout",
     "output_type": "stream",
     "text": [
      "2\n",
      "Howdy\n"
     ]
    }
   ],
   "source": [
    "#Q8. Write code that prints Hello if 1 is stored in spam, prints Howdy if 2 is stored in spam, and prints Greetings!\n",
    "#if anything else is stored in spam.\n",
    "#A8.\n",
    "spam=int(input())\n",
    "if spam==1:\n",
    "    print(\"Hello\")\n",
    "elif spam==2:\n",
    "    print(\"Howdy\")\n",
    "else:\n",
    "    print(\"Greetings!\")"
   ]
  },
  {
   "cell_type": "code",
   "execution_count": 59,
   "id": "9b761599",
   "metadata": {},
   "outputs": [],
   "source": [
    "#Q9. If your programme is stuck in an endless loop, what keys you’ll press?\n",
    "#A9. CTRL+C"
   ]
  },
  {
   "cell_type": "code",
   "execution_count": 60,
   "id": "89e602fb",
   "metadata": {},
   "outputs": [],
   "source": [
    "#Q10. How can you tell the difference between break and continue?\n",
    "#A10. Break statements is used to exit or “break” a conditional loop. \n",
    "#When the loop ends, the code picks up from where it is terminated at \"break\" and executes the next line immediately\n",
    "#following the loop that was broken \n",
    "#The continue statement is used to skip code within a loop for certain iterations of the loop."
   ]
  },
  {
   "cell_type": "code",
   "execution_count": 62,
   "id": "539382a8",
   "metadata": {},
   "outputs": [],
   "source": [
    "#Q11. In a for loop, what is the difference between range(10), range(0, 10), and range(0, 10, 1)?\n",
    "#A11 No difference"
   ]
  },
  {
   "cell_type": "code",
   "execution_count": 63,
   "id": "0224e928",
   "metadata": {},
   "outputs": [],
   "source": [
    "#Q12. Write a short program that prints the numbers 1 to 10 using a for loop. \n",
    "#Then write an equivalent program that prints the numbers 1 to 10 using a while loop."
   ]
  },
  {
   "cell_type": "code",
   "execution_count": 78,
   "id": "d466fbe8",
   "metadata": {},
   "outputs": [
    {
     "name": "stdout",
     "output_type": "stream",
     "text": [
      "1\n",
      "2\n",
      "3\n",
      "4\n",
      "5\n",
      "6\n",
      "7\n",
      "8\n",
      "9\n",
      "10\n"
     ]
    }
   ],
   "source": [
    "#A12. For Loop\n",
    "count=1\n",
    "for count in range(1,11):\n",
    "    print(count)"
   ]
  },
  {
   "cell_type": "code",
   "execution_count": 79,
   "id": "5021c9ff",
   "metadata": {},
   "outputs": [
    {
     "name": "stdout",
     "output_type": "stream",
     "text": [
      "1 \r\n",
      "2 \r\n",
      "3 \r\n",
      "4 \r\n",
      "5 \r\n",
      "6 \r\n",
      "7 \r\n",
      "8 \r\n",
      "9 \r\n",
      "10 \r\n"
     ]
    }
   ],
   "source": [
    "#A12. While Loop\n",
    "count=1\n",
    "while count<=10:\n",
    "    print(count,\"\\r\")\n",
    "    count+=1"
   ]
  },
  {
   "cell_type": "code",
   "execution_count": 80,
   "id": "139d437a",
   "metadata": {},
   "outputs": [],
   "source": [
    "#Q13. If you had a function named bacon() inside a module named spam, how would you call it after importing spam?\n",
    "#A13. spam.bacon()"
   ]
  }
 ],
 "metadata": {
  "kernelspec": {
   "display_name": "Python 3 (ipykernel)",
   "language": "python",
   "name": "python3"
  },
  "language_info": {
   "codemirror_mode": {
    "name": "ipython",
    "version": 3
   },
   "file_extension": ".py",
   "mimetype": "text/x-python",
   "name": "python",
   "nbconvert_exporter": "python",
   "pygments_lexer": "ipython3",
   "version": "3.9.7"
  }
 },
 "nbformat": 4,
 "nbformat_minor": 5
}
