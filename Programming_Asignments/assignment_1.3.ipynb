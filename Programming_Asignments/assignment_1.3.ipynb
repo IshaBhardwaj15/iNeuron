{
 "cells": [
  {
   "cell_type": "code",
   "execution_count": 1,
   "id": "c918573e",
   "metadata": {},
   "outputs": [],
   "source": [
    "#Q1. Why are functions advantageous to have in your programs?\n",
    "#A1. Functions cut down the need to type duplicate codes. These are reusable small syntax that calls a code already written\n",
    "#which can use the custom parameters we enter each time. It makes the resultant code cleaner and shorter, saves time and \n",
    "#reduces monotonous work"
   ]
  },
  {
   "cell_type": "code",
   "execution_count": 2,
   "id": "23b7f045",
   "metadata": {},
   "outputs": [],
   "source": [
    "#Q2. When does the code in a function run: when it's specified or when it's called?\n",
    "#A2. It runs when it is Called"
   ]
  },
  {
   "cell_type": "code",
   "execution_count": 3,
   "id": "a330a30e",
   "metadata": {},
   "outputs": [],
   "source": [
    "#Q3. What statement creates a function?\n",
    "#A3. \"def\" creates a function"
   ]
  },
  {
   "cell_type": "code",
   "execution_count": 4,
   "id": "c1cfce3b",
   "metadata": {},
   "outputs": [],
   "source": [
    "#Q4. What is the difference between a function and a function call?\n",
    "#A4. A function here is when we define a function and explicitly code in order to reach a desired resuts using variables.\n",
    "#When a function is called we are reusing the code we wrote when the function was difined initially and based on the \n",
    "#parameters entered at time of calling it(values assigned to variables), the code executes and gives the desired result."
   ]
  },
  {
   "cell_type": "code",
   "execution_count": 5,
   "id": "099fd747",
   "metadata": {},
   "outputs": [],
   "source": [
    "#Q5. How many global scopes are there in a Python program? How many local scopes?\n",
    "#A5. There is one global scope, and a local scope is created whenever a function is called."
   ]
  },
  {
   "cell_type": "code",
   "execution_count": 6,
   "id": "1b8eea33",
   "metadata": {},
   "outputs": [],
   "source": [
    "#Q6. What happens to variables in a local scope when the function call returns?\n",
    "#A6. When a function returns the result, the local scope is destroyed, and all the variables in it are forgotten.\n",
    "#This cycle continues when we call the function again"
   ]
  },
  {
   "cell_type": "code",
   "execution_count": 7,
   "id": "1939345a",
   "metadata": {},
   "outputs": [],
   "source": [
    "#Q7. What is the concept of a return value? Is it possible to have a return value in an expression?\n",
    "#A7. A return value is the value that is returned when a function is called. Like any value, a return value can be used as \n",
    "#part of an expression."
   ]
  },
  {
   "cell_type": "code",
   "execution_count": 8,
   "id": "038085a2",
   "metadata": {},
   "outputs": [],
   "source": [
    "#Q8. If a function does not have a return statement, what is the return value of a call to that function?\n",
    "#A8. None"
   ]
  },
  {
   "cell_type": "code",
   "execution_count": 9,
   "id": "2090a135",
   "metadata": {},
   "outputs": [],
   "source": [
    "#Q9. How do you make a function variable refer to the global variable?\n",
    "#A9. A global statement will force a variable in a function to refer to the global variable. \n",
    "#If we want to refer to a global variable in a function, we can use the global keyword to declare which variables are global."
   ]
  },
  {
   "cell_type": "code",
   "execution_count": 10,
   "id": "0d013e67",
   "metadata": {},
   "outputs": [],
   "source": [
    "#Q10. What is the data type of None?\n",
    "#A10. None Type"
   ]
  },
  {
   "cell_type": "code",
   "execution_count": 11,
   "id": "a2c6912c",
   "metadata": {},
   "outputs": [
    {
     "ename": "ModuleNotFoundError",
     "evalue": "No module named 'areallyourpetsnamederic'",
     "output_type": "error",
     "traceback": [
      "\u001b[1;31m---------------------------------------------------------------------------\u001b[0m",
      "\u001b[1;31mModuleNotFoundError\u001b[0m                       Traceback (most recent call last)",
      "\u001b[1;32m~\\AppData\\Local\\Temp/ipykernel_3108/2639193416.py\u001b[0m in \u001b[0;36m<module>\u001b[1;34m\u001b[0m\n\u001b[0;32m      1\u001b[0m \u001b[1;31m#Q11. What does the sentence import areallyourpetsnamederic do?\u001b[0m\u001b[1;33m\u001b[0m\u001b[1;33m\u001b[0m\u001b[0m\n\u001b[1;32m----> 2\u001b[1;33m \u001b[1;32mimport\u001b[0m \u001b[0mareallyourpetsnamederic\u001b[0m\u001b[1;33m\u001b[0m\u001b[1;33m\u001b[0m\u001b[0m\n\u001b[0m",
      "\u001b[1;31mModuleNotFoundError\u001b[0m: No module named 'areallyourpetsnamederic'"
     ]
    }
   ],
   "source": [
    "#Q11. What does the sentence import areallyourpetsnamederic do?\n",
    "import areallyourpetsnamederic"
   ]
  },
  {
   "cell_type": "code",
   "execution_count": 12,
   "id": "40069728",
   "metadata": {},
   "outputs": [],
   "source": [
    "#Q12. If you had a bacon() feature in a spam module, what would you call it after importing spam?\n",
    "#A12. spam.bacon()"
   ]
  },
  {
   "cell_type": "code",
   "execution_count": 13,
   "id": "ca649c95",
   "metadata": {},
   "outputs": [],
   "source": [
    "#Q13. What can you do to save a programme from crashing if it encounters an error?\n",
    "#A13. Place the line of code that might cause an error in a \"try\" clause and use \"except block\" to handle the error."
   ]
  },
  {
   "cell_type": "code",
   "execution_count": 14,
   "id": "0e8eccaf",
   "metadata": {},
   "outputs": [],
   "source": [
    "#Q14. What is the purpose of the try clause? What is the purpose of the except clause?\n",
    "#A14.The code that could potentially cause an error goes in the try clause.\n",
    "#The code that executes if an error happens goes in the except clause. So that the code doesnt crash, instead reflects error."
   ]
  }
 ],
 "metadata": {
  "kernelspec": {
   "display_name": "Python 3 (ipykernel)",
   "language": "python",
   "name": "python3"
  },
  "language_info": {
   "codemirror_mode": {
    "name": "ipython",
    "version": 3
   },
   "file_extension": ".py",
   "mimetype": "text/x-python",
   "name": "python",
   "nbconvert_exporter": "python",
   "pygments_lexer": "ipython3",
   "version": "3.9.7"
  }
 },
 "nbformat": 4,
 "nbformat_minor": 5
}
