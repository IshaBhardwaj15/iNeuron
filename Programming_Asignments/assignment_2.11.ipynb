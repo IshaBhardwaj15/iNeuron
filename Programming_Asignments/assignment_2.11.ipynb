{
 "cells": [
  {
   "cell_type": "code",
   "execution_count": 1,
   "id": "07ed23cf",
   "metadata": {},
   "outputs": [
    {
     "name": "stdout",
     "output_type": "stream",
     "text": [
      "Enter a word:Apple\n",
      "Limit Accepted\n"
     ]
    }
   ],
   "source": [
    "#Q1. Write a Python program to find words which are greater than given length k?\n",
    "#A1. code\n",
    "k=7\n",
    "a=input(\"Enter a word:\")\n",
    "if len(a)>k:\n",
    "    print(\"Exceed Limit of Characters\")\n",
    "else:\n",
    "    print(\"Limit Accepted\")"
   ]
  },
  {
   "cell_type": "code",
   "execution_count": 2,
   "id": "a4ad5f8e",
   "metadata": {},
   "outputs": [
    {
     "name": "stdout",
     "output_type": "stream",
     "text": [
      "number of character need to remove 3\n",
      "Pinapple\n"
     ]
    }
   ],
   "source": [
    "#Q2. Write a Python program for removing i-th character from a string?\n",
    "#A2. code\n",
    "s=\"Pineapple\"\n",
    "n=int(input(\"number of character need to remove \"))\n",
    "m=len(s)\n",
    "a= s[0:n]\n",
    "b=s[n+1:m]\n",
    "print(a + b)"
   ]
  },
  {
   "cell_type": "code",
   "execution_count": 3,
   "id": "fc56242c",
   "metadata": {},
   "outputs": [
    {
     "name": "stdout",
     "output_type": "stream",
     "text": [
      "Enter String:Hi my name is Isha\n",
      "splitted string  ['Hi', 'my', 'name is Isha']\n",
      "Joined string Hi my name is Isha\n"
     ]
    }
   ],
   "source": [
    "#Q3. Write a Python program to split and join a string?\n",
    "#A3. code\n",
    "a=input(\"Enter String:\")\n",
    "b=a.split(\" \",2)\n",
    "print(\"splitted string \",b)\n",
    "c=\" \".join(b)\n",
    "print(\"Joined string\",c)"
   ]
  },
  {
   "cell_type": "code",
   "execution_count": 4,
   "id": "0aeeb92f",
   "metadata": {},
   "outputs": [
    {
     "name": "stdout",
     "output_type": "stream",
     "text": [
      "No\n"
     ]
    }
   ],
   "source": [
    "#Q4. Write a Python to check if a given string is binary string or not?\n",
    "#A4. code\n",
    "def check(s) :\n",
    "    p=set(s)\n",
    "    s={'0','1'}\n",
    "    if s==p or p=={'0'} or p=={'1'}:\n",
    "        print(\"Yes\")\n",
    "    else :\n",
    "        print(\"No\")\n",
    "check(\"2\")"
   ]
  },
  {
   "cell_type": "code",
   "execution_count": 5,
   "id": "f581c461",
   "metadata": {},
   "outputs": [
    {
     "data": {
      "text/plain": [
       "['Isha', 'Bhardwaj', 'Ish', 'Shorya', 'Sharma']"
      ]
     },
     "execution_count": 5,
     "metadata": {},
     "output_type": "execute_result"
    }
   ],
   "source": [
    "#Q5. Write a Python program to find uncommon words from two Strings?\n",
    "#A5. code\n",
    "s1=\"My\",\"name\",\"is\",'Isha',\"Bhardwaj\"\n",
    "s2=\"My\",\"name\",\"is\",\"Ish\",\"Shorya\",\"Sharma\"\n",
    "uncommon=[]\n",
    "for i in s1:\n",
    "    if i not in s2:\n",
    "        uncommon.append(i)\n",
    "for j in s2:\n",
    "    if j not in s1:\n",
    "        uncommon.append(j)\n",
    "uncommon"
   ]
  },
  {
   "cell_type": "code",
   "execution_count": 6,
   "id": "3cc4e6e4",
   "metadata": {},
   "outputs": [
    {
     "data": {
      "text/plain": [
       "['i', 's', 's', 'i', 's', 's', 'i', 'p', 'p', 'i']"
      ]
     },
     "execution_count": 6,
     "metadata": {},
     "output_type": "execute_result"
    }
   ],
   "source": [
    "#Q6. Write a Python to find all duplicate characters in string?\n",
    "#A6. code\n",
    "s3=\"Mississippi\"\n",
    "duplicate=[]\n",
    "for i in s3:\n",
    "    if s3.count(i)>=2:\n",
    "        duplicate.append(i)\n",
    "duplicate"
   ]
  },
  {
   "cell_type": "code",
   "execution_count": 7,
   "id": "bbfb9fc6",
   "metadata": {},
   "outputs": [
    {
     "name": "stdout",
     "output_type": "stream",
     "text": [
      "Enter any string: 2015Imsst007@\n",
      "The string contains special characters\n"
     ]
    }
   ],
   "source": [
    "#Q7. Write a Python Program to check if a string contains any special character?\n",
    "#A7. code\n",
    "import re\n",
    "s4=input('Enter any string: ')\n",
    "special=re.compile('[@_!#$%^&*()<>?/\\|}{~:]')\n",
    "if(special.search(s4)==None):\n",
    "    print('String does not contain any special characters')\n",
    "else:\n",
    "    print('The string contains special characters')"
   ]
  }
 ],
 "metadata": {
  "kernelspec": {
   "display_name": "Python 3 (ipykernel)",
   "language": "python",
   "name": "python3"
  },
  "language_info": {
   "codemirror_mode": {
    "name": "ipython",
    "version": 3
   },
   "file_extension": ".py",
   "mimetype": "text/x-python",
   "name": "python",
   "nbconvert_exporter": "python",
   "pygments_lexer": "ipython3",
   "version": "3.9.7"
  }
 },
 "nbformat": 4,
 "nbformat_minor": 5
}
