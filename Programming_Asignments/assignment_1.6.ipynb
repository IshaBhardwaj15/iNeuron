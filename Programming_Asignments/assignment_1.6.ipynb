{
 "cells": [
  {
   "cell_type": "code",
   "execution_count": 1,
   "id": "92eafc21",
   "metadata": {},
   "outputs": [],
   "source": [
    "#Q1. What are escape characters, and how do you use them?\n",
    "#A1. Escape character are used if we want to enter a character that are inappropriate in string and can lead error \n",
    "#Escape character is a backslash \"\\\" which is followed by a character that we want to insert."
   ]
  },
  {
   "cell_type": "code",
   "execution_count": 2,
   "id": "119bde9b",
   "metadata": {},
   "outputs": [],
   "source": [
    "#Q2. What do the escape characters n and t stand for?\n",
    "#A2. \\n gives next line\n",
    "#\\t gives tab"
   ]
  },
  {
   "cell_type": "code",
   "execution_count": 16,
   "id": "6ec88f87",
   "metadata": {},
   "outputs": [
    {
     "name": "stdout",
     "output_type": "stream",
     "text": [
      "This car belongs to Amy's Dad\n"
     ]
    }
   ],
   "source": [
    "#Q3. What is the way to include backslash characters in a string?\n",
    "#A3. code\n",
    "print('This car belongs to Amy\\'s Dad')"
   ]
  },
  {
   "cell_type": "code",
   "execution_count": 18,
   "id": "8aa20378",
   "metadata": {},
   "outputs": [
    {
     "name": "stdout",
     "output_type": "stream",
     "text": [
      "Howl's Moving Castle\n"
     ]
    }
   ],
   "source": [
    "#Q4. The string \"Howl's Moving Castle\" is a correct value. \n",
    "#Why isn't the single quote character in the word Howl's not escaped a problem?\n",
    "#A4. String in context starts and ends with double quotes '\"'.\n",
    "#Now even if we have a single quote in between two double quote, it won't generate an error\n",
    "print(\"Howl's Moving Castle\")"
   ]
  },
  {
   "cell_type": "code",
   "execution_count": 20,
   "id": "6acf0a2b",
   "metadata": {},
   "outputs": [
    {
     "name": "stdout",
     "output_type": "stream",
     "text": [
      "Hello\n",
      "World\n"
     ]
    }
   ],
   "source": [
    "#Q5. How do you write a string of newlines if you don't want to use the n character?\n",
    "#A5. code\n",
    "print(\"Hello\\nWorld\")"
   ]
  },
  {
   "cell_type": "code",
   "execution_count": 25,
   "id": "1e57ba2c",
   "metadata": {},
   "outputs": [
    {
     "name": "stdout",
     "output_type": "stream",
     "text": [
      "Hello\n",
      "World\n"
     ]
    }
   ],
   "source": [
    "print(\"Hello\")\n",
    "print(\"World\")"
   ]
  },
  {
   "cell_type": "code",
   "execution_count": 37,
   "id": "bee96e46",
   "metadata": {},
   "outputs": [
    {
     "data": {
      "text/plain": [
       "'e'"
      ]
     },
     "execution_count": 37,
     "metadata": {},
     "output_type": "execute_result"
    }
   ],
   "source": [
    "#Q6. What are the values of the given expressions?\n",
    "'Hello, world!'[1]\n",
    "#gives the string at index 1 which is 'e'"
   ]
  },
  {
   "cell_type": "code",
   "execution_count": 39,
   "id": "f9a7cfb5",
   "metadata": {},
   "outputs": [
    {
     "data": {
      "text/plain": [
       "'Hello'"
      ]
     },
     "execution_count": 39,
     "metadata": {},
     "output_type": "execute_result"
    }
   ],
   "source": [
    "'Hello, world!'[0:5]\n",
    "#gives the sting from index o to 5-1=4"
   ]
  },
  {
   "cell_type": "code",
   "execution_count": 41,
   "id": "8f6b2147",
   "metadata": {},
   "outputs": [
    {
     "data": {
      "text/plain": [
       "'Hello'"
      ]
     },
     "execution_count": 41,
     "metadata": {},
     "output_type": "execute_result"
    }
   ],
   "source": [
    "'Hello, world!'[:5]\n",
    "#gives the string before the index 5-1=4"
   ]
  },
  {
   "cell_type": "code",
   "execution_count": 42,
   "id": "ffcc2c53",
   "metadata": {},
   "outputs": [
    {
     "data": {
      "text/plain": [
       "'lo, world!'"
      ]
     },
     "execution_count": 42,
     "metadata": {},
     "output_type": "execute_result"
    }
   ],
   "source": [
    "'Hello, world!'[3:]\n",
    "#gives the string after index 3"
   ]
  },
  {
   "cell_type": "code",
   "execution_count": 44,
   "id": "a68d3fc3",
   "metadata": {},
   "outputs": [
    {
     "data": {
      "text/plain": [
       "'HELLO'"
      ]
     },
     "execution_count": 44,
     "metadata": {},
     "output_type": "execute_result"
    }
   ],
   "source": [
    "#Q7. What are the values of the following expressions?\n",
    "#A7. code\n",
    "'Hello'.upper()\n",
    "#converts the string into all caps or uppercase"
   ]
  },
  {
   "cell_type": "code",
   "execution_count": 46,
   "id": "1cbb3d29",
   "metadata": {},
   "outputs": [
    {
     "data": {
      "text/plain": [
       "True"
      ]
     },
     "execution_count": 46,
     "metadata": {},
     "output_type": "execute_result"
    }
   ],
   "source": [
    "'Hello'.upper().isupper()\n",
    "#.upper() converts the strings into uppercse, followed by the boolean optup which is resulted from .isupper()"
   ]
  },
  {
   "cell_type": "code",
   "execution_count": 47,
   "id": "e7cb9a5e",
   "metadata": {},
   "outputs": [
    {
     "data": {
      "text/plain": [
       "'hello'"
      ]
     },
     "execution_count": 47,
     "metadata": {},
     "output_type": "execute_result"
    }
   ],
   "source": [
    "'Hello'.upper().lower()\n",
    "#.upper() converts string in uppercase followed by .lower() will convert the string into lowercase again"
   ]
  },
  {
   "cell_type": "code",
   "execution_count": 48,
   "id": "298b0814",
   "metadata": {},
   "outputs": [
    {
     "data": {
      "text/plain": [
       "['Remember,', 'remember,', 'the', 'fifth', 'of', 'July.']"
      ]
     },
     "execution_count": 48,
     "metadata": {},
     "output_type": "execute_result"
    }
   ],
   "source": [
    "#Q8. What are the values of the following expressions?\n",
    "#A8. code\n",
    "'Remember, remember, the fifth of July.'.split()\n",
    "# gives a list deliminated by.split(), since nothing is specified in split it by defaults take space as deliminator"
   ]
  },
  {
   "cell_type": "code",
   "execution_count": 49,
   "id": "4a2ff773",
   "metadata": {},
   "outputs": [
    {
     "data": {
      "text/plain": [
       "'There-can-only-one.'"
      ]
     },
     "execution_count": 49,
     "metadata": {},
     "output_type": "execute_result"
    }
   ],
   "source": [
    "'-'.join('There can only one.'.split())\n",
    "#returns the string wich is joined by '-' as the deliminater, splited at space"
   ]
  },
  {
   "cell_type": "code",
   "execution_count": 52,
   "id": "39a1414e",
   "metadata": {},
   "outputs": [
    {
     "data": {
      "text/plain": [
       "'----------Isha---------'"
      ]
     },
     "execution_count": 52,
     "metadata": {},
     "output_type": "execute_result"
    }
   ],
   "source": [
    "#Q9. What are the methods for right-justifying, left-justifying, and centering a string?\n",
    "#A9. #centring\n",
    "string='Isha'\n",
    "string.center(23,'-')"
   ]
  },
  {
   "cell_type": "code",
   "execution_count": 55,
   "id": "679f6f1a",
   "metadata": {},
   "outputs": [
    {
     "data": {
      "text/plain": [
       "'Ish--------------------'"
      ]
     },
     "execution_count": 55,
     "metadata": {},
     "output_type": "execute_result"
    }
   ],
   "source": [
    "#left-justifying\n",
    "string1='Ish'\n",
    "string1.ljust(23,'-')"
   ]
  },
  {
   "cell_type": "code",
   "execution_count": 57,
   "id": "de911d28",
   "metadata": {},
   "outputs": [
    {
     "data": {
      "text/plain": [
       "'--------Ishaa'"
      ]
     },
     "execution_count": 57,
     "metadata": {},
     "output_type": "execute_result"
    }
   ],
   "source": [
    "#right-justifying\n",
    "string2='Ishaa'\n",
    "string2.rjust(13,'-')"
   ]
  },
  {
   "cell_type": "code",
   "execution_count": 58,
   "id": "df8fa841",
   "metadata": {},
   "outputs": [],
   "source": [
    "#Q10. What is the best way to remove whitespace characters from the start or end?\n",
    "#A10. These can be the two methods for removing white spaces from the start or end\n",
    "#lstrip()\n",
    "#rstrip()"
   ]
  }
 ],
 "metadata": {
  "kernelspec": {
   "display_name": "Python 3 (ipykernel)",
   "language": "python",
   "name": "python3"
  },
  "language_info": {
   "codemirror_mode": {
    "name": "ipython",
    "version": 3
   },
   "file_extension": ".py",
   "mimetype": "text/x-python",
   "name": "python",
   "nbconvert_exporter": "python",
   "pygments_lexer": "ipython3",
   "version": "3.9.7"
  }
 },
 "nbformat": 4,
 "nbformat_minor": 5
}
