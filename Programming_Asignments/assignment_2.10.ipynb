{
 "cells": [
  {
   "cell_type": "code",
   "execution_count": 1,
   "id": "fcdd0b8f",
   "metadata": {},
   "outputs": [
    {
     "name": "stdout",
     "output_type": "stream",
     "text": [
      "Sum of Elements of the list is: 15\n"
     ]
    }
   ],
   "source": [
    "#Q1. Write a Python program to find sum of elements in list?\n",
    "#A1. code\n",
    "l=[1,2,3,4,5]\n",
    "a=0\n",
    "for i in l:\n",
    "    a=a+i\n",
    "print(\"Sum of Elements of the list is:\",a)"
   ]
  },
  {
   "cell_type": "code",
   "execution_count": 2,
   "id": "78d05112",
   "metadata": {},
   "outputs": [
    {
     "name": "stdout",
     "output_type": "stream",
     "text": [
      "Minimum element in list is: 1\n"
     ]
    }
   ],
   "source": [
    "#Q2. Write a Python program to find smallest number in a list?\n",
    "#A2. code\n",
    "b=l[0]\n",
    "for i in range(len(l)):\n",
    "    if l[i]<b:\n",
    "        b=l[i]\n",
    "print(\"Minimum element in list is:\",b)"
   ]
  },
  {
   "cell_type": "code",
   "execution_count": 3,
   "id": "85555d94",
   "metadata": {},
   "outputs": [
    {
     "name": "stdout",
     "output_type": "stream",
     "text": [
      "Maximun element in list is: 5\n"
     ]
    }
   ],
   "source": [
    "#Q3. Write a Python program to find largest number in a list?\n",
    "#A3. code\n",
    "c=l[0]\n",
    "for i in range(len(l)):\n",
    "    if l[i]>c:\n",
    "        c=l[i]\n",
    "print(\"Maximun element in list is:\",c)"
   ]
  },
  {
   "cell_type": "code",
   "execution_count": 4,
   "id": "405263df",
   "metadata": {},
   "outputs": [
    {
     "name": "stdout",
     "output_type": "stream",
     "text": [
      "Second Largest Number is: 4\n"
     ]
    }
   ],
   "source": [
    "#Q4. Write a Python program to find second largest number in a list?\n",
    "#A4. code\n",
    "l.sort()\n",
    "print(\"Second Largest Number is:\",l[-2])"
   ]
  },
  {
   "cell_type": "code",
   "execution_count": 5,
   "id": "45014331",
   "metadata": {},
   "outputs": [
    {
     "name": "stdout",
     "output_type": "stream",
     "text": [
      "n largest elements of the list are: [3, 4, 5]\n"
     ]
    }
   ],
   "source": [
    "#Q5. Write a Python program to find N largest elements from a list?\n",
    "#A5. code\n",
    "n=3\n",
    "l.sort()\n",
    "print(\"n largest elements of the list are:\",l[-n:])"
   ]
  },
  {
   "cell_type": "code",
   "execution_count": 6,
   "id": "cca292da",
   "metadata": {},
   "outputs": [
    {
     "data": {
      "text/plain": [
       "[2, 4]"
      ]
     },
     "execution_count": 6,
     "metadata": {},
     "output_type": "execute_result"
    }
   ],
   "source": [
    "#Q6. Write a Python program to print even numbers in a list?\n",
    "#A6. code\n",
    "r=[]\n",
    "for i in range(len(l)):\n",
    "    if i%2==0 and i!=0:\n",
    "        r.append(i)\n",
    "r"
   ]
  },
  {
   "cell_type": "code",
   "execution_count": 7,
   "id": "7346b7ec",
   "metadata": {},
   "outputs": [
    {
     "data": {
      "text/plain": [
       "[1, 3, 5]"
      ]
     },
     "execution_count": 7,
     "metadata": {},
     "output_type": "execute_result"
    }
   ],
   "source": [
    "#Q7. Write a Python program to print odd numbers in a List?\n",
    "#A7. code\n",
    "s=[]\n",
    "for i in range(len(l)+1):\n",
    "    if i%2!=0:\n",
    "        s.append(i)\n",
    "s"
   ]
  },
  {
   "cell_type": "code",
   "execution_count": 8,
   "id": "4ebc6039",
   "metadata": {},
   "outputs": [
    {
     "name": "stdout",
     "output_type": "stream",
     "text": [
      "[1, 2, 3, 4, 5]\n"
     ]
    }
   ],
   "source": [
    "#Q8. Write a Python program to Remove empty List from List?\n",
    "#A8. code\n",
    "l1=[1,2,3,4,5,[]]\n",
    "for i in l1:\n",
    "    if type(i)==list:\n",
    "        if len(i)==0:\n",
    "            l1.remove(i)\n",
    "            print(l1)"
   ]
  },
  {
   "cell_type": "code",
   "execution_count": 9,
   "id": "1b821b28",
   "metadata": {},
   "outputs": [
    {
     "name": "stdout",
     "output_type": "stream",
     "text": [
      "[1, 2, 3, 4, 5]\n"
     ]
    }
   ],
   "source": [
    "#Q9. Write a Python program to Cloning or Copying a list?\n",
    "#A9. code\n",
    "l2=l.copy()\n",
    "print(l2)"
   ]
  },
  {
   "cell_type": "code",
   "execution_count": 10,
   "id": "58526c51",
   "metadata": {},
   "outputs": [
    {
     "data": {
      "text/plain": [
       "4"
      ]
     },
     "execution_count": 10,
     "metadata": {},
     "output_type": "execute_result"
    }
   ],
   "source": [
    "#Q10. Write a Python program to Count occurrences of an element in a list?\n",
    "#A10. code\n",
    "l3=[1,2,3,4,5,22,3,1,4,5,23,23,2,3444,4445,1,44,22,23,24,1,23,34]\n",
    "l3.count(23)"
   ]
  }
 ],
 "metadata": {
  "kernelspec": {
   "display_name": "Python 3 (ipykernel)",
   "language": "python",
   "name": "python3"
  },
  "language_info": {
   "codemirror_mode": {
    "name": "ipython",
    "version": 3
   },
   "file_extension": ".py",
   "mimetype": "text/x-python",
   "name": "python",
   "nbconvert_exporter": "python",
   "pygments_lexer": "ipython3",
   "version": "3.9.7"
  }
 },
 "nbformat": 4,
 "nbformat_minor": 5
}
