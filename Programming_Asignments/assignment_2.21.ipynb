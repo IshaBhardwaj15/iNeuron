{
 "cells": [
  {
   "cell_type": "markdown",
   "id": "2be0fca4",
   "metadata": {},
   "source": [
    "Question1\n",
    "Write a function that takes a list and a number as arguments. Add the number to the end of the list, then remove the first element of the list. The function should then return the updated list.\n",
    "Examples\n",
    "\n",
    "next_in_line([5, 6, 7, 8, 9], 1) ➞ [6, 7, 8, 9, 1]\n",
    "\n",
    "next_in_line([7, 6, 3, 23, 17], 10) ➞ [6, 3, 23, 17, 10]\n",
    "\n",
    "next_in_line([1, 10, 20, 42 ], 6) ➞ [10, 20, 42, 6]\n",
    "\n",
    "next_in_line([], 6) ➞ \"No list has been selected\""
   ]
  },
  {
   "cell_type": "code",
   "execution_count": 2,
   "id": "9374a1da",
   "metadata": {},
   "outputs": [
    {
     "name": "stdout",
     "output_type": "stream",
     "text": [
      "Enter the number of characters:5\n",
      "5\n",
      "6\n",
      "7\n",
      "8\n",
      "9\n",
      "Enter value for n:1\n",
      "next_in_line([5, 6, 7, 8, 9],1)➞[6, 7, 8, 9, 1]\n",
      "Enter the number of characters:5\n",
      "7\n",
      "6\n",
      "3\n",
      "23\n",
      "17\n",
      "Enter value for n:10\n",
      "next_in_line([7, 6, 3, 23, 17],10)➞[6, 3, 23, 17, 10]\n",
      "Enter the number of characters:4\n",
      "1\n",
      "10\n",
      "20\n",
      "42\n",
      "Enter value for n:6\n",
      "next_in_line([1, 10, 20, 42],6)➞[10, 20, 42, 6]\n",
      "Enter the number of characters:0\n",
      "Enter value for n:0\n",
      "No list has been selected\n",
      "next_in_line([],0)➞None\n"
     ]
    }
   ],
   "source": [
    "def func1(l,n):  \n",
    "    if len(l)>1:\n",
    "        l.append(n)\n",
    "        l.remove(l[0])\n",
    "        return l\n",
    "    else:\n",
    "        print('No list has been selected')\n",
    "for i in range(4):\n",
    "    N=int(input(\"Enter the number of characters:\"))\n",
    "    l=[]\n",
    "    for i in range(N):\n",
    "        i=input(\"\")\n",
    "        try:\n",
    "            l.append(int(i))\n",
    "        except ValueError:\n",
    "            l.append(i)\n",
    "    n=int(input(\"Enter value for n:\"))\n",
    "    print(f'next_in_line({l},{n})➞{func1(l,n)}')"
   ]
  },
  {
   "cell_type": "markdown",
   "id": "82b58b8a",
   "metadata": {},
   "source": [
    "Question2\n",
    "Create the function that takes a list of dictionaries and returns the sum of people's budgets.\n",
    "\n",
    "Examples\n",
    "get_budgets([\n",
    "  \n",
    "  { \"name\": \"John\", \"age\": 21, \"budget\": 23000 },\n",
    "  \n",
    "  { \"name\": \"Steve\",  \"age\": 32, \"budget\": 40000 },\n",
    "  \n",
    "  { \"name\": \"Martin\",  \"age\": 16, \"budget\": 2700 }\n",
    "]) ➞ 65700\n",
    "\n",
    "get_budgets([\n",
    "  \n",
    "  { \"name\": \"John\",  \"age\": 21, \"budget\": 29000 },\n",
    "  \n",
    "  { \"name\": \"Steve\",  \"age\": 32, \"budget\": 32000 },\n",
    "  \n",
    "  { \"name\": \"Martin\",  \"age\": 16, \"budget\": 1600 }\n",
    "]) ➞ 62600"
   ]
  },
  {
   "cell_type": "code",
   "execution_count": 3,
   "id": "131edec4",
   "metadata": {},
   "outputs": [
    {
     "name": "stdout",
     "output_type": "stream",
     "text": [
      "Output➞65700\n",
      "Output➞62600\n"
     ]
    }
   ],
   "source": [
    "def func2(d):\n",
    "    sum=0\n",
    "    for i in d:\n",
    "        sum+=i[\"budget\"]\n",
    "    print(f'Output➞{sum}')\n",
    "func2([\n",
    "{ \"name\": \"John\", \"age\": 21, \"budget\": 23000 },\n",
    "{ \"name\": \"Steve\", \"age\": 32, \"budget\": 40000 },\n",
    "{ \"name\": \"Martin\", \"age\": 16, \"budget\": 2700 }\n",
    "])\n",
    "func2([\n",
    "{ \"name\": \"John\", \"age\": 21, \"budget\": 29000 },\n",
    "{ \"name\": \"Steve\", \"age\": 32, \"budget\": 32000 },\n",
    "{ \"name\": \"Martin\", \"age\": 16, \"budget\": 1600 }\n",
    "])"
   ]
  },
  {
   "cell_type": "markdown",
   "id": "b6760d34",
   "metadata": {},
   "source": [
    "Question3 Create a function that takes a string and returns a string with its letters in alphabetical order.\n",
    "\n",
    "Examples\n",
    "\n",
    "alphabet_soup(\"hello\") ➞ \"ehllo\"\n",
    "\n",
    "alphabet_soup(\"edabit\") ➞ \"abdeit\"\n",
    "\n",
    "alphabet_soup(\"hacker\") ➞ \"acehkr\"\n",
    "\n",
    "alphabet_soup(\"geek\") ➞ \"eegk\"\n",
    "\n",
    "alphabet_soup(\"javascript\") ➞ \"aacijprstv\""
   ]
  },
  {
   "cell_type": "code",
   "execution_count": 4,
   "id": "fabfe2fa",
   "metadata": {},
   "outputs": [
    {
     "name": "stdout",
     "output_type": "stream",
     "text": [
      "Enter String:hello\n",
      "hello➞\"ehllo\"\n",
      "Enter String:edabit\n",
      "edabit➞\"abdeit\"\n",
      "Enter String:hacker\n",
      "hacker➞\"acehkr\"\n",
      "Enter String:geek\n",
      "geek➞\"eegk\"\n",
      "Enter String:javascript\n",
      "javascript➞\"aacijprstv\"\n"
     ]
    },
    {
     "data": {
      "text/plain": [
       "'aacijprstv'"
      ]
     },
     "execution_count": 4,
     "metadata": {},
     "output_type": "execute_result"
    }
   ],
   "source": [
    "def func3(s):\n",
    "    result=''.join(sorted(s))\n",
    "    return result\n",
    "for i in range(0,5):\n",
    "    s=input(\"Enter String:\")\n",
    "    print(f'{s}➞\"{func3(s)}\"')\n",
    "func3(s)"
   ]
  },
  {
   "cell_type": "markdown",
   "id": "b9b4dafe",
   "metadata": {},
   "source": [
    "Question4 Suppose that you invest $10,000 for 10 years at an interest rate of 6% compounded monthly. What will be the value of your investment at the end of the 10 year period?\n",
    "\n",
    "Create a function that accepts the principal p, the term in years t, the interest rate r, and the number of compounding periods per year n. The function returns the value at the end of term rounded to the nearest cent.\n",
    "\n",
    "For the example above:\n",
    "\n",
    "compound_interest(10000, 10, 0.06, 12) ➞ 18193.97\n",
    "\n",
    "Note that the interest rate is given as a decimal and n=12 because with monthly compounding there are 12 periods per year. \n",
    "Compounding can also be done annually, quarterly, weekly, or daily.\n",
    "\n",
    "Examples\n",
    "\n",
    "compound_interest(100, 1, 0.05, 1) ➞ 105.0\n",
    "\n",
    "compound_interest(3500, 15, 0.1, 4) ➞ 15399.26\n",
    "\n",
    "compound_interest(100000, 20, 0.15, 365) ➞ 2007316.26"
   ]
  },
  {
   "cell_type": "code",
   "execution_count": 5,
   "id": "7188a668",
   "metadata": {},
   "outputs": [
    {
     "name": "stdout",
     "output_type": "stream",
     "text": [
      "Enter value of Principal Amount:100\n",
      "Enter value of rate divide by 100:0.05\n",
      "Enter value of no. of times the interest is compounded:1\n",
      "Enter value of time period in years:1\n",
      "compound_interest(100,1,0.05,1)➞105.0\n",
      "Enter value of Principal Amount:3500\n",
      "Enter value of rate divide by 100:0.1\n",
      "Enter value of no. of times the interest is compounded:4\n",
      "Enter value of time period in years:15\n",
      "compound_interest(3500,15,0.1,4)➞15399.264120852586\n",
      "Enter value of Principal Amount:100000\n",
      "Enter value of rate divide by 100:0.15\n",
      "Enter value of no. of times the interest is compounded:365\n",
      "Enter value of time period in years:20\n",
      "compound_interest(100000,20,0.15,365)➞2007316.2632325366\n"
     ]
    }
   ],
   "source": [
    "def func4():\n",
    "    for i in range(0,3):\n",
    "        p=int(input(\"Enter value of Principal Amount:\"))\n",
    "        r=float(input(\"Enter value of rate divide by 100:\"))\n",
    "        n=int(input(\"Enter value of no. of times the interest is compounded:\"))\n",
    "        t=int(input(\"Enter value of time period in years:\"))\n",
    "        ci=p*((1+(r/n))**(n*t))\n",
    "        print(f'compound_interest({p},{t},{r},{n})➞{ci}')\n",
    "func4()"
   ]
  },
  {
   "cell_type": "markdown",
   "id": "08245f51",
   "metadata": {},
   "source": [
    "Question5 Write a function that takes a list of elements and returns only the integers.\n",
    "\n",
    "Examples\n",
    "\n",
    "return_only_integer([9, 2, \"space\", \"car\", \"lion\", 16]) ➞ [9, 2, 16]\n",
    "\n",
    "return_only_integer([\"hello\", 81, \"basketball\", 123, \"fox\"]) ➞ [81, 123]\n",
    "\n",
    "return_only_integer([10, \"121\", 56, 20, \"car\", 3, \"lion\"]) ➞ [10, 56, 20, 3]\n",
    "\n",
    "return_only_integer([\"String\",  True,  3.3,  1]) ➞ [1]"
   ]
  },
  {
   "cell_type": "code",
   "execution_count": 6,
   "id": "a2c05a90",
   "metadata": {},
   "outputs": [
    {
     "name": "stdout",
     "output_type": "stream",
     "text": [
      "return_only_interger([9, 2, 'space', 'car', 'lion', 16])➞[9, 2, 16]\n",
      "return_only_interger(['hello', 81, 'basketball', 123, 'fox'])➞[81, 123]\n",
      "return_only_interger([10, '121', 56, 20, 'car', 3, 'lion'])➞[10, 56, 20, 3]\n",
      "return_only_interger(['String', True, 3.3, 1])➞[1]\n"
     ]
    }
   ],
   "source": [
    "def func5(l1):\n",
    "    l2=[]\n",
    "    for i in l1:\n",
    "        if type(i)==int:\n",
    "            l2.append(i)\n",
    "    print(f'return_only_interger({l1})➞{l2}')\n",
    "\n",
    "func5([9,2,\"space\",\"car\",\"lion\",16])\n",
    "func5([\"hello\",81,\"basketball\",123,\"fox\"])\n",
    "func5([10,\"121\",56,20,\"car\",3,\"lion\"])\n",
    "func5([\"String\",True,3.3,1])"
   ]
  }
 ],
 "metadata": {
  "kernelspec": {
   "display_name": "Python 3 (ipykernel)",
   "language": "python",
   "name": "python3"
  },
  "language_info": {
   "codemirror_mode": {
    "name": "ipython",
    "version": 3
   },
   "file_extension": ".py",
   "mimetype": "text/x-python",
   "name": "python",
   "nbconvert_exporter": "python",
   "pygments_lexer": "ipython3",
   "version": "3.9.7"
  }
 },
 "nbformat": 4,
 "nbformat_minor": 5
}
