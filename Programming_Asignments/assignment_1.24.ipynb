{
 "cells": [
  {
   "cell_type": "code",
   "execution_count": 1,
   "id": "860ccfb7",
   "metadata": {},
   "outputs": [],
   "source": [
    "#Q1. What is the relationship between def statements and lambda expressions ?\n",
    "#A1. def statements are used to create a function.On the other hand, lamba expressions are used to create Anonymous functions. \n",
    "#which can be assigned to a variable and can be called using the variable later in function. Lambda's body is a single \n",
    "#expression and not a block of statements like def statement. The lambda expression's body is similar to what we'd put in a \n",
    "#def body's return statement. We simply type the result as an expression instead of explicitly returning it because it is \n",
    "#limited to an expression, a lambda is less general than a def statement."
   ]
  },
  {
   "cell_type": "code",
   "execution_count": 2,
   "id": "a75fba5c",
   "metadata": {},
   "outputs": [],
   "source": [
    "#Q2. What is the benefit of lambda?\n",
    "#A2. as follows:\n",
    "#1. Moderate to small functions can be created in a single line.\n",
    "#2. Can be used to create Anonymous functions inside some complex functions if we are planning to use it only once.\n",
    "#3. Fuctions created using lambda expressions can be assigned to a variable and can be used by simply calling the variable."
   ]
  },
  {
   "cell_type": "code",
   "execution_count": 3,
   "id": "8f6ed771",
   "metadata": {},
   "outputs": [
    {
     "name": "stdout",
     "output_type": "stream",
     "text": [
      "Map: [2, 4, 6, 8]\n",
      "Filter: [2, 4]\n",
      "Reduce: 15\n"
     ]
    }
   ],
   "source": [
    "#Q3. Compare and contrast map, filter, and reduce.\n",
    "#A3. The differences are as follows:\n",
    "#1. The map() function is a type of higher-order. This function takes another function as a parameter along with a sequence of \n",
    "#iterables and returns an output after applying the function to each iterable present in the sequence.\n",
    "#2. The filter() function is used to create an output list consisting of values for which the function returns true.\n",
    "#3. The reduce() function applies a given function to the iterables and returns a single value.\n",
    "#code:\n",
    "from functools import reduce\n",
    "# map function\n",
    "print('Map:',list(map(lambda x:x+x, [1,2,3,4])))\n",
    "# fitler function\n",
    "print('Filter:',list(filter(lambda x:x%2==0, [1,2,3,4])))\n",
    "# reduce function\n",
    "print('Reduce:',reduce(lambda x,y:x+y, [1,2,3,4,5]))"
   ]
  },
  {
   "cell_type": "code",
   "execution_count": 4,
   "id": "ddca4771",
   "metadata": {},
   "outputs": [],
   "source": [
    "#Q4. What are function annotations, and how are they used?\n",
    "#A4. Function annotations provide a way of associating various parts of a function with arbitrary python expressions at compile \n",
    "#time. Annotations of simple parameters def func(x: expression, y: expression = 20):\n",
    "#Whereas the annotations for excess parameters are as − def func (**args: expression, **kwargs: expression):"
   ]
  },
  {
   "cell_type": "code",
   "execution_count": 5,
   "id": "af452dc8",
   "metadata": {},
   "outputs": [],
   "source": [
    "#Q5. What are recursive functions, and how are they used?\n",
    "#A5. A recursive function is a function that calls itself during its execution. The process may repeat several times, outputting\n",
    "#the result and the end of each iteration."
   ]
  },
  {
   "cell_type": "code",
   "execution_count": 6,
   "id": "077ce70c",
   "metadata": {},
   "outputs": [],
   "source": [
    "#Q6. What are some general design guidelines for coding functions?\n",
    "#A6. As Follows:\n",
    "#1. Always use a docstring to explain the functionality of the function.\n",
    "#2. Avoid using or limited use of global variables.\n",
    "#3. Proper Identation to increase the code readability.\n",
    "#4. Try to follow a naming convention for function names (pascalCase or camelCase) and stick with the same convention throughout\n",
    "#the application.\n",
    "#5. Avoid using digits while choosing a variable name.\n",
    "#6. Try to use a name for the function which conveys the purpose of the function.\n",
    "#7. Local variables should be named using camelCase format (ex: localVariable) whereas Global variables names should be using \n",
    "#PascalCase (ex:GlobalVariable).\n",
    "#8. Constant should be represented in allcaps (ex:CONSTANT)."
   ]
  },
  {
   "cell_type": "code",
   "execution_count": 7,
   "id": "207aad87",
   "metadata": {},
   "outputs": [],
   "source": [
    "#Q7. Name three or more ways that functions can communicate results to a caller.\n",
    "#A7. As Follows:\n",
    "#print\n",
    "#return\n",
    "#yield"
   ]
  }
 ],
 "metadata": {
  "kernelspec": {
   "display_name": "Python 3 (ipykernel)",
   "language": "python",
   "name": "python3"
  },
  "language_info": {
   "codemirror_mode": {
    "name": "ipython",
    "version": 3
   },
   "file_extension": ".py",
   "mimetype": "text/x-python",
   "name": "python",
   "nbconvert_exporter": "python",
   "pygments_lexer": "ipython3",
   "version": "3.9.7"
  }
 },
 "nbformat": 4,
 "nbformat_minor": 5
}
