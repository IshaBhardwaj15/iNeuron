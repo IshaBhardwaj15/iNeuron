{
 "cells": [
  {
   "cell_type": "markdown",
   "id": "9cb0009c",
   "metadata": {},
   "source": [
    "Question1\n",
    "Create a function that takes a list of strings and integers, and filters out the list so that it returns a list of integers only.\n",
    "Examples\n",
    "\n",
    "filter_list([1, 2, 3, \"a\", \"b\", 4]) ➞ [1, 2, 3, 4]\n",
    "\n",
    "filter_list([\"A\", 0, \"Edabit\", 1729, \"Python\", \"1729\"]) ➞ [0, 1729]\n",
    "\n",
    "filter_list([\"Nothing\", \"here\"]) ➞ []"
   ]
  },
  {
   "cell_type": "code",
   "execution_count": 1,
   "id": "253b57d7",
   "metadata": {},
   "outputs": [
    {
     "name": "stdout",
     "output_type": "stream",
     "text": [
      "Enter the number of characters:6\n",
      "1\n",
      "2\n",
      "3\n",
      "a\n",
      "b\n",
      "4\n",
      "([1, 2, 3, 'a', 'b', 4])➞[1, 2, 3, 4]\n",
      "Enter the number of characters:6\n",
      "A\n",
      "0\n",
      "Edabit\n",
      "1729\n",
      "Python\n",
      "\"1729\"\n",
      "(['A', 0, 'Edabit', 1729, 'Python', '\"1729\"'])➞[0, 1729]\n",
      "Enter the number of characters:2\n",
      "Nothing\n",
      "Here\n",
      "(['Nothing', 'Here'])➞[]\n"
     ]
    }
   ],
   "source": [
    "def func1():\n",
    "    N=int(input(\"Enter the number of characters:\"))\n",
    "    l=[]\n",
    "    for i in range(N):\n",
    "        i=input(\"\")\n",
    "        try:  \n",
    "            l.append(int(i))\n",
    "        except ValueError:\n",
    "            l.append(i)\n",
    "    result=[]\n",
    "    for j in l:\n",
    "        if type(j)==int and j>=0:\n",
    "            result.append(j)\n",
    "    print(f'({l})➞{result}')\n",
    "for k in range(3):\n",
    "    func1()"
   ]
  },
  {
   "cell_type": "markdown",
   "id": "f325991a",
   "metadata": {},
   "source": [
    "Question2\n",
    "Given a list of numbers, create a function which returns the list but with each element's index in the list added to itself. This means you add 0 to the number at index 0, add 1 to the number at index 1, etc...\n",
    "Examples\n",
    "\n",
    "add_indexes([0, 0, 0, 0, 0]) ➞ [0, 1, 2, 3, 4]\n",
    "\n",
    "add_indexes([1, 2, 3, 4, 5]) ➞ [1, 3, 5, 7, 9]\n",
    "\n",
    "add_indexes([5, 4, 3, 2, 1]) ➞ [5, 5, 5, 5, 5]"
   ]
  },
  {
   "cell_type": "code",
   "execution_count": 2,
   "id": "f76b32c1",
   "metadata": {},
   "outputs": [
    {
     "name": "stdout",
     "output_type": "stream",
     "text": [
      "Enter number of elements : 5\n",
      "0\n",
      "0\n",
      "0\n",
      "0\n",
      "0\n",
      "add_indices([0, 0, 0, 0, 0])➞[0, 1, 2, 3, 4]\n",
      "Enter number of elements : 5\n",
      "1\n",
      "2\n",
      "3\n",
      "4\n",
      "5\n",
      "add_indices([1, 2, 3, 4, 5])➞[1, 3, 5, 7, 9]\n",
      "Enter number of elements : 5\n",
      "5\n",
      "4\n",
      "3\n",
      "2\n",
      "1\n",
      "add_indices([5, 4, 3, 2, 1])➞[5, 5, 5, 5, 5]\n"
     ]
    }
   ],
   "source": [
    "def func2(n):\n",
    "    result=[]\n",
    "    for i in range(len(n)):\n",
    "        result.append(i+n[i])\n",
    "    return result\n",
    "for j in range(3):\n",
    "    l=[]\n",
    "    x=int(input(\"Enter number of elements : \"))\n",
    "    for j in range(0, x):\n",
    "        y=int(input())\n",
    "        l.append(y)\n",
    "    print(f'add_indices({l})➞{func2(l)}')"
   ]
  },
  {
   "cell_type": "markdown",
   "id": "a5d32765",
   "metadata": {},
   "source": [
    "Question3\n",
    "Create a function that takes the height and radius of a cone as arguments and returns the volume of the cone rounded to the nearest hundredth. See the resources tab for the formula.\n",
    "\n",
    "Examples\n",
    "\n",
    "cone_volume(3, 2) ➞ 12.57\n",
    "\n",
    "cone_volume(15, 6) ➞ 565.49\n",
    "\n",
    "cone_volume(18, 0) ➞ 0"
   ]
  },
  {
   "cell_type": "code",
   "execution_count": 3,
   "id": "5fc7ed77",
   "metadata": {},
   "outputs": [
    {
     "name": "stdout",
     "output_type": "stream",
     "text": [
      "Enter Height:3\n",
      "Enter Radius:2\n",
      "cone_volume(3,2)➞12.57\n",
      "Enter Height:15\n",
      "Enter Radius:6\n",
      "cone_volume(15,6)➞565.49\n",
      "Enter Height:18\n",
      "Enter Radius:0\n",
      "cone_volume(18,0)➞0.00\n"
     ]
    }
   ],
   "source": [
    "import math\n",
    "def func3(h,r):\n",
    "    result=((math.pi)*(r**2)*(h))/3\n",
    "    return result\n",
    "for i in range(3):\n",
    "    h=int(input(\"Enter Height:\"))\n",
    "    r=int(input(\"Enter Radius:\"))\n",
    "    print(f'cone_volume({h},{r})➞{func3(h,r):.2f}')"
   ]
  },
  {
   "cell_type": "markdown",
   "id": "afb52a10",
   "metadata": {},
   "source": [
    "Question4\n",
    "This Triangular Number Sequence is generated from a pattern of dots that form a triangle. The first 5 numbers of the sequence, or dots, are: \n",
    "1, 3, 6, 10, 15\n",
    "This means that the first triangle has just one dot, the second one has three dots, the third one has 6 dots and so on.\n",
    "Write a function that gives the number of dots with its corresponding triangle number of the sequence.\n",
    "Examples\n",
    "   \n",
    "triangle(1) ➞ 1\n",
    "\n",
    "triangle(6) ➞ 21\n",
    "\n",
    "triangle(215) ➞ 23220"
   ]
  },
  {
   "cell_type": "code",
   "execution_count": 4,
   "id": "71e8c8f1",
   "metadata": {},
   "outputs": [
    {
     "name": "stdout",
     "output_type": "stream",
     "text": [
      "Enter Value of n:1\n",
      "triangle(1)➞1\n",
      "Enter Value of n:6\n",
      "triangle(6)➞21\n",
      "Enter Value of n:215\n",
      "triangle(215)➞23220\n"
     ]
    }
   ],
   "source": [
    "def func4(n):\n",
    "    result=int((n)*((n+1)/2))\n",
    "    return result\n",
    "for i in range(3):\n",
    "    n=int(input(\"Enter Value of n:\"))\n",
    "    print(f'triangle({n})➞{func4(n)}')"
   ]
  },
  {
   "cell_type": "markdown",
   "id": "5d00f4dc",
   "metadata": {},
   "source": [
    "Question5\n",
    "Create a function that takes a list of numbers between 1 and 10 (excluding one number) and returns the missing number.\n",
    "Examples\n",
    "\n",
    "missing_num([1, 2, 3, 4, 6, 7, 8, 9, 10]) ➞ 5\n",
    "\n",
    "missing_num([7, 2, 3, 6, 5, 9, 1, 4, 8]) ➞ 10\n",
    "\n",
    "missing_num([10, 5, 1, 2, 4, 6, 8, 3, 9]) ➞ 7"
   ]
  },
  {
   "cell_type": "code",
   "execution_count": 5,
   "id": "87e48071",
   "metadata": {},
   "outputs": [
    {
     "name": "stdout",
     "output_type": "stream",
     "text": [
      "[1, 2, 3, 4, 6, 7, 8, 9, 10]➞5\n",
      "[7, 2, 3, 6, 5, 9, 1, 4, 8]➞10\n",
      "[10, 5, 1, 2, 4, 6, 8, 3, 9]➞7\n"
     ]
    }
   ],
   "source": [
    "def func5(n):\n",
    "    for i in range(1,11):\n",
    "        if i not in n:\n",
    "            print(f'{n}➞{i}')\n",
    "func5([1, 2, 3, 4, 6, 7, 8, 9, 10])\n",
    "func5([7, 2, 3, 6, 5, 9, 1, 4, 8])\n",
    "func5([10, 5, 1, 2, 4, 6, 8, 3, 9])"
   ]
  }
 ],
 "metadata": {
  "kernelspec": {
   "display_name": "Python 3 (ipykernel)",
   "language": "python",
   "name": "python3"
  },
  "language_info": {
   "codemirror_mode": {
    "name": "ipython",
    "version": 3
   },
   "file_extension": ".py",
   "mimetype": "text/x-python",
   "name": "python",
   "nbconvert_exporter": "python",
   "pygments_lexer": "ipython3",
   "version": "3.9.7"
  }
 },
 "nbformat": 4,
 "nbformat_minor": 5
}
