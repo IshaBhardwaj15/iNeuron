{
 "cells": [
  {
   "cell_type": "code",
   "execution_count": 1,
   "id": "246f1a08",
   "metadata": {},
   "outputs": [],
   "source": [
    "#Q1. Is the Python Standard Library included with PyInputPlus?\n",
    "#A1. No, PyInputPlus is not a part of Python Standard Library\n",
    "#it needs to be installed explicitly using the command !pip install PyInputPlus"
   ]
  },
  {
   "cell_type": "code",
   "execution_count": 2,
   "id": "f009c4be",
   "metadata": {},
   "outputs": [],
   "source": [
    "#Q2. Why is PyInputPlus commonly imported with import pyinputplus as pypi?\n",
    "#A2. We can import the module with import pyinputplus as pyip so that we can enter a shorter name when calling the module's \n",
    "#functions."
   ]
  },
  {
   "cell_type": "code",
   "execution_count": 3,
   "id": "0be4223d",
   "metadata": {},
   "outputs": [],
   "source": [
    "#Q3. How do you distinguish between inputInt() and inputFloat()?\n",
    "#A3. inputInt() function takes input as an integer value. \n",
    "#Whereas inputFloat() function Accepts a floating-point numeric value. \n",
    "#both takes additional parameters such as min, max, greaterThan, lessThan but the former one returns an integer value\n",
    "#and the latter returns a floting point numeric value"
   ]
  },
  {
   "cell_type": "code",
   "execution_count": null,
   "id": "b2eba572",
   "metadata": {},
   "outputs": [],
   "source": [
    "#Q4. Using PyInputPlus, how do you ensure that the user enters a whole number between 0 and 99?\n",
    "#A4. PyInputPlus module provides a function called as inputInt() which only returns integer values. \n",
    "#inorder to restrict the input between 0 and 99, parameters like min & max are used to ensure that user enters the values \n",
    "#between the defined range only.\n",
    "import pyinputplus as pyip\n",
    "number = pyip.inputInt(prompt='number:', min=0, max=100)\n",
    "print(number)"
   ]
  },
  {
   "cell_type": "code",
   "execution_count": 4,
   "id": "2e522cc2",
   "metadata": {},
   "outputs": [],
   "source": [
    "#Q5. What is transferred to the keyword arguments allowRegexes and blockRegexes?\n",
    "#A5. we can use allowRegexes and blockRegexes keyword arguments to take list of regular expression strings to determine \n",
    "#what the pyinputplus function will reject or accept as valid input."
   ]
  },
  {
   "cell_type": "code",
   "execution_count": 5,
   "id": "8230e550",
   "metadata": {},
   "outputs": [],
   "source": [
    "#Q6. If a blank input is entered three times, what does inputStr(limit=3) do?\n",
    "#A6. The statement inputStr(limit=3) will throw two exceptions ValidationException and RetryLimitException. \n",
    "#The first exception is thrown because blank values are not allowed by inputStr() function by default. \n",
    "#If we want to consider blank values as valid input, we have to set blank=True.\n",
    "#The second exception is thrown because we have reached the max limit we have specified by using limit parameter. \n",
    "#Inorder to avoid this exception we can use default parameter to return a default value when max limit is reached."
   ]
  },
  {
   "cell_type": "code",
   "execution_count": 6,
   "id": "f29caedb",
   "metadata": {},
   "outputs": [],
   "source": [
    "#Q7. If blank input is entered three times, what does inputStr(limit=3, default='hello') do?\n",
    "#A7. Since the default parameter is set to hello, after blank input is entered three times instead of raising \n",
    "#RetryLimitException exception, the function will return hello as response to the calling function."
   ]
  }
 ],
 "metadata": {
  "kernelspec": {
   "display_name": "Python 3 (ipykernel)",
   "language": "python",
   "name": "python3"
  },
  "language_info": {
   "codemirror_mode": {
    "name": "ipython",
    "version": 3
   },
   "file_extension": ".py",
   "mimetype": "text/x-python",
   "name": "python",
   "nbconvert_exporter": "python",
   "pygments_lexer": "ipython3",
   "version": "3.9.7"
  }
 },
 "nbformat": 4,
 "nbformat_minor": 5
}
