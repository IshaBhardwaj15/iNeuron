{
 "cells": [
  {
   "cell_type": "markdown",
   "id": "d6c62080",
   "metadata": {},
   "source": [
    "Question 1 Create a function that takes a number as an argument and returns True or False depending on whether the number is symmetrical or not. A number is symmetrical when it is the same as its reverse.\n",
    "\n",
    "Examples\n",
    "\n",
    "is_symmetrical(7227) ➞ True\n",
    "\n",
    "is_symmetrical(12567) ➞ False\n",
    "\n",
    "is_symmetrical(44444444) ➞ True\n",
    "\n",
    "is_symmetrical(9939) ➞ False\n",
    "\n",
    "is_symmetrical(1112111) ➞ True"
   ]
  },
  {
   "cell_type": "code",
   "execution_count": 1,
   "id": "4b3be095",
   "metadata": {},
   "outputs": [
    {
     "name": "stdout",
     "output_type": "stream",
     "text": [
      "Enter value of a:7227\n",
      "is_symetrical(7227)➞True\n",
      "Enter value of a:12567\n",
      "is_symetrical(12567)➞False\n",
      "Enter value of a:444444444\n",
      "is_symetrical(444444444)➞True\n",
      "Enter value of a:9939\n",
      "is_symetrical(9939)➞False\n",
      "Enter value of a:1112111\n",
      "is_symetrical(1112111)➞True\n"
     ]
    }
   ],
   "source": [
    "def func1(a):\n",
    "    if str(a)==str(a)[::-1]:\n",
    "        print(f'is_symetrical({a})➞{True}')\n",
    "    else:\n",
    "        print(f'is_symetrical({a})➞{False}')\n",
    "for j in range(0,5):\n",
    "    a=input(\"Enter value of a:\")\n",
    "    func1(a)"
   ]
  },
  {
   "cell_type": "markdown",
   "id": "a576a64f",
   "metadata": {},
   "source": [
    "Question 2 Given a string of numbers separated by a comma and space, return the product of the numbers.\n",
    "\n",
    "Examples\n",
    "\n",
    "multiply_nums(\"2, 3\") ➞ 6\n",
    "\n",
    "multiply_nums(\"1, 2, 3, 4\") ➞ 24\n",
    "\n",
    "multiply_nums(\"54, 75, 453, 0\") ➞ 0\n",
    "\n",
    "multiply_nums(\"10, -2\") ➞ -20"
   ]
  },
  {
   "cell_type": "code",
   "execution_count": 2,
   "id": "533c811b",
   "metadata": {},
   "outputs": [
    {
     "name": "stdout",
     "output_type": "stream",
     "text": [
      "Enter value of s:2, 3\n",
      "multiply_nums(\"2, 3\")➞6\n",
      "Enter value of s:1, 2, 3, 4\n",
      "multiply_nums(\"1, 2, 3, 4\")➞24\n",
      "Enter value of s:54, 75, 453, 0\n",
      "multiply_nums(\"54, 75, 453, 0\")➞0\n",
      "Enter value of s:10, -2\n",
      "multiply_nums(\"10, -2\")➞-20\n"
     ]
    }
   ],
   "source": [
    "def func2(s):\n",
    "    result=s.replace(' ','').split(',')\n",
    "    n=1\n",
    "    for i in result:\n",
    "        n*=int(i)\n",
    "    print(f'multiply_nums(\"{s}\")➞{n}')\n",
    "for j in range(0,4):\n",
    "    s=input(\"Enter value of s:\")\n",
    "    func2(s)"
   ]
  },
  {
   "cell_type": "markdown",
   "id": "1cdaeedc",
   "metadata": {},
   "source": [
    "Question 3 Create a function that squares every digit of a number.\n",
    "\n",
    "Examples\n",
    "\n",
    "square_digits(9119) ➞ 811181\n",
    "\n",
    "square_digits(2483) ➞ 416649\n",
    "\n",
    "square_digits(3212) ➞ 9414\n",
    "\n",
    "Notes\n",
    "\n",
    "The function receives an integer and must return an integer."
   ]
  },
  {
   "cell_type": "code",
   "execution_count": 3,
   "id": "dc939662",
   "metadata": {},
   "outputs": [
    {
     "name": "stdout",
     "output_type": "stream",
     "text": [
      "Enter value for n:9119\n",
      "square_digits(9119)➞811181\n",
      "Enter value for n:2483\n",
      "square_digits(2483)➞416649\n",
      "Enter value for n:3212\n",
      "square_digits(3212)➞9414\n"
     ]
    }
   ],
   "source": [
    "def func3(n):\n",
    "    l=[str(int(i)**2) for i in str(n)]\n",
    "    result=''.join(l)\n",
    "    print(f'square_digits({n})➞{int(result)}')\n",
    "for j in range(0,3):\n",
    "    n=input(\"Enter value for n:\")\n",
    "    func3(n)"
   ]
  },
  {
   "cell_type": "markdown",
   "id": "b54ee5ed",
   "metadata": {},
   "source": [
    "Question 4 Create a function that sorts a list and removes all duplicate items from it.\n",
    "\n",
    "Examples\n",
    "\n",
    "setify([1, 3, 3, 5, 5]) ➞ [1, 3, 5]\n",
    "\n",
    "setify([4, 4, 4, 4]) ➞ [4]\n",
    "\n",
    "setify([5, 7, 8, 9, 10, 15]) ➞ [5, 7, 8, 9, 10, 15]\n",
    "\n",
    "setify([3, 3, 3, 2, 1]) ➞ [1, 2, 3]"
   ]
  },
  {
   "cell_type": "code",
   "execution_count": 4,
   "id": "89ff0e30",
   "metadata": {},
   "outputs": [
    {
     "name": "stdout",
     "output_type": "stream",
     "text": [
      "Enter the number of characters:5\n",
      "1\n",
      "3\n",
      "3\n",
      "5\n",
      "5\n",
      "setify([1, 3, 3, 5, 5])➞[1, 3, 5]\n",
      "Enter the number of characters:4\n",
      "4\n",
      "4\n",
      "4\n",
      "4\n",
      "setify([4, 4, 4, 4])➞[4]\n",
      "Enter the number of characters:6\n",
      "5\n",
      "7\n",
      "8\n",
      "9\n",
      "10\n",
      "15\n",
      "setify([5, 7, 8, 9, 10, 15])➞[5, 7, 8, 9, 10, 15]\n",
      "Enter the number of characters:5\n",
      "3\n",
      "3\n",
      "3\n",
      "2\n",
      "1\n",
      "setify([3, 3, 3, 2, 1])➞[1, 2, 3]\n"
     ]
    }
   ],
   "source": [
    "def func4():\n",
    "    N=int(input(\"Enter the number of characters:\"))\n",
    "    l=[]\n",
    "    for i in range(N):\n",
    "        i=input(\"\")\n",
    "        try:  \n",
    "            l.append(int(i))\n",
    "        except ValueError:\n",
    "            l.append(i)\n",
    "    result=[]\n",
    "    for j in l:\n",
    "        output=sorted(set(l))\n",
    "    print(f'setify({l})➞{output}')\n",
    "for k in range(0,4):\n",
    "    func4()"
   ]
  },
  {
   "cell_type": "markdown",
   "id": "d47809f8",
   "metadata": {},
   "source": [
    "Question 5 Create a function that returns the mean of all digits.\n",
    "\n",
    "Examples\n",
    "\n",
    "mean(42) ➞ 3\n",
    "\n",
    "mean(12345) ➞ 3\n",
    "\n",
    "mean(666) ➞ 6\n",
    "\n",
    "Notes\n",
    "\n",
    "•The mean of all digits is the sum of digits / how many digits there are (e.g. mean of digits in 512 is (5+1+2)/3(number of digits) = 8/3=2).\n",
    "\n",
    "•The mean will always be an integer."
   ]
  },
  {
   "cell_type": "code",
   "execution_count": 5,
   "id": "c822f0e0",
   "metadata": {},
   "outputs": [
    {
     "name": "stdout",
     "output_type": "stream",
     "text": [
      "Enter value of n:42\n",
      "mean(42)➞3\n",
      "Enter value of n:12345\n",
      "mean(12345)➞3\n",
      "Enter value of n:666\n",
      "mean(666)➞6\n"
     ]
    }
   ],
   "source": [
    "def func5(n):\n",
    "    l=[int(i) for i in str(n)]\n",
    "    result=sum(l)/len(str(n))\n",
    "    print(f'mean({n})➞{result:.0f}')\n",
    "for j in range(0,3):\n",
    "    n=input(\"Enter value of n:\")\n",
    "    func5(n)"
   ]
  }
 ],
 "metadata": {
  "kernelspec": {
   "display_name": "Python 3 (ipykernel)",
   "language": "python",
   "name": "python3"
  },
  "language_info": {
   "codemirror_mode": {
    "name": "ipython",
    "version": 3
   },
   "file_extension": ".py",
   "mimetype": "text/x-python",
   "name": "python",
   "nbconvert_exporter": "python",
   "pygments_lexer": "ipython3",
   "version": "3.9.7"
  }
 },
 "nbformat": 4,
 "nbformat_minor": 5
}
