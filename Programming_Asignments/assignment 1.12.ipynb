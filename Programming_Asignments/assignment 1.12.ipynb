{
 "cells": [
  {
   "cell_type": "code",
   "execution_count": 1,
   "id": "2595ccb7",
   "metadata": {},
   "outputs": [],
   "source": [
    "#Q1. In what modes should the PdfFileReader() and PdfFileWriter() File objects will be opened?\n",
    "#A1. For PdfFileReader() file objects should be opened in rb-read binary mode, while for PdfFileWriter() file objects should \n",
    "#be opened in wb-write binary mode."
   ]
  },
  {
   "cell_type": "code",
   "execution_count": 5,
   "id": "b3c9f31d",
   "metadata": {},
   "outputs": [],
   "source": [
    "#Q2. From a PdfFileReader object, how do you get a Page object for page 5?\n",
    "#A2. PdfFileReader class provides a method called getPage(page_no) to get a page object.\n",
    "\n",
    "# Code:\n",
    "#from PyPDF2 import PdfFileReader\n",
    "#pdf_reader = PdfFileReader(file_path)\n",
    "#for page in pdf_reader.getNumPages():\n",
    "#    pdf_reader.getPage(page)"
   ]
  },
  {
   "cell_type": "code",
   "execution_count": 6,
   "id": "4541ac0b",
   "metadata": {},
   "outputs": [],
   "source": [
    "#Q3. What PdfFileReader variable stores the number of pages in the PDF document?\n",
    "#A3. getNumPages() method of PdfFileReader class stores the number of pages in a PDF document\n",
    "\n",
    "#Code:\n",
    "#from PyPDF2 import PdfFileReader\n",
    "#pdf_reader = PdfFileReader(file_path)\n",
    "#print(pdf_reader.getNumPages()) # Prints the no of pages in a input document"
   ]
  },
  {
   "cell_type": "code",
   "execution_count": 7,
   "id": "089c2b0c",
   "metadata": {},
   "outputs": [],
   "source": [
    "#Q4. If a PdfFileReader object’s PDF is encrypted with the password swordfish, what must you do before you can obtain \n",
    "#Page objects from it?\n",
    "#A4. If a PdfFileReader object’s PDF is encrypted with the password swordfish and you're not aware of it, first read the \n",
    "#Pdf using the PdfFileReader Class.The PdfFileReader class provides a attribute called isEncrypted to check whether a pdf is \n",
    "#encrypted or not. The method returns true if a pdf is encrypted and False if it is not.\n",
    "#if pdf is encrypted, use the decrypt() method provided by PdfFileReader class first then try to read the contents/pages of the \n",
    "#pdf, else PyPDF2 will raise the following error PyPDF2.utils.PdfReadError: file has not been decrypted\n",
    "\n",
    "#Code:\n",
    "#from PyPDF2 import PdfFileReader\n",
    "#pdf_reader = PdfFileReader(file_path)\n",
    "#if pdf_reader.isEncrypted: # to check whether the pdf is encrypted or not\n",
    "#    pdf_reader.decrypt(\"swordfish\")\n",
    "#for page in pdf_reader.pages:\n",
    "#    print(page.extractText()) # to print the text data of a page from pdf"
   ]
  },
  {
   "cell_type": "code",
   "execution_count": 8,
   "id": "292ebb16",
   "metadata": {},
   "outputs": [],
   "source": [
    "#Q5. What methods do you use to rotate a page?\n",
    "#A5. PyPDF2 Package provides two methods to rotate a page:\n",
    "\n",
    "#rotateClockWise() - For Clockwise rotation\n",
    "#rotateCounterClockWise() - For Counter Clockwise rotation\n",
    "#The PyPDF2 package only allows you to rotate a page in increments of 90 degrees. You will receive an AssertionError otherwise."
   ]
  },
  {
   "cell_type": "code",
   "execution_count": 9,
   "id": "5dce71ba",
   "metadata": {},
   "outputs": [],
   "source": [
    "#Q6. What is the difference between a Run object and a Paragraph object?\n",
    "#A6. The structure of a document is represented by three different data types in python-Docx.\n",
    "#At the highest level, a Document object represents the entire document. The Document object contains a list of Paragraph \n",
    "#objects for the paragraphs in the document. (A new paragraph begins whenever the user presses ENTER or RETURN while typing in a\n",
    "#Word document) Each of these Paragraph objects contains a list of one or more Run objects.\n",
    "\n",
    "#The text in a Word document is more than just a string. It has font, size, color, and other styling information associated with\n",
    "#it. A style in Word is a collection of these attributes. A Run object is a contiguous run of text with the same style. \n",
    "#A new Run object is needed whenever the text style changes."
   ]
  },
  {
   "cell_type": "code",
   "execution_count": 10,
   "id": "8571fb82",
   "metadata": {},
   "outputs": [],
   "source": [
    "#Q7. How do you obtain a list of Paragraph objects for a Document object that’s stored in a variable named doc?\n",
    "#A7.# Code:\n",
    "#from docx import Document\n",
    "#doc = Document(\"sample_file.docx\") # Path of the Docx file\n",
    "#print(doc.paragraphs) # Prints the list of Paragraph objects for a Document\n",
    "#for paragraph in doc.paragraphs:\n",
    "#    print(paragraph.text) # Prints the text in the paragraph"
   ]
  },
  {
   "cell_type": "code",
   "execution_count": 11,
   "id": "6660fd14",
   "metadata": {},
   "outputs": [],
   "source": [
    "#Q8. What type of object has bold, underline, italic, strike, and outline variables?\n",
    "#A8. Run object has bold, underline, italic, strike, and outline variables. \n",
    "#The text in a Word document is more than just a string. It has font, size, color, and other styling information associated with\n",
    "#it"
   ]
  },
  {
   "cell_type": "code",
   "execution_count": 12,
   "id": "85482cb6",
   "metadata": {},
   "outputs": [],
   "source": [
    "#Q9. What is the difference between False, True, and None for the bold variable?\n",
    "#A9. #code:\n",
    "#bold = True  # Style Set to Bold\n",
    "#bold = False # Style Not Set to Bold\n",
    "#bold = None # Style is Not Applicable"
   ]
  },
  {
   "cell_type": "code",
   "execution_count": 13,
   "id": "26e7aec1",
   "metadata": {},
   "outputs": [],
   "source": [
    "#Q10. How do you create a Document object for a new Word document?\n",
    "#A10. # Code:\n",
    "#from docx import Document\n",
    "#document = Document()\n",
    "#document.add_paragraph(\"iNeuron\")\n",
    "#document.save('mydocument.docx')"
   ]
  },
  {
   "cell_type": "code",
   "execution_count": 15,
   "id": "6929e5ae",
   "metadata": {},
   "outputs": [],
   "source": [
    "#Q11. How do you add a paragraph with the text 'Hello, there!' to a Document object stored in a variable named doc?\n",
    "#A11. # Code:\n",
    "#from docx import Document\n",
    "#doc = Document()\n",
    "#doc.add_paragraph('Hello, there!')\n",
    "#doc.save('hello.docx')"
   ]
  },
  {
   "cell_type": "code",
   "execution_count": 17,
   "id": "d10b4ad4",
   "metadata": {},
   "outputs": [],
   "source": [
    "#Q12. What integers represent the levels of headings available in Word documents?\n",
    "#A12. The levels for a heading in a word document can be specified by using the level attribute inside the add_heading method. \n",
    "#There are a total of 5 levels statring for 0 to 4, where level 0 makes a headline with the horizontal line below the text, \n",
    "#the heading level 1 is the main heading. Similarly, the other headings are sub-heading with their's font-sizes in \n",
    "#decreasing order."
   ]
  }
 ],
 "metadata": {
  "kernelspec": {
   "display_name": "Python 3 (ipykernel)",
   "language": "python",
   "name": "python3"
  },
  "language_info": {
   "codemirror_mode": {
    "name": "ipython",
    "version": 3
   },
   "file_extension": ".py",
   "mimetype": "text/x-python",
   "name": "python",
   "nbconvert_exporter": "python",
   "pygments_lexer": "ipython3",
   "version": "3.9.7"
  }
 },
 "nbformat": 4,
 "nbformat_minor": 5
}
