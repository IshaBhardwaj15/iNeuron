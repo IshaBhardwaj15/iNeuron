{
 "cells": [
  {
   "cell_type": "markdown",
   "id": "0ef00c5b",
   "metadata": {},
   "source": [
    "Question1 Create a function that takes three integer arguments (a, b, c) and returns the amount of integers which are of equal value.\n",
    "\n",
    "Examples\n",
    "\n",
    "equal(3, 4, 3) ➞ 2\n",
    "\n",
    "equal(1, 1, 1) ➞ 3\n",
    "\n",
    "equal(3, 4, 1) ➞ 0 \n",
    "\n",
    "Notes\n",
    "\n",
    "Your function must return 0, 2 or 3."
   ]
  },
  {
   "cell_type": "code",
   "execution_count": 1,
   "id": "25fab5b2",
   "metadata": {},
   "outputs": [
    {
     "name": "stdout",
     "output_type": "stream",
     "text": [
      "3\n",
      "4\n",
      "3\n",
      "equal([3, 4, 3])➞2\n",
      "1\n",
      "1\n",
      "1\n",
      "equal([1, 1, 1])➞3\n",
      "3\n",
      "4\n",
      "1\n",
      "equal([3, 4, 1])➞0\n"
     ]
    }
   ],
   "source": [
    "def func1():\n",
    "    n=''\n",
    "    N=3\n",
    "    l=[]\n",
    "    for i in range(N):\n",
    "        i=input(\"\")\n",
    "        try:  \n",
    "            l.append(int(i))\n",
    "        except ValueError:\n",
    "            l.append(i)\n",
    "    if l[0]==l[1]==l[2]:\n",
    "        n=3\n",
    "        print(f'equal({l})➞{n}')\n",
    "    elif l[0]==l[1] or l[1]==l[2] or l[0]==l[2]:\n",
    "        n=2\n",
    "        print(f'equal({l})➞{n}')\n",
    "    else:\n",
    "        n=0\n",
    "        print(f'equal({l})➞{n}')\n",
    "for j in range(0,3):\n",
    "    func1()"
   ]
  },
  {
   "cell_type": "markdown",
   "id": "7b530107",
   "metadata": {},
   "source": [
    "Question2 Write a function that converts a dictionary into a list of keys-values tuples.\n",
    "\n",
    "Examples\n",
    "\n",
    "dict_to_list({ \"D\": 1, \"B\": 2, \"C\": 3}) ➞ [(\"B\", 2), (\"C\", 3), (\"D\", 1)]\n",
    "\n",
    "dict_to_list({\"likes\": 2,\"dislikes\": 3,\"followers\": 10}) ➞ [(\"dislikes\", 3), (\"followers\", 10), (\"likes\", 2)]\n",
    "\n",
    "Notes\n",
    "\n",
    "Return the elements in the list in alphabetical order."
   ]
  },
  {
   "cell_type": "code",
   "execution_count": 2,
   "id": "d9a2ee6a",
   "metadata": {},
   "outputs": [
    {
     "name": "stdout",
     "output_type": "stream",
     "text": [
      "dict_to_list({'D': 1, 'B': 2, 'C': 3})➞[('D', 1), ('B', 2), ('C', 3)]\n",
      "dict_to_list({'likes': 2, 'dislikes': 3, 'followers': 10})➞[('likes', 2), ('dislikes', 3), ('followers', 10)]\n"
     ]
    }
   ],
   "source": [
    "def func2(d):\n",
    "    l=[]\n",
    "    for keys, values in d.items():\n",
    "        l.append((keys, values))\n",
    "    print(f'dict_to_list({d})➞{l}')\n",
    "func2({ \"D\": 1, \"B\": 2, \"C\": 3})\n",
    "func2({\"likes\": 2,\"dislikes\": 3,\"followers\": 10})"
   ]
  },
  {
   "cell_type": "markdown",
   "id": "b398cdc3",
   "metadata": {},
   "source": [
    "Question3 Write a function that creates a dictionary with each (key, value) pair being the (lower case, upper case) versions of a letter, respectively.\n",
    "\n",
    "Examples\n",
    "\n",
    "mapping([\"p\", \"s\"]) ➞ { \"p\": \"P\", \"s\": \"S\" }\n",
    "\n",
    "mapping([\"a\", \"b\", \"c\"]) ➞ { \"a\": \"A\", \"b\": \"B\", \"c\": \"C\" }\n",
    "\n",
    "mapping([\"a\", \"v\", \"y\", \"z\"]) ➞ { \"a\": \"A\", \"v\": \"V\", \"y\": \"Y\", \"z\": \"Z\" }\n",
    "\n",
    "Notes\n",
    "\n",
    "All of the letters in the input list will always be lowercase."
   ]
  },
  {
   "cell_type": "code",
   "execution_count": 3,
   "id": "a6951f05",
   "metadata": {},
   "outputs": [
    {
     "name": "stdout",
     "output_type": "stream",
     "text": [
      "mapping(['p', 's'])➞{'p': 'P', 's': 'S'}\n",
      "mapping(['a', 'b', 'c'])➞{'a': 'A', 'b': 'B', 'c': 'C'}\n",
      "mapping(['a', 'v', 'y', 'z'])➞{'a': 'A', 'v': 'V', 'y': 'Y', 'z': 'Z'}\n"
     ]
    }
   ],
   "source": [
    "def func3(l):\n",
    "    d={}\n",
    "    for i in l:\n",
    "        d[i]=i.upper()\n",
    "    print(f'mapping({l})➞{d}')\n",
    "func3([\"p\", \"s\"])\n",
    "func3([\"a\", \"b\", \"c\"])\n",
    "func3([\"a\", \"v\", \"y\", \"z\"])"
   ]
  },
  {
   "cell_type": "markdown",
   "id": "819db9d4",
   "metadata": {},
   "source": [
    "Question4 Write a function, that replaces all vowels in a string with a specified vowel.\n",
    "\n",
    "Examples\n",
    "\n",
    "vow_replace(\"apples and bananas\", \"u\") ➞ \"upplus und bununus\"\n",
    "\n",
    "vow_replace(\"cheese casserole\", \"o\") ➞ \"chooso cossorolo\"\n",
    "\n",
    "vow_replace(\"stuffed jalapeno poppers\", \"e\") ➞ \"steffed jelepene peppers\"\n",
    "\n",
    "Notes\n",
    "\n",
    "All words will be lowercase. Y is not considered a vowel."
   ]
  },
  {
   "cell_type": "code",
   "execution_count": 4,
   "id": "25af3848",
   "metadata": {},
   "outputs": [
    {
     "name": "stdout",
     "output_type": "stream",
     "text": [
      "vow_replace(apples and bananas)➞upplus und bununus\n",
      "vow_replace(cheese casserole)➞chooso cossorolo\n",
      "vow_replace(stuffed jalapeno poppers)➞steffed jelepene peppers\n"
     ]
    }
   ],
   "source": [
    "def func4(l,v):\n",
    "    vow=[\"a\",\"e\",\"i\",\"o\",\"u\"]\n",
    "    result=''\n",
    "    for i in l:\n",
    "        if i in vow:\n",
    "            result=result+v\n",
    "        else:\n",
    "            result=result+i\n",
    "    print(f'vow_replace({l})➞{result}')\n",
    "func4(\"apples and bananas\", \"u\")\n",
    "func4(\"cheese casserole\", \"o\")\n",
    "func4(\"stuffed jalapeno poppers\", \"e\")"
   ]
  },
  {
   "cell_type": "markdown",
   "id": "3589158c",
   "metadata": {},
   "source": [
    "Question5 Create a function that takes a string as input and capitalizes a letter if its ASCII code is even and returns its lower case version if its ASCII code is odd.\n",
    "\n",
    "Examples\n",
    "\n",
    "ascii_capitalize(\"to be or not to be!\") ➞ \"To Be oR NoT To Be!\"\n",
    "\n",
    "ascii_capitalize(\"THE LITTLE MERMAID\") ➞ \"THe LiTTLe meRmaiD\"\n",
    "\n",
    "ascii_capitalize(\"Oh what a beautiful morning.\") ➞ \"oH wHaT a BeauTiFuL moRNiNg.\""
   ]
  },
  {
   "cell_type": "code",
   "execution_count": 5,
   "id": "d1d43244",
   "metadata": {},
   "outputs": [
    {
     "name": "stdout",
     "output_type": "stream",
     "text": [
      "ascii_capitalize(\"to be or not to be!\")➞\"To Be oR NoT To Be!\"\n",
      "ascii_capitalize(\"THE LITTLE MERMAID\")➞\"THe LiTTLe meRmaiD\"\n",
      "ascii_capitalize(\"Oh what a beautiful morning.\")➞\"oH wHaT a BeauTiFuL moRNiNg.\"\n"
     ]
    }
   ],
   "source": [
    "def func5(l):\n",
    "    result=''\n",
    "    for i in l.lower():\n",
    "        if (ord(i)%2==0):\n",
    "            result=result+i.upper()\n",
    "        else:\n",
    "            result=result+i\n",
    "    print(f'ascii_capitalize(\"{l}\")➞\"{result}\"')\n",
    "func5(\"to be or not to be!\")\n",
    "func5(\"THE LITTLE MERMAID\")\n",
    "func5(\"Oh what a beautiful morning.\")"
   ]
  }
 ],
 "metadata": {
  "kernelspec": {
   "display_name": "Python 3 (ipykernel)",
   "language": "python",
   "name": "python3"
  },
  "language_info": {
   "codemirror_mode": {
    "name": "ipython",
    "version": 3
   },
   "file_extension": ".py",
   "mimetype": "text/x-python",
   "name": "python",
   "nbconvert_exporter": "python",
   "pygments_lexer": "ipython3",
   "version": "3.9.7"
  }
 },
 "nbformat": 4,
 "nbformat_minor": 5
}
