{
 "cells": [
  {
   "cell_type": "markdown",
   "id": "da82a53c",
   "metadata": {},
   "source": [
    "Question 1\n",
    "Create a function that takes a list of non-negative integers and strings and return a new list without the strings.\n",
    "Examples\n",
    "\n",
    "filter_list([1, 2, \"a\", \"b\"]) ➞ [1, 2]\n",
    "\n",
    "filter_list([1, \"a\", \"b\", 0, 15]) ➞ [1, 0, 15]\n",
    "\n",
    "filter_list([1, 2, \"aasf\", \"1\", \"123\", 123]) ➞ [1, 2, 123]"
   ]
  },
  {
   "cell_type": "code",
   "execution_count": 1,
   "id": "32210b2e",
   "metadata": {},
   "outputs": [
    {
     "name": "stdout",
     "output_type": "stream",
     "text": [
      "Enter the number of characters:4\n",
      "1\n",
      "2\n",
      "a\n",
      "b\n",
      "([1, 2, 'a', 'b'])➞[1, 2]\n",
      "Enter the number of characters:5\n",
      "1\n",
      "a\n",
      "b\n",
      "0\n",
      "15\n",
      "([1, 'a', 'b', 0, 15])➞[1, 0, 15]\n",
      "Enter the number of characters:6\n",
      "1\n",
      "2\n",
      "aasf\n",
      "\"1\"\n",
      "\"123\"\n",
      "123\n",
      "([1, 2, 'aasf', '\"1\"', '\"123\"', 123])➞[1, 2, 123]\n"
     ]
    }
   ],
   "source": [
    "def func1():\n",
    "    N=int(input(\"Enter the number of characters:\"))\n",
    "    l=[]\n",
    "    for i in range(N):\n",
    "        i=input(\"\")\n",
    "        try:  \n",
    "            l.append(int(i))\n",
    "        except ValueError:\n",
    "            l.append(i)\n",
    "    result=[]\n",
    "    for j in l:\n",
    "        if type(j)==int and j>=0:\n",
    "            result.append(j)\n",
    "    print(f'({l})➞{result}')\n",
    "for k in range(3):\n",
    "    func1()"
   ]
  },
  {
   "cell_type": "markdown",
   "id": "554887c9",
   "metadata": {},
   "source": [
    "Question 2\n",
    "The \"Reverser\" takes a string as input and returns that string in reverse order, with the opposite case.\n",
    "Examples\n",
    "\n",
    "reverse(\"Hello World\") ➞ \"DLROw OLLEh\"\n",
    "\n",
    "reverse(\"ReVeRsE\") ➞ \"eSrEvEr\"\n",
    "\n",
    "reverse(\"Radar\") ➞ \"RADAr\""
   ]
  },
  {
   "cell_type": "code",
   "execution_count": 2,
   "id": "9ace2036",
   "metadata": {},
   "outputs": [
    {
     "name": "stdout",
     "output_type": "stream",
     "text": [
      "Enter the string:Hello World\n",
      "Hello World➞DLROw OLLEh\n",
      "Enter the string:ReVeRsE\n",
      "ReVeRsE➞eSrEvEr\n",
      "Enter the string:Radar\n",
      "Radar➞RADAr\n"
     ]
    }
   ],
   "source": [
    "def func2():\n",
    "    s=input(\"Enter the string:\")\n",
    "    result=s[::-1].swapcase()\n",
    "    print(f'{s}➞{result}')\n",
    "for i in range(3):\n",
    "    func2()"
   ]
  },
  {
   "cell_type": "markdown",
   "id": "0c295fb5",
   "metadata": {},
   "source": [
    "Question 3\n",
    "You can assign variables from lists like this:\n",
    "\n",
    "lst = [1, 2, 3, 4, 5, 6]\n",
    "\n",
    "first = lst[0]\n",
    "\n",
    "middle = lst[1:-1]\n",
    "\n",
    "last = lst[-1]\n",
    "\n",
    "print(first) ➞ outputs 1\n",
    "\n",
    "print(middle) ➞ outputs [2, 3, 4, 5]\n",
    "\n",
    "print(last) ➞ outputs 6\n",
    "\n",
    "With Python 3, you can assign variables from lists in a much more succinct way. Create variables first, middle and last from the given list using destructuring assignment (check the Resources tab for some examples), where:\n",
    "\n",
    "first  ➞ 1\n",
    "\n",
    "middle ➞ [2, 3, 4, 5]\n",
    "\n",
    "last ➞ 6\n",
    "\n",
    "Your task is to unpack the list writeyourcodehere into three variables, being first, middle, and last, with middle being everything in between the first and last element. Then print all three variables."
   ]
  },
  {
   "cell_type": "code",
   "execution_count": 3,
   "id": "8dd3337e",
   "metadata": {},
   "outputs": [
    {
     "name": "stdout",
     "output_type": "stream",
     "text": [
      "first➞1\n",
      "middle➞[2, 3, 4, 5]\n",
      "last➞6\n"
     ]
    }
   ],
   "source": [
    "first,*middle,last=[1,2,3,4,5,6]\n",
    "print(f'first➞{first}')\n",
    "print(f'middle➞{middle}')\n",
    "print(f'last➞{last}')"
   ]
  },
  {
   "cell_type": "markdown",
   "id": "145a2b60",
   "metadata": {},
   "source": [
    "Question 4\n",
    "Write a function that calculates the factorial of a number recursively.\n",
    "Examples\n",
    "\n",
    "factorial(5) ➞ 120\n",
    "\n",
    "factorial(3) ➞ 6\n",
    "\n",
    "factorial(1) ➞ 1\n",
    "\n",
    "factorial(0) ➞ 1\n"
   ]
  },
  {
   "cell_type": "code",
   "execution_count": 4,
   "id": "e8ec77a4",
   "metadata": {},
   "outputs": [
    {
     "name": "stdout",
     "output_type": "stream",
     "text": [
      "Enter number:5\n",
      "factorial(5)➞120\n",
      "Enter number:3\n",
      "factorial(3)➞6\n",
      "Enter number:1\n",
      "factorial(1)➞1\n",
      "Enter number:0\n",
      "factorial(0)➞1\n"
     ]
    }
   ],
   "source": [
    "def func3(n):\n",
    "    if (n==1 or n==0):\n",
    "        return 1\n",
    "    else:\n",
    "        return n*func3(n-1)\n",
    "for i in range(4):\n",
    "    num=int(input(\"Enter number:\"))\n",
    "    print(f'factorial({num})➞{func3(num)}')"
   ]
  },
  {
   "cell_type": "markdown",
   "id": "13bab90e",
   "metadata": {},
   "source": [
    "Question 5\n",
    "Write a function that moves all elements of one type to the end of the list.\n",
    "Examples\n",
    "\n",
    "move_to_end([1, 3, 2, 4, 4, 1], 1) ➞ [3, 2, 4, 4, 1, 1]\n",
    "\n",
    "Move all the 1s to the end of the array.\n",
    "\n",
    "move_to_end([7, 8, 9, 1, 2, 3, 4], 9) ➞ [7, 8, 1, 2, 3, 4, 9]\n",
    "\n",
    "move_to_end([\"a\", \"a\", \"a\", \"b\"], \"a\") ➞ [\"b\", \"a\", \"a\", \"a\"]"
   ]
  },
  {
   "cell_type": "code",
   "execution_count": 1,
   "id": "c2e31504",
   "metadata": {},
   "outputs": [
    {
     "name": "stdout",
     "output_type": "stream",
     "text": [
      "move_to_end([1, 3, 2, 4, 4, 1], 1) ➞ [3, 2, 4, 4, 1, 1]\n",
      "move_to_end([7, 8, 9, 1, 2, 3, 4], 9) ➞ [7, 8, 1, 2, 3, 4, 9]\n",
      "move_to_end([\"a\", \"a\", \"a\", \"b\"], \"a\") ➞ ['b', 'a', 'a', 'a']\n"
     ]
    }
   ],
   "source": [
    "def func4(l,n):\n",
    "    f=[]\n",
    "    s=[]\n",
    "    for i in l:\n",
    "        if i==n:\n",
    "            s.append(i)\n",
    "        else:\n",
    "            f.append(i)\n",
    "    f.extend(s)\n",
    "    return f\n",
    "print(f'move_to_end([1, 3, 2, 4, 4, 1], 1) ➞ {func4([1, 3, 2, 4, 4, 1], 1)}')\n",
    "print(f'move_to_end([7, 8, 9, 1, 2, 3, 4], 9) ➞ {func4([7, 8, 9, 1, 2, 3, 4], 9)}')\n",
    "print(f'move_to_end([\"a\", \"a\", \"a\", \"b\"], \"a\") ➞ {func4([\"a\", \"a\", \"a\", \"b\"], \"a\")}')"
   ]
  }
 ],
 "metadata": {
  "kernelspec": {
   "display_name": "Python 3 (ipykernel)",
   "language": "python",
   "name": "python3"
  },
  "language_info": {
   "codemirror_mode": {
    "name": "ipython",
    "version": 3
   },
   "file_extension": ".py",
   "mimetype": "text/x-python",
   "name": "python",
   "nbconvert_exporter": "python",
   "pygments_lexer": "ipython3",
   "version": "3.9.7"
  }
 },
 "nbformat": 4,
 "nbformat_minor": 5
}
