{
 "cells": [
  {
   "cell_type": "code",
   "execution_count": 1,
   "id": "6c605289",
   "metadata": {},
   "outputs": [
    {
     "name": "stdout",
     "output_type": "stream",
     "text": [
      "Enter the value for D:100,150,180\n",
      "Output:18,22,24\n"
     ]
    }
   ],
   "source": [
    "#Question 1:Write a program that calculates and prints the value according to the given formula:\n",
    "#Q = Square root of [(2 * C * D)/H]\n",
    "#Following are the fixed values of C and H:\n",
    "#C is 50. H is 30.\n",
    "#D is the variable whose values should be input to your program in a comma-separated sequence.\n",
    "#Example\n",
    "#Let us assume the following comma separated input sequence is given to the program:\n",
    "#100,150,180\n",
    "#The output of the program should be:\n",
    "#18,22,24\n",
    "#Answer: code\n",
    "C=50\n",
    "H=30\n",
    "from math import sqrt\n",
    "def SqRt():\n",
    "    D=eval(input(\"Enter the value for D:\"))\n",
    "    result=[]\n",
    "    for i in D:\n",
    "        Q=str(int(sqrt((2*C*i)/H)))\n",
    "        result.append(Q)\n",
    "    print(\"Output:{}\".format(','.join(result)))\n",
    "SqRt()"
   ]
  },
  {
   "cell_type": "code",
   "execution_count": 2,
   "id": "67162072",
   "metadata": {},
   "outputs": [
    {
     "name": "stdout",
     "output_type": "stream",
     "text": [
      "Enter the Number of Rows:3\n",
      "Enter the Number of Columns:5\n",
      "[[0, 0, 0, 0, 0], [0, 1, 2, 3, 4], [0, 2, 4, 6, 8]]\n"
     ]
    }
   ],
   "source": [
    "#Question 2:Write a program which takes 2 digits, X,Y as input and generates a 2-dimensional array. \n",
    "#The element value in the i-th row and j-th column of the array should be i*j.\n",
    "#Note: i=0,1.., X-1; j=0,1,¡¬Y-1.\n",
    "#Example\n",
    "#Suppose the following inputs are given to the program:\n",
    "#3,5\n",
    "#Then, the output of the program should be:\n",
    "#[[0, 0, 0, 0, 0], [0, 1, 2, 3, 4], [0, 2, 4, 6, 8]] \n",
    "#Answer 2: code\n",
    "import array as arr\n",
    "def Array():\n",
    "    x=int(input('Enter the Number of Rows:'))\n",
    "    y=int(input('Enter the Number of Columns:')) \n",
    "    array = []\n",
    "    for i in range(x):\n",
    "        array.insert(x,[])\n",
    "        for j in range(y):\n",
    "            array[i].append(i*j)\n",
    "    print(array)\n",
    "Array()"
   ]
  },
  {
   "cell_type": "code",
   "execution_count": 4,
   "id": "9a154fc5",
   "metadata": {},
   "outputs": [
    {
     "name": "stdout",
     "output_type": "stream",
     "text": [
      "Enter the Input String: Hare,Krishna,Hare,Rama\n",
      "Output: Hare,Hare,Krishna,Rama\n"
     ]
    }
   ],
   "source": [
    "#Question 3:Write a program that accepts a comma separated sequence of words as input and prints the words in a comma-separated \n",
    "#sequence after sorting them alphabetically.\n",
    "#Suppose the following input is supplied to the program:\n",
    "#without,hello,bag,world\n",
    "#Then, the output should be:\n",
    "#bag,hello,without,world\n",
    "#Answer 3: code\n",
    "def AlphaSort():\n",
    "    s=input(\"Enter the Input String: \")\n",
    "    result=','.join(sorted(s.split(',')))\n",
    "    print(f'Output: {result}')\n",
    "AlphaSort()"
   ]
  },
  {
   "cell_type": "code",
   "execution_count": 5,
   "id": "fb190aaa",
   "metadata": {},
   "outputs": [
    {
     "name": "stdout",
     "output_type": "stream",
     "text": [
      "Enter the Input String: Hare Krishna Hare Rama\n",
      "Output: Hare Krishna Rama\n"
     ]
    }
   ],
   "source": [
    "#Question 4:Write a program that accepts a sequence of whitespace separated words as input and prints the words after removing \n",
    "#all duplicate words and sorting them alphanumerically.\n",
    "#Suppose the following input is supplied to the program:\n",
    "#hello world and practice makes perfect and hello world again\n",
    "#Then, the output should be:\n",
    "#again and hello makes perfect practice world\n",
    "#Answer 4: code:\n",
    "def AlphaNumericSort():\n",
    "    s=input(\"Enter the Input String: \")\n",
    "    result=' '.join(sorted(sorted(list(set(s.split(\" \"))))))\n",
    "    print(f'Output: {result}')\n",
    "AlphaNumericSort()"
   ]
  },
  {
   "cell_type": "code",
   "execution_count": 6,
   "id": "882fae46",
   "metadata": {},
   "outputs": [
    {
     "name": "stdout",
     "output_type": "stream",
     "text": [
      "Enter the Input String: Hare Krishna 1000000\n",
      "LETTERS 11\n",
      "DIGITS 7\n"
     ]
    }
   ],
   "source": [
    "#Question 5:Write a program that accepts a sentence and calculate the number of letters and digits.\n",
    "#Suppose the following input is supplied to the program:\n",
    "#hello world! 123\n",
    "#Then, the output should be:\n",
    "#LETTERS 10\n",
    "#DIGITS 3\n",
    "#Answer 5: code:\n",
    "def CountFunc():\n",
    "    s=input(\"Enter the Input String: \")\n",
    "    letters='ABCDEFGHIJKLMNOPQRSTUVWXYZabcdefghijklmnopqrstuvwxyz'\n",
    "    digits='0123456789'\n",
    "    letter=0\n",
    "    digit=0\n",
    "    for i in s:\n",
    "        if i in letters:\n",
    "            letter+=1\n",
    "        if i in digits:\n",
    "            digit+=1\n",
    "    print(f'LETTERS {letter}\\nDIGITS {digit}')\n",
    "CountFunc()"
   ]
  },
  {
   "cell_type": "code",
   "execution_count": 7,
   "id": "5805240d",
   "metadata": {},
   "outputs": [
    {
     "name": "stdout",
     "output_type": "stream",
     "text": [
      "Enter the Input String: 2015Imsst007,@Krishna\n",
      "@Krishna\n"
     ]
    }
   ],
   "source": [
    "#Question 6:A website requires the users to input username and password to register. \n",
    "#Write a program to check the validity of password input by users.\n",
    "#Following are the criteria for checking the password:\n",
    "#1. At least 1 letter between [a-z]\n",
    "#2. At least 1 number between [0-9]\n",
    "#1. At least 1 letter between [A-Z]\n",
    "#3. At least 1 character from [$#@]\n",
    "#4. Minimum length of transaction password: 6\n",
    "#5. Maximum length of transaction password: 12\n",
    "#Your program should accept a sequence of comma separated passwords and will check them according to the above criteria. \n",
    "#Passwords that match the criteria are to be printed, each separated by a comma.\n",
    "#Example\n",
    "#If the following passwords are given as input to the program:\n",
    "#ABd1234@1,a F1#,2w3E*,2We3345\n",
    "#Then, the output of the program should be:\n",
    "#ABd1234@1\n",
    "#Answer 6: code:\n",
    "def Password():\n",
    "    s=input(\"Enter the Input String: \")\n",
    "    small=\"abcdefghijklmnopqrstuvwxyz\"\n",
    "    capital=\"ABCDEFGHIJKLMNOPQRSTUVWXYZ\"\n",
    "    digit=\"0123456789\"\n",
    "    special=\"$#@\"\n",
    "    for i in s.split(\",\"):\n",
    "        if len(i)<=12 and len(i)>=6:\n",
    "            if any(j.isupper() for j in i):\n",
    "                if any(j.islower() for j in i):\n",
    "                    if any(j for j in i if j in special):\n",
    "                        print(i)\n",
    "Password()"
   ]
  }
 ],
 "metadata": {
  "kernelspec": {
   "display_name": "Python 3 (ipykernel)",
   "language": "python",
   "name": "python3"
  },
  "language_info": {
   "codemirror_mode": {
    "name": "ipython",
    "version": 3
   },
   "file_extension": ".py",
   "mimetype": "text/x-python",
   "name": "python",
   "nbconvert_exporter": "python",
   "pygments_lexer": "ipython3",
   "version": "3.9.7"
  }
 },
 "nbformat": 4,
 "nbformat_minor": 5
}
