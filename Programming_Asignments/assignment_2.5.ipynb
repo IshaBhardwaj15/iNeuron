{
 "cells": [
  {
   "cell_type": "code",
   "execution_count": 1,
   "id": "cbae610f",
   "metadata": {},
   "outputs": [
    {
     "name": "stdout",
     "output_type": "stream",
     "text": [
      "Find LCM of number1=3\n",
      "Find LCM of number2=4\n",
      "Find LCM of number2=6\n",
      "LCM of 3 , 4 and 6 is= 12\n"
     ]
    }
   ],
   "source": [
    "#Q1. Write a Python Program to Find LCM?\n",
    "#A1. code\n",
    "a=int(input(\"Find LCM of number1=\"))\n",
    "b=int(input(\"Find LCM of number2=\"))\n",
    "c=int(input(\"Find LCM of number2=\"))\n",
    "for i in range(1,a*(b+1)*(c+2)):\n",
    "    if i%a==0 and i%b==0 and i%c==0:\n",
    "        print(\"LCM of\",a,\",\",b,\"and\",c,\"is=\",i)\n",
    "        break"
   ]
  },
  {
   "cell_type": "code",
   "execution_count": 2,
   "id": "0537d598",
   "metadata": {},
   "outputs": [
    {
     "name": "stdout",
     "output_type": "stream",
     "text": [
      "Find HCF of number1=2\n",
      "Find HCF of number2=10\n",
      "Find HCF of number2=20\n",
      "HCF of 2 , 10 and 20 is= 2\n"
     ]
    }
   ],
   "source": [
    "#Q2. Write a Python Program to Find HCF?\n",
    "#A2. code\n",
    "a=int(input(\"Find HCF of number1=\"))\n",
    "b=int(input(\"Find HCF of number2=\"))\n",
    "c=int(input(\"Find HCF of number2=\"))\n",
    "if a<b and a<c:\n",
    "    i=a\n",
    "elif b<a and b<c:\n",
    "    i=b\n",
    "else:\n",
    "    i=c\n",
    "for j in range (1,i+1):\n",
    "    if j%a==0 and j%b==0 and j%c==0:\n",
    "        hcf=j\n",
    "print(\"HCF of\",a,\",\",b,\"and\",c,\"is=\",i)"
   ]
  },
  {
   "cell_type": "code",
   "execution_count": 3,
   "id": "e7667b44",
   "metadata": {},
   "outputs": [
    {
     "name": "stdout",
     "output_type": "stream",
     "text": [
      "Decimal number=10\n",
      "in Binary= 0b1010\n",
      "in Octal= 0o12\n",
      "in Hexadecimal= 0xa\n"
     ]
    }
   ],
   "source": [
    "#Q3. Write a Python Program to Convert Decimal to Binary, Octal and Hexadecimal?\n",
    "#A3. code\n",
    "a=int(input(\"Decimal number=\"))\n",
    "b=bin(a)\n",
    "print(\"in Binary=\",b)\n",
    "c=oct(a)\n",
    "print(\"in Octal=\",c)\n",
    "d=hex(a)\n",
    "print(\"in Hexadecimal=\",d)"
   ]
  },
  {
   "cell_type": "code",
   "execution_count": 4,
   "id": "d797e3a8",
   "metadata": {},
   "outputs": [
    {
     "name": "stdout",
     "output_type": "stream",
     "text": [
      "Enter Character=9\n",
      "in ASCII 57\n"
     ]
    }
   ],
   "source": [
    "#Q4. Write a Python Program To Find ASCII value of a character?\n",
    "#A4. code\n",
    "a=input(\"Enter Character=\")\n",
    "ASCII=ord(a)\n",
    "print(\"in ASCII\",ASCII)"
   ]
  },
  {
   "cell_type": "code",
   "execution_count": 5,
   "id": "0136b36f",
   "metadata": {},
   "outputs": [
    {
     "name": "stdout",
     "output_type": "stream",
     "text": [
      "Number1=2\n",
      "Number2=3\n",
      "for addition type:a for subtraction type:s for multiplication type:m for division type:d for power type:p\n",
      "Operation to Perform:p\n",
      "8\n"
     ]
    }
   ],
   "source": [
    "#Q5. Write a Python Program to Make a Simple Calculator with 4 basic mathematical operations?\n",
    "#A5. code\n",
    "a=int(input(\"Number1=\"))\n",
    "b=int(input(\"Number2=\"))\n",
    "def addition(a,b):\n",
    "    return a+b\n",
    "def subtraction(a,b):\n",
    "    return a-b\n",
    "def multiplication(a,b):\n",
    "    return a*b\n",
    "def division(a,b):\n",
    "    return a/b\n",
    "def power(a,b):\n",
    "    return a**b\n",
    "print(\"for addition type:a\",\"for subtraction type:s\",\"for multiplication type:m\",\"for division type:d\",\"for power type:p\")\n",
    "i=input(\"Operation to Perform:\")\n",
    "if i==\"a\":\n",
    "    print(addition(a,b))\n",
    "if i==\"s\":\n",
    "    print(subtraction(a,b))\n",
    "if i==\"m\":\n",
    "    print(multiplication(a,b))\n",
    "if i==\"d\":\n",
    "    print(division(a,b))\n",
    "if i==\"p\":\n",
    "    print(power(a,b))"
   ]
  }
 ],
 "metadata": {
  "kernelspec": {
   "display_name": "Python 3 (ipykernel)",
   "language": "python",
   "name": "python3"
  },
  "language_info": {
   "codemirror_mode": {
    "name": "ipython",
    "version": 3
   },
   "file_extension": ".py",
   "mimetype": "text/x-python",
   "name": "python",
   "nbconvert_exporter": "python",
   "pygments_lexer": "ipython3",
   "version": "3.9.7"
  }
 },
 "nbformat": 4,
 "nbformat_minor": 5
}
