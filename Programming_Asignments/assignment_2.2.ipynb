{
 "cells": [
  {
   "cell_type": "code",
   "execution_count": 1,
   "id": "e9bd5f2a",
   "metadata": {},
   "outputs": [
    {
     "name": "stdout",
     "output_type": "stream",
     "text": [
      "KM=2\n",
      "2 Kilometers= 1.24274238 Miles\n"
     ]
    }
   ],
   "source": [
    "#Q1. Write a Python program to convert kilometers to miles?\n",
    "#A1. code\n",
    "KM=int(input(\"KM=\"))\n",
    "#1 kilometer = 0.62137119 miles\n",
    "Miles=KM*0.62137119\n",
    "print(KM,\"Kilometers=\",Miles,\"Miles\")"
   ]
  },
  {
   "cell_type": "code",
   "execution_count": 2,
   "id": "3ccfbf02",
   "metadata": {},
   "outputs": [
    {
     "name": "stdout",
     "output_type": "stream",
     "text": [
      "Celsius=34.6\n",
      "34.6 Celsius= 94.28 Fahrenheit\n"
     ]
    }
   ],
   "source": [
    "#Q2. Write a Python program to convert Celsius to Fahrenheit?\n",
    "#A2. code\n",
    "Celsius=float(input(\"Celsius=\"))\n",
    "#(0°C × 9/5) + 32 = 32°F\n",
    "Fahrenheit=(Celsius*9/5)+32\n",
    "print(Celsius,\"Celsius=\",Fahrenheit,\"Fahrenheit\")"
   ]
  },
  {
   "cell_type": "code",
   "execution_count": 3,
   "id": "6ed04d0f",
   "metadata": {},
   "outputs": [
    {
     "name": "stdout",
     "output_type": "stream",
     "text": [
      "Year=2022\n",
      "Month=07\n",
      "     July 2022\n",
      "Mo Tu We Th Fr Sa Su\n",
      "             1  2  3\n",
      " 4  5  6  7  8  9 10\n",
      "11 12 13 14 15 16 17\n",
      "18 19 20 21 22 23 24\n",
      "25 26 27 28 29 30 31\n",
      "\n"
     ]
    }
   ],
   "source": [
    "#Q3. Write a Python program to display calendar?\n",
    "#A3. code\n",
    "import calendar  \n",
    "Year=int(input(\"Year=\"))  \n",
    "Month=int(input(\"Month=\"))  \n",
    "print(calendar.month(Year,Month))"
   ]
  },
  {
   "cell_type": "code",
   "execution_count": 4,
   "id": "590dc2d7",
   "metadata": {},
   "outputs": [
    {
     "name": "stdout",
     "output_type": "stream",
     "text": [
      "a=6\n",
      "b=-17\n",
      "c=12\n"
     ]
    },
    {
     "data": {
      "text/plain": [
       "((1.5+0j), (1.3333333333333333+0j))"
      ]
     },
     "execution_count": 4,
     "metadata": {},
     "output_type": "execute_result"
    }
   ],
   "source": [
    "#Q4. Write a Python program to solve quadratic equation?\n",
    "#A4. code\n",
    "import cmath\n",
    "a=int(input(\"a=\"))\n",
    "b=int(input(\"b=\"))\n",
    "c=int(input(\"c=\"))\n",
    "d=(b**2)-(4*a*c)\n",
    "x=(-b+cmath.sqrt(d))/(2*a)\n",
    "y=(-b-cmath.sqrt(d))/(2*a)\n",
    "x,y"
   ]
  },
  {
   "cell_type": "code",
   "execution_count": 5,
   "id": "3826a2ad",
   "metadata": {},
   "outputs": [
    {
     "name": "stdout",
     "output_type": "stream",
     "text": [
      "x= 3 y= 2\n"
     ]
    }
   ],
   "source": [
    "#Q5. Write a Python program to swap two variables without temp variable?\n",
    "#A5. code\n",
    "x=2\n",
    "y=3\n",
    "print(\"x=\",y,\"y=\",x)"
   ]
  }
 ],
 "metadata": {
  "kernelspec": {
   "display_name": "Python 3 (ipykernel)",
   "language": "python",
   "name": "python3"
  },
  "language_info": {
   "codemirror_mode": {
    "name": "ipython",
    "version": 3
   },
   "file_extension": ".py",
   "mimetype": "text/x-python",
   "name": "python",
   "nbconvert_exporter": "python",
   "pygments_lexer": "ipython3",
   "version": "3.9.7"
  }
 },
 "nbformat": 4,
 "nbformat_minor": 5
}
