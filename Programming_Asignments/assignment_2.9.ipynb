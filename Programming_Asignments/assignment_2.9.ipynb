{
 "cells": [
  {
   "cell_type": "code",
   "execution_count": 1,
   "id": "f2e3887f",
   "metadata": {},
   "outputs": [
    {
     "name": "stdout",
     "output_type": "stream",
     "text": [
      "Enter a Number:135\n",
      "Disarium Number\n"
     ]
    }
   ],
   "source": [
    "#Q1. Write a Python program to check if the given number is a Disarium Number?\n",
    "#A1. code\n",
    "def disarium(a=int(input(\"Enter a Number:\"))):\n",
    "    sum=0\n",
    "    digit=0\n",
    "    b=len(str(a))\n",
    "    c=a\n",
    "    for i in range(b,0,-1):\n",
    "        digit=a%10\n",
    "        sum=sum+digit**i\n",
    "        a=a//10\n",
    "    if sum==c:\n",
    "        print(\"Disarium Number\")\n",
    "    else:\n",
    "        print(\"Not a Disarium Number\")\n",
    "disarium()"
   ]
  },
  {
   "cell_type": "code",
   "execution_count": 2,
   "id": "cf37e10b",
   "metadata": {},
   "outputs": [
    {
     "name": "stdout",
     "output_type": "stream",
     "text": [
      "1\n",
      "2\n",
      "3\n",
      "4\n",
      "5\n",
      "6\n",
      "7\n",
      "8\n",
      "9\n",
      "89\n"
     ]
    }
   ],
   "source": [
    "#Q2. Write a Python program to print all disarium numbers between 1 to 100?\n",
    "#A2. code\n",
    "for a in range(1,101):\n",
    "    sum=0\n",
    "    digit=0\n",
    "    b=len(str(a))\n",
    "    c=a\n",
    "    for i in range(b,0,-1):\n",
    "        digit=a%10\n",
    "        sum=sum+digit**i\n",
    "        a=a//10\n",
    "    if sum==c:\n",
    "        print(c)"
   ]
  },
  {
   "cell_type": "code",
   "execution_count": 3,
   "id": "947906e2",
   "metadata": {},
   "outputs": [
    {
     "name": "stdout",
     "output_type": "stream",
     "text": [
      "Enter the number:13\n",
      "Happy Number\n"
     ]
    }
   ],
   "source": [
    "#Q3. Write a Python program to check if the given number is Happy Number?\n",
    "#A3. code\n",
    "def sumofdigit(a):\n",
    "    digit=0\n",
    "    sum=0\n",
    "    while a>0:\n",
    "        digit=a%10\n",
    "        sum=sum+digit*digit\n",
    "        a=a//10\n",
    "    return sum\n",
    "a=int(input(\"Enter the number:\"))\n",
    "sum=a\n",
    "while sum!=1 and sum!=4:\n",
    "    sum=sumofdigit(sum)\n",
    "if sum==1:\n",
    "    print(\"Happy Number\")\n",
    "else:\n",
    "    print(\"Not a Happy Number\")"
   ]
  },
  {
   "cell_type": "code",
   "execution_count": 4,
   "id": "3aa91bbc",
   "metadata": {},
   "outputs": [
    {
     "name": "stdout",
     "output_type": "stream",
     "text": [
      "1\n",
      "7\n",
      "10\n",
      "13\n",
      "19\n",
      "23\n",
      "28\n",
      "31\n",
      "32\n",
      "44\n",
      "49\n",
      "68\n",
      "70\n",
      "79\n",
      "82\n",
      "86\n",
      "91\n",
      "94\n",
      "97\n",
      "100\n"
     ]
    }
   ],
   "source": [
    "#Q4. Write a Python program to print all happy numbers between 1 and 100?\n",
    "#A4. code\n",
    "def sumofdigit(a):\n",
    "    digit=0\n",
    "    sum=0\n",
    "    while a>0:\n",
    "        digit=a%10\n",
    "        sum=sum+digit*digit\n",
    "        a=a//10\n",
    "    return sum\n",
    "for a in range(1,101):\n",
    "    sum=a\n",
    "    while sum!=1 and sum!=4:\n",
    "        sum=sumofdigit(sum)\n",
    "    if sum==1:\n",
    "        print(a)"
   ]
  },
  {
   "cell_type": "code",
   "execution_count": 5,
   "id": "acb7cf5a",
   "metadata": {},
   "outputs": [
    {
     "name": "stdout",
     "output_type": "stream",
     "text": [
      "Enter the number:12\n",
      "Harshad number\n"
     ]
    }
   ],
   "source": [
    "#Q5. Write a Python program to determine whether the given number is a Harshad Number?\n",
    "#A5. code\n",
    "a=int(input(\"Enter the number:\"))\n",
    "b=a\n",
    "sum=0\n",
    "digit=0\n",
    "while a>0:\n",
    "    digit=a%10\n",
    "    sum=sum+digit\n",
    "    a=a//10\n",
    "if b%sum==0:\n",
    "    print(\"Harshad number\")\n",
    "else:\n",
    "    print(\"Not a Harshad number\")"
   ]
  },
  {
   "cell_type": "code",
   "execution_count": 6,
   "id": "c1e6ae6a",
   "metadata": {},
   "outputs": [
    {
     "name": "stdout",
     "output_type": "stream",
     "text": [
      "2\n",
      "6\n",
      "12\n",
      "20\n",
      "30\n",
      "42\n",
      "56\n",
      "72\n",
      "90\n"
     ]
    }
   ],
   "source": [
    "#Q6. Write a Python program to print all pronic numbers between 1 and 100?\n",
    "#A6. code\n",
    "def PronicNumber(a):    \n",
    "    b=False;    \n",
    "    for j in range(1,a+1):    \n",
    "        if((j*(j+1))==a):    \n",
    "            b=True;    \n",
    "            break    \n",
    "    return b \n",
    "for i in range(1, 101):\n",
    "    if(PronicNumber(i)):    \n",
    "        print(i)   "
   ]
  }
 ],
 "metadata": {
  "kernelspec": {
   "display_name": "Python 3 (ipykernel)",
   "language": "python",
   "name": "python3"
  },
  "language_info": {
   "codemirror_mode": {
    "name": "ipython",
    "version": 3
   },
   "file_extension": ".py",
   "mimetype": "text/x-python",
   "name": "python",
   "nbconvert_exporter": "python",
   "pygments_lexer": "ipython3",
   "version": "3.9.7"
  }
 },
 "nbformat": 4,
 "nbformat_minor": 5
}
