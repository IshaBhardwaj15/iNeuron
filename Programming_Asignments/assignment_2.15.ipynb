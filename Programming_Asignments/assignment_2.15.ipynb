{
 "cells": [
  {
   "cell_type": "code",
   "execution_count": 1,
   "id": "754feb8b",
   "metadata": {},
   "outputs": [
    {
     "name": "stdout",
     "output_type": "stream",
     "text": [
      "0,35,70,"
     ]
    }
   ],
   "source": [
    "#Question 1: Please write a program using generator to print the numbers which can be divisible by 5 and 7 between 0 and n in \n",
    "#comma separated form while n is input by console.\n",
    "#Example:\n",
    "#If the following n is given as input to the program:\n",
    "#100\n",
    "#Then, the output of the program should be:\n",
    "#0,35,70\n",
    "#Answer 1: code:\n",
    "def Divisible(n):\n",
    "    for i in range(0,n):\n",
    "        if (i%5==0) and (i%7==0):\n",
    "            yield i\n",
    "for i in Divisible(100):\n",
    "    print(i,end=',')"
   ]
  },
  {
   "cell_type": "code",
   "execution_count": 2,
   "id": "c1d2453c",
   "metadata": {},
   "outputs": [
    {
     "name": "stdout",
     "output_type": "stream",
     "text": [
      "0,2,4,6,8,10,"
     ]
    }
   ],
   "source": [
    "#Question 2: Please write a program using generator to print the even numbers between 0 and n in comma separated form while n \n",
    "#is input by console.\n",
    "#Example:\n",
    "#If the following n is given as input to the program:\n",
    "#10\n",
    "#Then, the output of the program should be:\n",
    "#0,2,4,6,8,10\n",
    "#Answer 2: code:\n",
    "def EvenNumbers(n):\n",
    "    for i in range(n+1):\n",
    "        if i%2==0:\n",
    "            yield i\n",
    "for i in EvenNumbers(10):\n",
    "    print(i,end=',')"
   ]
  },
  {
   "cell_type": "code",
   "execution_count": 3,
   "id": "9ffb3d55",
   "metadata": {},
   "outputs": [
    {
     "name": "stdout",
     "output_type": "stream",
     "text": [
      "[0, 1, 1, 2, 3, 5, 8, 13, 21, 34]\n"
     ]
    }
   ],
   "source": [
    "#Question 3: The Fibonacci Sequence is computed based on the following formula:\n",
    "#f(n)=0 if n=0\n",
    "#f(n)=1 if n=1\n",
    "#f(n)=f(n-1)+f(n-2) if n>1\n",
    "#Please write a program using list comprehension to print the Fibonacci Sequence in comma separated form with a given n input \n",
    "#by console.\n",
    "#Example:\n",
    "#If the following n is given as input to the program:\n",
    "#7\n",
    "#Then, the output of the program should be:\n",
    "#0,1,1,2,3,5,8,13\n",
    "#Answer 3: code:\n",
    "def genFibonacci(n):\n",
    "    if n==0:\n",
    "        return 0\n",
    "    elif n==1:\n",
    "        return 1\n",
    "    else:\n",
    "        return genFibonacci(n-1)+genFibonacci(n-2)\n",
    "print([genFibonacci(i) for i in range(10)])"
   ]
  },
  {
   "cell_type": "code",
   "execution_count": 4,
   "id": "ff88d9e7",
   "metadata": {},
   "outputs": [
    {
     "name": "stdout",
     "output_type": "stream",
     "text": [
      "Enter Email Address: bhardwajisha0@gmail.com\n",
      "Username of bhardwajisha0@gmail.com is bhardwajisha0\n",
      "Enter Email Address: 2015Imsst007@curaj.ac.in\n",
      "Username of 2015Imsst007@curaj.ac.in is 2015Imsst007\n",
      "Enter Email Address: PS4Z@eurofins.com\n",
      "Username of PS4Z@eurofins.com is PS4Z\n"
     ]
    }
   ],
   "source": [
    "#Question 4: Assuming that we have some email addresses in the \"username@companyname.com\" format, please write program to print \n",
    "#the user name of a given email address. Both user names and company names are composed of letters only.\n",
    "#Example:\n",
    "#If the following email address is given as input to the program:\n",
    "#john@google.com\n",
    "#Then, the output of the program should be:\n",
    "#john\n",
    "#Answer 4: code:\n",
    "def Usernames():\n",
    "    s=input('Enter Email Address: ')\n",
    "    result=s.split('@')\n",
    "    print(f'Username of {s} is {result[0]}')\n",
    "for i in range(3):\n",
    "    Usernames()"
   ]
  },
  {
   "cell_type": "code",
   "execution_count": 5,
   "id": "697094fe",
   "metadata": {},
   "outputs": [
    {
     "name": "stdout",
     "output_type": "stream",
     "text": [
      "2500\n"
     ]
    }
   ],
   "source": [
    "#Question 5: Define a class named Shape and its subclass Square. The Square class has an init function which takes a length as \n",
    "#argument. Both classes have a area function which can print the area of the shape where Shape's area is 0 by default.\n",
    "#Answer 5. code:\n",
    "class Shape:\n",
    "    def area(self):\n",
    "        return 0\n",
    "class Square(Shape):\n",
    "    def __init__(self, length):\n",
    "        self.length = length\n",
    "    def area(self):\n",
    "        return self.length*self.length\n",
    "square = Square(50)\n",
    "print(square.area())"
   ]
  }
 ],
 "metadata": {
  "kernelspec": {
   "display_name": "Python 3 (ipykernel)",
   "language": "python",
   "name": "python3"
  },
  "language_info": {
   "codemirror_mode": {
    "name": "ipython",
    "version": 3
   },
   "file_extension": ".py",
   "mimetype": "text/x-python",
   "name": "python",
   "nbconvert_exporter": "python",
   "pygments_lexer": "ipython3",
   "version": "3.9.7"
  }
 },
 "nbformat": 4,
 "nbformat_minor": 5
}
