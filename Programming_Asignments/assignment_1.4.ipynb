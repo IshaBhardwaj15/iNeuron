{
 "cells": [
  {
   "cell_type": "code",
   "execution_count": 1,
   "id": "f680c36b",
   "metadata": {},
   "outputs": [],
   "source": [
    "#Q1. What exactly is []?\n",
    "#A1. is is used to initalize an empty list"
   ]
  },
  {
   "cell_type": "code",
   "execution_count": 3,
   "id": "9af8f4e0",
   "metadata": {},
   "outputs": [
    {
     "data": {
      "text/plain": [
       "[2, 4, 'Hello', 8, 10]"
      ]
     },
     "execution_count": 3,
     "metadata": {},
     "output_type": "execute_result"
    }
   ],
   "source": [
    "#Q2. In a list of values stored in a variable called spam, how would you assign the value 'hello' as the third value?\n",
    "#(Assume [2, 4, 6, 8, 10] are in spam.)\n",
    "#A2. Code:\n",
    "spam=[2,4,6,8,10]\n",
    "spam[2]=\"Hello\"\n",
    "spam"
   ]
  },
  {
   "cell_type": "code",
   "execution_count": 4,
   "id": "82d7f9a0",
   "metadata": {},
   "outputs": [
    {
     "data": {
      "text/plain": [
       "'d'"
      ]
     },
     "execution_count": 4,
     "metadata": {},
     "output_type": "execute_result"
    }
   ],
   "source": [
    "#Q3. Let's pretend the spam includes the list ['a', 'b', 'c', 'd'] for the next three queries.\n",
    "#What is the value of spam[int(int('3' * 2) / 11)]?\n",
    "#A3. code\n",
    "spam=['a','b','c','d']\n",
    "spam[int(int('3' * 2) / 11)]"
   ]
  },
  {
   "cell_type": "code",
   "execution_count": 6,
   "id": "d7ebfa4c",
   "metadata": {},
   "outputs": [
    {
     "data": {
      "text/plain": [
       "'d'"
      ]
     },
     "execution_count": 6,
     "metadata": {},
     "output_type": "execute_result"
    }
   ],
   "source": [
    "#Q4.  What is the value of spam[-1]?\n",
    "#A4. code\n",
    "spam[-1]"
   ]
  },
  {
   "cell_type": "code",
   "execution_count": 7,
   "id": "0a0263d4",
   "metadata": {},
   "outputs": [
    {
     "data": {
      "text/plain": [
       "['a', 'b']"
      ]
     },
     "execution_count": 7,
     "metadata": {},
     "output_type": "execute_result"
    }
   ],
   "source": [
    "#Q5. What is the value of spam[:2]?\n",
    "#A5. code\n",
    "spam[:2]"
   ]
  },
  {
   "cell_type": "code",
   "execution_count": 8,
   "id": "e5bd7e16",
   "metadata": {},
   "outputs": [
    {
     "ename": "SyntaxError",
     "evalue": "invalid syntax (Temp/ipykernel_4400/928146572.py, line 3)",
     "output_type": "error",
     "traceback": [
      "\u001b[1;36m  File \u001b[1;32m\"C:\\Users\\ps4z\\AppData\\Local\\Temp/ipykernel_4400/928146572.py\"\u001b[1;36m, line \u001b[1;32m3\u001b[0m\n\u001b[1;33m    bacon=[3.14, 'cat,' 11, 'cat,' True]\u001b[0m\n\u001b[1;37m                        ^\u001b[0m\n\u001b[1;31mSyntaxError\u001b[0m\u001b[1;31m:\u001b[0m invalid syntax\n"
     ]
    }
   ],
   "source": [
    "#Q6. Let's pretend bacon has the list [3.14, 'cat,' 11, 'cat,' True] for the next three questions.\n",
    "#What is the value of bacon.index('cat')?\n",
    "#A6. code\n",
    "bacon=[3.14, 'cat,' 11, 'cat,' True]\n",
    "bacon.index('cat')"
   ]
  },
  {
   "cell_type": "code",
   "execution_count": 16,
   "id": "0baca90e",
   "metadata": {},
   "outputs": [
    {
     "data": {
      "text/plain": [
       "1"
      ]
     },
     "execution_count": 16,
     "metadata": {},
     "output_type": "execute_result"
    }
   ],
   "source": [
    "#*if not for the illplaced commas in the above question, the result would be as follows:\n",
    "bacon=[3.14, 'cat', 11, 'cat', True]\n",
    "bacon.index('cat')"
   ]
  },
  {
   "cell_type": "code",
   "execution_count": 22,
   "id": "a57ffc77",
   "metadata": {},
   "outputs": [
    {
     "data": {
      "text/plain": [
       "[3.14, 'cat', 11, 'cat', True, 99]"
      ]
     },
     "execution_count": 22,
     "metadata": {},
     "output_type": "execute_result"
    }
   ],
   "source": [
    "#Q7. How does bacon.append(99) change the look of the list value in bacon?\n",
    "#A7. code\n",
    "bacon=[3.14, 'cat', 11, 'cat', True]\n",
    "bacon.append(99)\n",
    "bacon"
   ]
  },
  {
   "cell_type": "code",
   "execution_count": 23,
   "id": "f3649901",
   "metadata": {},
   "outputs": [
    {
     "data": {
      "text/plain": [
       "[3.14, 11, 'cat', True]"
      ]
     },
     "execution_count": 23,
     "metadata": {},
     "output_type": "execute_result"
    }
   ],
   "source": [
    "#Q8. How does bacon.remove('cat') change the look of the list in bacon?\n",
    "#A8. code\n",
    "bacon=[3.14, 'cat', 11, 'cat', True]\n",
    "bacon.remove('cat')\n",
    "bacon"
   ]
  },
  {
   "cell_type": "code",
   "execution_count": 24,
   "id": "c8d0d8ea",
   "metadata": {},
   "outputs": [],
   "source": [
    "#Q9. What are the list concatenation and list replication operators?\n",
    "#A9. concatenation operator is \"+\" and replication operator is \"*\""
   ]
  },
  {
   "cell_type": "code",
   "execution_count": 25,
   "id": "6e9a58e1",
   "metadata": {},
   "outputs": [],
   "source": [
    "#Q10. What is difference between the list methods append() and insert()?\n",
    "#A10. insert() method can add inpusts anywhere in the list whereas the append() operator can oly add inputs at the end of list."
   ]
  },
  {
   "cell_type": "code",
   "execution_count": 26,
   "id": "618201a9",
   "metadata": {},
   "outputs": [],
   "source": [
    "#Q11. What are the two methods for removing items from a list?\n",
    "#A11. list.remove() and lis.pop()"
   ]
  },
  {
   "cell_type": "code",
   "execution_count": 27,
   "id": "655a75d1",
   "metadata": {},
   "outputs": [],
   "source": [
    "#Q12. Describe how list values and string values are identical.\n",
    "#A12. 1. can perform concatenation for both\n",
    "#2. can perform loops in both\n",
    "#3. can perform slicing in both\n",
    "#4. both have indices"
   ]
  },
  {
   "cell_type": "code",
   "execution_count": 28,
   "id": "6942059f",
   "metadata": {},
   "outputs": [],
   "source": [
    "#Q13. What's the difference between tuples and lists?\n",
    "#A13. List is a mutable entity while tuple is immutable."
   ]
  },
  {
   "cell_type": "code",
   "execution_count": 29,
   "id": "e782c82a",
   "metadata": {},
   "outputs": [
    {
     "data": {
      "text/plain": [
       "42"
      ]
     },
     "execution_count": 29,
     "metadata": {},
     "output_type": "execute_result"
    }
   ],
   "source": [
    "#Q14. How do you type a tuple value that only contains the integer 42?\n",
    "#A14. code\n",
    "t=(42)\n",
    "t"
   ]
  },
  {
   "cell_type": "code",
   "execution_count": 30,
   "id": "39848076",
   "metadata": {},
   "outputs": [],
   "source": [
    "#Q15. How do you get a list value's tuple form? How do you get a tuple value's list form?\n",
    "#A15.list=[tuple]\n",
    "#tuple=(list)"
   ]
  },
  {
   "cell_type": "code",
   "execution_count": 31,
   "id": "60b18783",
   "metadata": {},
   "outputs": [],
   "source": [
    "#Q16. Variables that \"contain\" list values are not necessarily lists themselves. Instead, what do they contain?\n",
    "#A16. Variables will contain references to list values rather than list values themselves.\n",
    "#But for strings and integer values, variables simply contain the string or integer value."
   ]
  },
  {
   "cell_type": "code",
   "execution_count": 32,
   "id": "a7d4b56f",
   "metadata": {},
   "outputs": [],
   "source": [
    "#Q17. How do you distinguish between copy.copy() and copy.deepcopy()?\n",
    "#A17. A shallow copy constructs a new compound object and then (to the extent possible) \n",
    "#inserts references into it to the objects found in the original. \n",
    "#A deep copy constructs a new compound object and then, recursively, \n",
    "#inserts copies into it of the objects found in the original."
   ]
  }
 ],
 "metadata": {
  "kernelspec": {
   "display_name": "Python 3 (ipykernel)",
   "language": "python",
   "name": "python3"
  },
  "language_info": {
   "codemirror_mode": {
    "name": "ipython",
    "version": 3
   },
   "file_extension": ".py",
   "mimetype": "text/x-python",
   "name": "python",
   "nbconvert_exporter": "python",
   "pygments_lexer": "ipython3",
   "version": "3.9.7"
  }
 },
 "nbformat": 4,
 "nbformat_minor": 5
}
