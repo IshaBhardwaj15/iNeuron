{
 "cells": [
  {
   "cell_type": "markdown",
   "id": "93843895",
   "metadata": {},
   "source": [
    "Q1. In the below elements which of them are values or an expression?\n",
    "eg:- values can be integer or string and expressions will be mathematical operators.\n",
    "*=expression\n",
    " \n",
    "'hello'=value\n",
    " \n",
    "-87.8=value \n",
    " \n",
    "-=expression\n",
    " \n",
    "/=expression\n",
    " \n",
    "+=expression\n",
    " \n",
    "6 = value"
   ]
  },
  {
   "cell_type": "markdown",
   "id": "9dfb695c",
   "metadata": {},
   "source": [
    "Q2. What is the difference between string and variable?\n",
    "\n",
    "String:- strings are text values comprising of alphabets.\n",
    "\n",
    "Variable:- alphanumeric characters that are used to store a value, srting, or any other memory grabing function.\n",
    "\n",
    "Main difference between them is Variable can hold strings but String can't hold a Variable. "
   ]
  },
  {
   "cell_type": "markdown",
   "id": "7dff874e",
   "metadata": {},
   "source": [
    "Q3. Describe three different data types.\n",
    "\n",
    "Integer\n",
    "\n",
    "Float\n",
    "\n",
    "String"
   ]
  },
  {
   "cell_type": "markdown",
   "id": "13f5cf3c",
   "metadata": {},
   "source": [
    "Q4. What is an expression made up of? What do all expressions do?\n",
    "\n",
    "Expression is a combination of variables, operations and values that ultimately yields a result."
   ]
  },
  {
   "cell_type": "markdown",
   "id": "99b9ddb0",
   "metadata": {},
   "source": [
    "Q5. This assignment statements, like spam = 10. What is the difference between an expression and a statement?\n",
    "\n",
    "An expression can be assigned to any variable(e.g a,b,c) \n",
    "\n",
    "while statement can't be assigned to any such variables"
   ]
  },
  {
   "cell_type": "markdown",
   "id": "d16b4948",
   "metadata": {},
   "source": [
    "Q6. After running the following code, what does the variable bacon contain?"
   ]
  },
  {
   "cell_type": "code",
   "execution_count": 3,
   "id": "315e5db9",
   "metadata": {},
   "outputs": [
    {
     "data": {
      "text/plain": [
       "23"
      ]
     },
     "execution_count": 3,
     "metadata": {},
     "output_type": "execute_result"
    }
   ],
   "source": [
    "bacon = 22\n",
    "bacon + 1"
   ]
  },
  {
   "cell_type": "markdown",
   "id": "c3f399ca",
   "metadata": {},
   "source": [
    "Q7. What should the values of the following two terms be?"
   ]
  },
  {
   "cell_type": "code",
   "execution_count": 4,
   "id": "9f550200",
   "metadata": {},
   "outputs": [
    {
     "data": {
      "text/plain": [
       "'spamspamspam'"
      ]
     },
     "execution_count": 4,
     "metadata": {},
     "output_type": "execute_result"
    }
   ],
   "source": [
    "'spam' + 'spamspam'"
   ]
  },
  {
   "cell_type": "code",
   "execution_count": 5,
   "id": "58935044",
   "metadata": {},
   "outputs": [
    {
     "data": {
      "text/plain": [
       "'spamspamspam'"
      ]
     },
     "execution_count": 5,
     "metadata": {},
     "output_type": "execute_result"
    }
   ],
   "source": [
    "'spam' * 3"
   ]
  },
  {
   "cell_type": "markdown",
   "id": "44388a9f",
   "metadata": {},
   "source": [
    "Q8. Why is eggs a valid variable name while 100 is invalid?\n",
    "\n",
    "this is so because 100 is an integer value and hence it cannot be used to store any other element be it string or another\n",
    "interger, instead we can use any string such as eggs in this case to assign either a string or integer, or we can also use\n",
    "alphanumeric charcters as a variable to store data like eggs1, eggs13, etc"
   ]
  },
  {
   "cell_type": "markdown",
   "id": "ac71093f",
   "metadata": {},
   "source": [
    "Q9. What three functions can be used to get the integer, floating-point number, or string version of a value?\n",
    "\n",
    "int()\n",
    "float()\n",
    "str()"
   ]
  },
  {
   "cell_type": "markdown",
   "id": "10010cbd",
   "metadata": {},
   "source": [
    "Q10. Why does this expression cause an error? How can you fix it?"
   ]
  },
  {
   "cell_type": "code",
   "execution_count": 6,
   "id": "8684c28a",
   "metadata": {},
   "outputs": [
    {
     "ename": "TypeError",
     "evalue": "can only concatenate str (not \"int\") to str",
     "output_type": "error",
     "traceback": [
      "\u001b[1;31m---------------------------------------------------------------------------\u001b[0m",
      "\u001b[1;31mTypeError\u001b[0m                                 Traceback (most recent call last)",
      "\u001b[1;32m~\\AppData\\Local\\Temp/ipykernel_9880/1774935878.py\u001b[0m in \u001b[0;36m<module>\u001b[1;34m\u001b[0m\n\u001b[1;32m----> 1\u001b[1;33m \u001b[1;34m'I have eaten '\u001b[0m \u001b[1;33m+\u001b[0m \u001b[1;36m99\u001b[0m \u001b[1;33m+\u001b[0m \u001b[1;34m' burritos.'\u001b[0m\u001b[1;33m\u001b[0m\u001b[1;33m\u001b[0m\u001b[0m\n\u001b[0m",
      "\u001b[1;31mTypeError\u001b[0m: can only concatenate str (not \"int\") to str"
     ]
    }
   ],
   "source": [
    "'I have eaten ' + 99 + ' burritos.'"
   ]
  },
  {
   "cell_type": "code",
   "execution_count": 7,
   "id": "30fc0af3",
   "metadata": {},
   "outputs": [
    {
     "data": {
      "text/plain": [
       "'I have eaten 99 burritos.'"
      ]
     },
     "execution_count": 7,
     "metadata": {},
     "output_type": "execute_result"
    }
   ],
   "source": [
    "#can only concatenate str (not \"int\") to str\n",
    "#can fix it by concatenating 99 into string\n",
    "'I have eaten ' +'99'+ ' burritos.'"
   ]
  }
 ],
 "metadata": {
  "kernelspec": {
   "display_name": "Python 3 (ipykernel)",
   "language": "python",
   "name": "python3"
  },
  "language_info": {
   "codemirror_mode": {
    "name": "ipython",
    "version": 3
   },
   "file_extension": ".py",
   "mimetype": "text/x-python",
   "name": "python",
   "nbconvert_exporter": "python",
   "pygments_lexer": "ipython3",
   "version": "3.9.7"
  }
 },
 "nbformat": 4,
 "nbformat_minor": 5
}
