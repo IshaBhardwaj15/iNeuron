{
 "cells": [
  {
   "cell_type": "code",
   "execution_count": 1,
   "id": "54cd61a5",
   "metadata": {},
   "outputs": [],
   "source": [
    "#Q1. How do you distinguish between shutil.copy() and shutil.copytree()?\n",
    "#A1. shutil.copy() method is used to copy the contents of a file from one file to another file/folder, \n",
    "#it primary takes two arguments src and dest.'src' represents the file to be copied, whereas destination refers to \n",
    "#the file/folder to where the src data should be copied, if 'dest' is a folder name the src with exact name will be copied \n",
    "#to the dest folder, if its a file then the contents of src will be copied to dest where dest retains it name.\n",
    "#shutil.copytree() function is used to copy the entire contents of a folder to other folder. \n",
    "#it also takes two arguments src & dest, it copies all the content recursively and stores it in dest. \n",
    "#the important catch here is dest must not exist prior to this and it will be created during the copy operation."
   ]
  },
  {
   "cell_type": "code",
   "execution_count": 2,
   "id": "becd8a16",
   "metadata": {},
   "outputs": [],
   "source": [
    "#Q2. What function is used to rename files?\n",
    "#A2. os.rename() function is used to rename files or directories\n",
    "#this function takes two arguments src and dest.'src' represents the name file/directory which we want to rename,\n",
    "#whereas 'dest' represents the new name of the file/directory."
   ]
  },
  {
   "cell_type": "code",
   "execution_count": 3,
   "id": "760f8b66",
   "metadata": {},
   "outputs": [],
   "source": [
    "#Q3. What is the difference between the delete functions in the send2trash and shutil modules?\n",
    "#A3.The send2trash will move a file or folder to the recycle bin, while shutil function will permanently delete it."
   ]
  },
  {
   "cell_type": "code",
   "execution_count": 4,
   "id": "1fb80098",
   "metadata": {},
   "outputs": [],
   "source": [
    "#Q4.ZipFile objects have a close() method just like File objects’ close() method. \n",
    "#What ZipFile method is equivalent to File objects’ open() method?\n",
    "#A4. ZipFile Module provides a method called as zipfile.ZipFile() to read and write to zipFiles. \n",
    "#It takes arugments like filename and mode etc zipfile.ZipFile('filename', mode = 'r')"
   ]
  },
  {
   "cell_type": "code",
   "execution_count": 5,
   "id": "a9448416",
   "metadata": {},
   "outputs": [],
   "source": [
    "#Q5. Create a programme that searches a folder tree for files with a certain file extension (such as .pdf or .jpg). \n",
    "#Copy these files from whatever location they are in to a new folder.\n",
    "#A5. code\n",
    "import os\n",
    "import shutil\n",
    "def search(source,destination,extensions):\n",
    "    source = os.path.abspath(source)\n",
    "    destination = os.path.abspath(destination)\n",
    "    for foldername, subfolder, filenames in os.walk(source):\n",
    "        print(f'Folder Name ➞ {foldername}',end='\\n\\n')\n",
    "        print(f'Sub Folders ➞ {subfolder}',end='\\n\\n')\n",
    "        print(f'Files ➞ {filenames}',end='\\n\\n')\n",
    "        for filename in filenames:\n",
    "            fileName,extension = os.path.splitext(filename)\n",
    "            if extension in extensions:\n",
    "                targetFile = foldername+os.path.sep+fileName+extension\n",
    "                shutil.copy(targetFile, destination)\n",
    "        print(f'Files copied successfully from {source} to {destination}')\n",
    "    \n",
    "extensions = ['.pdf','.jpg','.ipynb']\n",
    "source = 'Dummy Source'\n",
    "destination = 'Dummy Destination'\n",
    "search(source, destination, extensions)"
   ]
  },
  {
   "cell_type": "code",
   "execution_count": null,
   "id": "e34bfedc",
   "metadata": {},
   "outputs": [],
   "source": []
  }
 ],
 "metadata": {
  "kernelspec": {
   "display_name": "Python 3 (ipykernel)",
   "language": "python",
   "name": "python3"
  },
  "language_info": {
   "codemirror_mode": {
    "name": "ipython",
    "version": 3
   },
   "file_extension": ".py",
   "mimetype": "text/x-python",
   "name": "python",
   "nbconvert_exporter": "python",
   "pygments_lexer": "ipython3",
   "version": "3.9.7"
  }
 },
 "nbformat": 4,
 "nbformat_minor": 5
}
