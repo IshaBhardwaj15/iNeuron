{
 "cells": [
  {
   "cell_type": "code",
   "execution_count": 4,
   "id": "966ce39c",
   "metadata": {},
   "outputs": [],
   "source": [
    "#1. In the below elements which of them are values or an expression?\n",
    "#eg:- values can be integer or string and expressions will be mathematical operators.\n",
    "# * = expression\n",
    "# 'hello' = value\n",
    "# -87.8 = value \n",
    "# - = expression\n",
    "# / = expression\n",
    "# + = expression\n",
    "# 6 = value"
   ]
  },
  {
   "cell_type": "code",
   "execution_count": 5,
   "id": "950fe6ba",
   "metadata": {},
   "outputs": [],
   "source": [
    "#2. What is the difference between string and variable?\n",
    "# String:- strings are text values comprising of alphabets.\n",
    "# Variable:- alphanumeric characters that are used to store a value, srting, or any other memory grabing function.\n",
    "# Main difference between them is Variable can hold strings but String can't hold a Variable. "
   ]
  },
  {
   "cell_type": "code",
   "execution_count": 6,
   "id": "5ddcb49a",
   "metadata": {},
   "outputs": [],
   "source": [
    "#3. Describe three different data types.\n",
    "#Integer\n",
    "#Float\n",
    "#String"
   ]
  },
  {
   "cell_type": "code",
   "execution_count": 7,
   "id": "d0530ee6",
   "metadata": {},
   "outputs": [],
   "source": [
    "#4. What is an expression made up of? What do all expressions do?\n",
    "#Expression is a combination of variables, operations and values that ultimately yields a result."
   ]
  },
  {
   "cell_type": "code",
   "execution_count": 8,
   "id": "94605cd2",
   "metadata": {},
   "outputs": [],
   "source": [
    "#5. This assignment statements, like spam = 10. What is the difference between an expression and a statement?\n",
    "#An expression can be assigned to any variable(e.g a,b,c) \n",
    "#while statement can't be assigned to any such variables"
   ]
  },
  {
   "cell_type": "code",
   "execution_count": 9,
   "id": "3c027c48",
   "metadata": {},
   "outputs": [
    {
     "data": {
      "text/plain": [
       "23"
      ]
     },
     "execution_count": 9,
     "metadata": {},
     "output_type": "execute_result"
    }
   ],
   "source": [
    "#6. After running the following code, what does the variable bacon contain?\n",
    "bacon = 22\n",
    "bacon + 1"
   ]
  },
  {
   "cell_type": "code",
   "execution_count": 11,
   "id": "4b9cf3e6",
   "metadata": {},
   "outputs": [
    {
     "data": {
      "text/plain": [
       "'spamspamspam'"
      ]
     },
     "execution_count": 11,
     "metadata": {},
     "output_type": "execute_result"
    }
   ],
   "source": [
    "#7. What should the values of the following two terms be?\n",
    "'spam' + 'spamspam'"
   ]
  },
  {
   "cell_type": "code",
   "execution_count": 12,
   "id": "3a288133",
   "metadata": {},
   "outputs": [
    {
     "data": {
      "text/plain": [
       "'spamspamspam'"
      ]
     },
     "execution_count": 12,
     "metadata": {},
     "output_type": "execute_result"
    }
   ],
   "source": [
    "'spam' * 3"
   ]
  },
  {
   "cell_type": "code",
   "execution_count": 13,
   "id": "fe54d678",
   "metadata": {},
   "outputs": [],
   "source": [
    "#8. Why is eggs a valid variable name while 100 is invalid?\n",
    "# this is so because 100 is an integer value and hence it cannot be used to store any other element be it string or another\n",
    "#interger, instead we can use any string such as eggs in this case to assign either a string or integer, or we can also use\n",
    "#alphanumeric charcters as a variable to store data like eggs1, eggs13, etc"
   ]
  },
  {
   "cell_type": "code",
   "execution_count": 15,
   "id": "c652860a",
   "metadata": {},
   "outputs": [],
   "source": [
    "#9. What three functions can be used to get the integer, floating-point number, or string version of a value?\n",
    "#int()\n",
    "#float()\n",
    "#str()"
   ]
  },
  {
   "cell_type": "code",
   "execution_count": 16,
   "id": "d01daf5c",
   "metadata": {},
   "outputs": [
    {
     "ename": "TypeError",
     "evalue": "can only concatenate str (not \"int\") to str",
     "output_type": "error",
     "traceback": [
      "\u001b[1;31m---------------------------------------------------------------------------\u001b[0m",
      "\u001b[1;31mTypeError\u001b[0m                                 Traceback (most recent call last)",
      "\u001b[1;32m~\\AppData\\Local\\Temp/ipykernel_5320/1361629906.py\u001b[0m in \u001b[0;36m<module>\u001b[1;34m\u001b[0m\n\u001b[0;32m      1\u001b[0m \u001b[1;31m#10. Why does this expression cause an error? How can you fix it?\u001b[0m\u001b[1;33m\u001b[0m\u001b[1;33m\u001b[0m\u001b[0m\n\u001b[1;32m----> 2\u001b[1;33m \u001b[1;34m'I have eaten '\u001b[0m \u001b[1;33m+\u001b[0m \u001b[1;36m99\u001b[0m \u001b[1;33m+\u001b[0m \u001b[1;34m' burritos.'\u001b[0m\u001b[1;33m\u001b[0m\u001b[1;33m\u001b[0m\u001b[0m\n\u001b[0m",
      "\u001b[1;31mTypeError\u001b[0m: can only concatenate str (not \"int\") to str"
     ]
    }
   ],
   "source": [
    "#10. Why does this expression cause an error? How can you fix it?\n",
    "'I have eaten ' + 99 + ' burritos.'"
   ]
  },
  {
   "cell_type": "code",
   "execution_count": 17,
   "id": "2e89637c",
   "metadata": {},
   "outputs": [
    {
     "data": {
      "text/plain": [
       "'I have eaten 99 burritos.'"
      ]
     },
     "execution_count": 17,
     "metadata": {},
     "output_type": "execute_result"
    }
   ],
   "source": [
    "#can only concatenate str (not \"int\") to str\n",
    "#can fix it by concatenating 99 into string\n",
    "'I have eaten ' +'99'+ ' burritos.'"
   ]
  }
 ],
 "metadata": {
  "kernelspec": {
   "display_name": "Python 3 (ipykernel)",
   "language": "python",
   "name": "python3"
  },
  "language_info": {
   "codemirror_mode": {
    "name": "ipython",
    "version": 3
   },
   "file_extension": ".py",
   "mimetype": "text/x-python",
   "name": "python",
   "nbconvert_exporter": "python",
   "pygments_lexer": "ipython3",
   "version": "3.9.7"
  }
 },
 "nbformat": 4,
 "nbformat_minor": 5
}
