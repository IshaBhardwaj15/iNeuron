{
 "cells": [
  {
   "cell_type": "code",
   "execution_count": 1,
   "id": "11963779",
   "metadata": {},
   "outputs": [],
   "source": [
    "#Q1. What does RGBA stand for?\n",
    "#A1. RGBA is a four-channel format containing data for Red, Green, Blue, and an Alpha value. Where Alpha Represents the Opacity."
   ]
  },
  {
   "cell_type": "code",
   "execution_count": 2,
   "id": "37ebc6e3",
   "metadata": {},
   "outputs": [],
   "source": [
    "#Q2. From the Pillow module, how do you get the RGBA value of any images?\n",
    "#A2. ImageColor.getcolor() gives rgba value of any image."
   ]
  },
  {
   "cell_type": "code",
   "execution_count": 3,
   "id": "29aa61b2",
   "metadata": {},
   "outputs": [],
   "source": [
    "#Q3. What is a box tuple, and how does it work?\n",
    "#A3. A box tuple is a tuple value of four integers: the left-edge x-coordinate, the top-edge y-coordinate,the width, and the \n",
    "#height, respectively."
   ]
  },
  {
   "cell_type": "code",
   "execution_count": 6,
   "id": "4272cd08",
   "metadata": {},
   "outputs": [
    {
     "name": "stdout",
     "output_type": "stream",
     "text": [
      "Width, Height -> (263, 352)\n",
      "Width, Height -> 263,352\n",
      "Width, Height -> 263,352\n"
     ]
    }
   ],
   "source": [
    "#Q4. Use your image and load in notebook then, How can you find out the width and height of an Image object?\n",
    "#A4. code\n",
    "from PIL import Image\n",
    "pic = Image.open(r\"C:\\Users\\ps4z\\OneDrive - Eurofins\\Pictures\\NABL Symbol- Eurofins GGN.jpg\")\n",
    "print(f'Width, Height -> {pic.size}') # Approach 1\n",
    "print(f'Width, Height -> {pic.width},{pic.height}') # Approach 2\n",
    "width,height = pic.size\n",
    "print(f'Width, Height -> {width},{height}') # Approach 3"
   ]
  },
  {
   "cell_type": "code",
   "execution_count": 7,
   "id": "96d37936",
   "metadata": {},
   "outputs": [],
   "source": [
    "#Q5. What method would you call to get Image object for a 100×100 image, excluding the lower-left quarter of it?\n",
    "#A5. Code\n",
    "from PIL import Image\n",
    "img = Image.open(r\"C:\\Users\\ps4z\\OneDrive - Eurofins\\Pictures\\NABL Symbol- Eurofins GGN.jpg\")\n",
    "new_img = img.crop((0,50,50,50))"
   ]
  },
  {
   "cell_type": "code",
   "execution_count": 8,
   "id": "e31a5dab",
   "metadata": {},
   "outputs": [],
   "source": [
    "#Q6. After making changes to an Image object, how could you save it as an image file?\n",
    "#A6. Code\n",
    "from PIL import Image\n",
    "pic = Image.open(r\"C:\\Users\\ps4z\\OneDrive - Eurofins\\Pictures\\NABL Symbol- Eurofins GGN.jpg\")\n",
    "pic.save('pic.jpg')"
   ]
  },
  {
   "cell_type": "code",
   "execution_count": 9,
   "id": "01328bea",
   "metadata": {},
   "outputs": [],
   "source": [
    "#Q7. What module contains Pillow’s shape-drawing code?\n",
    "#A7. Pillows ImageDraw module contains Shape drawing methods."
   ]
  },
  {
   "cell_type": "code",
   "execution_count": 10,
   "id": "7e97a6e2",
   "metadata": {},
   "outputs": [],
   "source": [
    "#Q8. Image objects do not have drawing methods. What kind of object does? How do you get this kind of object?\n",
    "#A8. ImageDraw objects have shape-drawing methods such as point(), line(), or rectangle().\n",
    "#They are returned by passing the Image object to the ImageDraw.Draw() function."
   ]
  }
 ],
 "metadata": {
  "kernelspec": {
   "display_name": "Python 3 (ipykernel)",
   "language": "python",
   "name": "python3"
  },
  "language_info": {
   "codemirror_mode": {
    "name": "ipython",
    "version": 3
   },
   "file_extension": ".py",
   "mimetype": "text/x-python",
   "name": "python",
   "nbconvert_exporter": "python",
   "pygments_lexer": "ipython3",
   "version": "3.9.7"
  }
 },
 "nbformat": 4,
 "nbformat_minor": 5
}
