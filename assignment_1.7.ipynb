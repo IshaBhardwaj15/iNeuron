{
 "cells": [
  {
   "cell_type": "code",
   "execution_count": 1,
   "id": "b7a7a9e1",
   "metadata": {},
   "outputs": [
    {
     "name": "stdout",
     "output_type": "stream",
     "text": [
      "re.compile('pattern')\n"
     ]
    }
   ],
   "source": [
    "#Q1. What is the name of the feature responsible for generating Regex objects?\n",
    "#A1. re.compile()\n",
    "import re\n",
    "x = re.compile(\"pattern\")\n",
    "type(x)\n",
    "print(x)"
   ]
  },
  {
   "cell_type": "code",
   "execution_count": 2,
   "id": "7a976f5d",
   "metadata": {},
   "outputs": [],
   "source": [
    "#Q2. Why do raw strings often appear in Regex objects?\n",
    "#A2. Regular expressions use the backslash character' \\' to indicate Metacharacters or to allow special characters \n",
    "#(speical sequences) to be used without invoking their special meaning. \n",
    "#This collides with Python’s usage of the same character for the same purpose in string literals. \n",
    "#Hence, Raw strings are used (e.g. r\"\\n\") so that backslashes do not have to be escaped."
   ]
  },
  {
   "cell_type": "code",
   "execution_count": 3,
   "id": "a51a1b19",
   "metadata": {},
   "outputs": [
    {
     "name": "stdout",
     "output_type": "stream",
     "text": [
      "Output= <re.Match object; span=(0, 1), match='I'>\n",
      "None\n"
     ]
    }
   ],
   "source": [
    "#Q3. What is the return value of the search() method?\n",
    "#A3. The return value of re.search(pattern,string) method is a match object if the pattern is observed in the string \n",
    "#else it returns a None\n",
    "import re\n",
    "match = re.search('i','Isha', flags=re.IGNORECASE)\n",
    "print('Output=',match)\n",
    "match = re.search('P','Isha', flags=re.IGNORECASE)\n",
    "print(match)"
   ]
  },
  {
   "cell_type": "code",
   "execution_count": 4,
   "id": "b432d0f6",
   "metadata": {},
   "outputs": [
    {
     "name": "stdout",
     "output_type": "stream",
     "text": [
      "Ineuron\n"
     ]
    }
   ],
   "source": [
    "#Q4. From a Match item, how do you get the actual strings that match the pattern?\n",
    "#A4. For Matched items group() method returns actual strings that matches the pattern\n",
    "import re\n",
    "match = re.search('ineuron','Ineuron', flags=re.IGNORECASE)\n",
    "print(match.group())"
   ]
  },
  {
   "cell_type": "code",
   "execution_count": 5,
   "id": "f31ef4f0",
   "metadata": {},
   "outputs": [
    {
     "name": "stdout",
     "output_type": "stream",
     "text": [
      "('915', '505-4242')\n",
      "915-505-4242\n",
      "915\n",
      "505-4242\n"
     ]
    }
   ],
   "source": [
    "#Q5. In the regex which created from the r'(\\d\\d\\d)-(\\d\\d\\d-\\d\\d\\d\\d)', what does group zero cover? Group 2? Group 1?\n",
    "#A5.  In the Regex r'(\\d\\d\\d)-(\\d\\d\\d-\\d\\d\\d\\d)' the zero group covers the entire pattern match where as the first group cover\n",
    "#(\\d\\d\\d and the second group cover (\\d\\d\\d-\\d\\d\\d\\d)\n",
    "import re\n",
    "Regex=re.compile(r'(\\d\\d\\d)-(\\d\\d\\d-\\d\\d\\d\\d)')\n",
    "x=Regex.search('915-505-4242')\n",
    "print(x.groups()) # Prints all groups in a tuple format\n",
    "print(x.group()) # Always returns the fully matched string \n",
    "print(x.group(1)) # Returns the first group\n",
    "print(x.group(2)) # Returns the second group"
   ]
  },
  {
   "cell_type": "code",
   "execution_count": 6,
   "id": "58a67f91",
   "metadata": {},
   "outputs": [
    {
     "name": "stdout",
     "output_type": "stream",
     "text": [
      "(915) 505-4242\n"
     ]
    }
   ],
   "source": [
    "#Q6. In standard expression syntax, parentheses and intervals have distinct meanings.\n",
    "#How can you tell a regex that you want it to fit real parentheses and periods?\n",
    "#A6. The \\. \\( and \\) escape characters in the raw string passed to re.compile() will match actual parenthesis characters.\n",
    "import re\n",
    "Regex = re.compile(r'(\\(\\d\\d\\d\\)) (\\d\\d\\d-\\d\\d\\d\\d)')\n",
    "x=Regex.search('(915) 505-4242')\n",
    "print(x.group())"
   ]
  },
  {
   "cell_type": "code",
   "execution_count": 7,
   "id": "204d4b75",
   "metadata": {},
   "outputs": [
    {
     "name": "stdout",
     "output_type": "stream",
     "text": [
      "[('(915)', '505-4242')]\n",
      "['915-505-4242']\n"
     ]
    }
   ],
   "source": [
    "#Q7. The findall() method returns a string list or a list of string tuples. What causes it to return one of the two options?\n",
    "#A7.  If the regex pattern has no groups, a list of strings matched is returned.\n",
    "#If the regex pattern has groups, a list of tuple of strings is returned.\n",
    "import re\n",
    "Regex = re.compile(r'(\\(\\d\\d\\d\\)) (\\d\\d\\d-\\d\\d\\d\\d)')\n",
    "x=Regex.findall('(915) 505-4242')\n",
    "print(x)\n",
    "import re\n",
    "Regex = re.compile(r'\\d{3}-\\d{3}-\\d{4}')\n",
    "x=Regex.findall('915-505-4242')\n",
    "print(x)"
   ]
  },
  {
   "cell_type": "code",
   "execution_count": 8,
   "id": "37ba209a",
   "metadata": {},
   "outputs": [],
   "source": [
    "#Q8. In standard expressions, what does the | character mean?\n",
    "#A8. OR operator"
   ]
  },
  {
   "cell_type": "code",
   "execution_count": 9,
   "id": "79d42252",
   "metadata": {},
   "outputs": [
    {
     "name": "stdout",
     "output_type": "stream",
     "text": [
      "<re.Match object; span=(0, 6), match='Catman'>\n",
      "<re.Match object; span=(0, 8), match='Catwoman'>\n"
     ]
    }
   ],
   "source": [
    "#Q9. In regular expressions, what does the character ? stand for?\n",
    "#A9. ? characters represents zero or one match of the preceeding group\n",
    "import re\n",
    "match_1 = re.search(\"Cat(wo)?man\",\"Catman\")\n",
    "print(match_1)\n",
    "match_2 = re.search(\"Cat(wo)?man\",\"Catwoman\")\n",
    "print(match_2)"
   ]
  },
  {
   "cell_type": "code",
   "execution_count": 10,
   "id": "c3991956",
   "metadata": {},
   "outputs": [
    {
     "name": "stdout",
     "output_type": "stream",
     "text": [
      "<re.Match object; span=(0, 6), match='Catman'>\n",
      "<re.Match object; span=(0, 8), match='Catwoman'>\n"
     ]
    }
   ],
   "source": [
    "#Q10. In regular expressions, what is the difference between the + and * characters?\n",
    "#A10. * Represents Zero ore more occurances of the preceeding group, \n",
    "#whereas + represents one or more occurances of the preceeding group.\n",
    "import re\n",
    "match_1 = re.search(\"Cat(wo)*man\",\"Catman\")\n",
    "print(match_1)\n",
    "match_2 = re.search(\"Cat(wo)+man\",\"Catwoman\")\n",
    "print(match_2)"
   ]
  },
  {
   "cell_type": "code",
   "execution_count": 11,
   "id": "297bd832",
   "metadata": {},
   "outputs": [
    {
     "name": "stdout",
     "output_type": "stream",
     "text": [
      "BlahBlahBlah\n",
      "None\n"
     ]
    }
   ],
   "source": [
    "#Q11. What is the difference between {4} and {4,5} in regular expression?\n",
    "#A11. {4} means that its preceeding group should repeat 4 times\n",
    "#whereas {4,5} means that its preceeding group should repeat mininum 4 times and maximum 5 times inclusively\n",
    "import re\n",
    "Regex = re.compile(r'(Blah){3}')\n",
    "m1 = Regex.search('BlahBlahBlah')\n",
    "m2 = Regex.search('Blah')\n",
    "print(m1.group())\n",
    "print(m2)"
   ]
  },
  {
   "cell_type": "code",
   "execution_count": 12,
   "id": "f2983a44",
   "metadata": {},
   "outputs": [],
   "source": [
    "#Q12. What do you mean by the \\d, \\w, and \\s shorthand character classes signify in regular expressions?\n",
    "#A12.\\w – Matches characters equivalent to [a-z,A-Z,0-9]\n",
    "#\\d – Matches digits equivalent to [0-9]\n",
    "#\\s – Matches whitespace character (space, tab, newline, etc.)"
   ]
  },
  {
   "cell_type": "code",
   "execution_count": 13,
   "id": "6a87b8cd",
   "metadata": {},
   "outputs": [],
   "source": [
    "#Q13. What do means by \\D, \\W, and \\S shorthand character classes signify in regular expressions?\n",
    "#A13. \\W – Matches any non-alphanumeric character equivalent to [^a-z,A-Z,0-9]\n",
    "#\\D – Matches any non-digit character, this is equivalent to the set class [^0-9]\n",
    "#\\S – Matches any non-whitespace character"
   ]
  },
  {
   "cell_type": "code",
   "execution_count": 14,
   "id": "ef5b0416",
   "metadata": {},
   "outputs": [],
   "source": [
    "#Q14. What is the difference between .*? and .*?\n",
    "#A14. .* is a Greedy mode, which returns the longest string that meets the condition.\n",
    "#Whereas .*? is a non greedy mode which returns the shortest string that meets the condition."
   ]
  },
  {
   "cell_type": "code",
   "execution_count": 15,
   "id": "12b1dcd2",
   "metadata": {},
   "outputs": [],
   "source": [
    "#Q15. What is the syntax for matching both numbers and lowercase letters with a character class?\n",
    "#A15. [a-z0-9] or [0-9a-z]"
   ]
  },
  {
   "cell_type": "code",
   "execution_count": 16,
   "id": "dbda0ec6",
   "metadata": {},
   "outputs": [],
   "source": [
    "#Q16. What is the procedure for making a normal expression in regax case insensitive?\n",
    "#A16. re.IGNORECASE will accomplish the task"
   ]
  },
  {
   "cell_type": "code",
   "execution_count": 17,
   "id": "5eff43d7",
   "metadata": {},
   "outputs": [],
   "source": [
    "#Q17. What does the . character normally match? What does it match if re.DOTALL is passed as 2nd argument in re.compile()?\n",
    "#A17. '.' character matches everything in input except newline character.\n",
    "#By passing re.DOTALL as a flag to re.compile(),we can make the dot character to match all characters, \n",
    "#including the newline character."
   ]
  },
  {
   "cell_type": "code",
   "execution_count": 18,
   "id": "ea9044ba",
   "metadata": {},
   "outputs": [
    {
     "data": {
      "text/plain": [
       "'X drummers, X pipers, five rings, X hen'"
      ]
     },
     "execution_count": 18,
     "metadata": {},
     "output_type": "execute_result"
    }
   ],
   "source": [
    "#Q18. If numReg = re.compile(r'\\d+'), what will numRegex.sub('X', '11 drummers, 10 pipers, five rings, 4 hen') return?\n",
    "#A18. code\n",
    "import re\n",
    "numReg = re.compile(r'\\d+')\n",
    "numReg.sub('X', '11 drummers, 10 pipers, five rings, 4 hen')"
   ]
  },
  {
   "cell_type": "code",
   "execution_count": 19,
   "id": "cd990e7a",
   "metadata": {},
   "outputs": [],
   "source": [
    "#Q19. What does passing re.VERBOSE as the 2nd argument to re.compile() allow to do?\n",
    "#A19. re.VERBOSE will allow to add whitespace and comments to string passed to re.compile()\n",
    "# Without Using VERBOSE\n",
    "regex_email = re.compile(r'^([a-z0-9_\\.-]+)@([0-9a-z\\.-]+)\\.([a-z\\.]{2, 6})$', re.IGNORECASE)\n",
    "# Using VERBOSE\n",
    "regex_email = re.compile(r\"\"\"\n",
    "                            ^([a-z0-9_\\.-]+)              # local Part like username\n",
    "                            @                             # single @ sign \n",
    "                            ([0-9a-z\\.-]+)                # Domain name like google\n",
    "                            \\.                            # single Dot .\n",
    "                            ([a-z]{2,6})$                 # Top level Domain  like com/in/org\n",
    "                         \"\"\",re.VERBOSE | re.IGNORECASE)"
   ]
  },
  {
   "cell_type": "code",
   "execution_count": 20,
   "id": "d649c384",
   "metadata": {},
   "outputs": [
    {
     "name": "stdout",
     "output_type": "stream",
     "text": [
      "42 <re.Match object; span=(0, 2), match='42'>\n",
      "1,234 <re.Match object; span=(0, 5), match='1,234'>\n",
      "6,368,745 <re.Match object; span=(0, 9), match='6,368,745'>\n",
      "12,34,567 None\n",
      "1234 None\n"
     ]
    }
   ],
   "source": [
    "#Q20. How would you write a regex that match a number with comma for every three digits? It must match the given following:\n",
    "#'42'\n",
    "#'1,234'\n",
    "#'6,368,745'\n",
    "#but not the following:\n",
    "#'12,34,567' (which has only two digits between the commas)\n",
    "#'1234' (which lacks commas)\n",
    "#A20. code\n",
    "import re\n",
    "pattern = r'^\\d{1,3}(,\\d{3})*$'\n",
    "regex = re.compile(pattern)\n",
    "for i in ['42','1,234', '6,368,745','12,34,567','1234']:\n",
    "    print(i, regex.search(i))"
   ]
  },
  {
   "cell_type": "code",
   "execution_count": 21,
   "id": "82bf28cc",
   "metadata": {},
   "outputs": [
    {
     "name": "stdout",
     "output_type": "stream",
     "text": [
      "Haruto Watanabe <re.Match object; span=(0, 15), match='Haruto Watanabe'>\n",
      "Alice Watanabe <re.Match object; span=(0, 14), match='Alice Watanabe'>\n",
      "RoboCop Watanabe <re.Match object; span=(4, 16), match='Cop Watanabe'>\n",
      "haruto Watanabe None\n",
      "Mr. Watanabe None\n",
      "Watanabe None\n",
      "Haruto watanabe None\n"
     ]
    }
   ],
   "source": [
    "#Q21. How would you write a regex that matches the full name of someone whose last name is Watanabe?\n",
    "#You can assume that the first name that comes before it will always be one word that begins with a capital letter.\n",
    "#The regex must match the following:\n",
    "#'Haruto Watanabe'\n",
    "#'Alice Watanabe'\n",
    "#'RoboCop Watanabe'\n",
    "#but not the following:\n",
    "#'haruto Watanabe' (where the first name is not capitalized)\n",
    "#'Mr. Watanabe' (where the preceding word has a nonletter character)\n",
    "#'Watanabe' (which has no first name)\n",
    "#'Haruto watanabe' (where Watanabe is not capitalized)\n",
    "#A21. code\n",
    "import re\n",
    "pattern = r'[A-Z]{1}[a-z]*\\sWatanabe'\n",
    "regex=re.compile(pattern)\n",
    "for i in ['Haruto Watanabe','Alice Watanabe','RoboCop Watanabe','haruto Watanabe','Mr. Watanabe','Watanabe','Haruto watanabe']:\n",
    "    print(i,regex.search(i))"
   ]
  },
  {
   "cell_type": "code",
   "execution_count": 22,
   "id": "61bad0e4",
   "metadata": {},
   "outputs": [
    {
     "name": "stdout",
     "output_type": "stream",
     "text": [
      "Alice eats apples. <re.Match object; span=(0, 18), match='Alice eats apples.'>\n",
      "Bob pets cats. <re.Match object; span=(0, 14), match='Bob pets cats.'>\n",
      "Carol throws baseballs. <re.Match object; span=(0, 23), match='Carol throws baseballs.'>\n",
      "Alice throws Apples. <re.Match object; span=(0, 20), match='Alice throws Apples.'>\n",
      "BOB EATS CATS. <re.Match object; span=(0, 14), match='BOB EATS CATS.'>\n",
      "RoboCop eats apples. None\n",
      "ALICE THROWS FOOTBALLS. None\n",
      "Carol eats 7 cats. None\n"
     ]
    }
   ],
   "source": [
    "#Q22. How would you write a regex that matches a sentence where the first word is either Alice, Bob, or Carol;\n",
    "#the second word is either eats, pets, or throws; the third word is apples, cats, or baseballs; and the sentence\n",
    "#ends with a period? This regex should be case-insensitive. It must match the following:\n",
    "#'Alice eats apples.'\n",
    "#'Bob pets cats.'\n",
    "#'Carol throws baseballs.'\n",
    "#'Alice throws Apples.'\n",
    "#'BOB EATS CATS.'\n",
    "#but not the following:\n",
    "#'RoboCop eats apples.'\n",
    "#'ALICE THROWS FOOTBALLS.'\n",
    "#'Carol eats 7 cats.'\n",
    "#A22. code\n",
    "import re\n",
    "pattern=r'(Alice|Bob|Carol)\\s(eats|pets|throws)\\s(apples|cats|baseballs)\\.'\n",
    "regex = re.compile(pattern,re.IGNORECASE)\n",
    "for i in ['Alice eats apples.','Bob pets cats.','Carol throws baseballs.','Alice throws Apples.','BOB EATS CATS.',\n",
    "          'RoboCop eats apples.','ALICE THROWS FOOTBALLS.','Carol eats 7 cats.']:\n",
    "    print(i,regex.search(i))"
   ]
  }
 ],
 "metadata": {
  "kernelspec": {
   "display_name": "Python 3 (ipykernel)",
   "language": "python",
   "name": "python3"
  },
  "language_info": {
   "codemirror_mode": {
    "name": "ipython",
    "version": 3
   },
   "file_extension": ".py",
   "mimetype": "text/x-python",
   "name": "python",
   "nbconvert_exporter": "python",
   "pygments_lexer": "ipython3",
   "version": "3.9.7"
  }
 },
 "nbformat": 4,
 "nbformat_minor": 5
}
